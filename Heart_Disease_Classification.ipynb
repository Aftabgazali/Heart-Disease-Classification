{
  "nbformat": 4,
  "nbformat_minor": 0,
  "metadata": {
    "colab": {
      "name": "Heart Disease Classification.ipynb",
      "provenance": [],
      "collapsed_sections": [
        "25QerrZPz7Mt",
        "cS6V7nqj0BA4",
        "-mIgqbPsFTyY",
        "LkjkiGPi1qkY",
        "nY8t24kJnzgk",
        "5csiQKHZlnIV",
        "CPx3kozakLmV",
        "erI81QqingRn",
        "_Ydm_AbOKvWr",
        "3o_1odknK9xl",
        "xTJWr3ARPe66",
        "5FRijftGyn1_",
        "ubCR0XqN1jrf",
        "im3W4yJL3yYJ",
        "K0BKuz9h-6lh",
        "dIl7JL2d_zDq",
        "HkxerGZfCc62",
        "PmMPA5ClEXf3",
        "hysUymhtGbEx",
        "6X_kzNWEHxVk",
        "0EQEFG2pMSOV",
        "5z4EG9FGN-dE",
        "yJ4stgDoRYk0",
        "0Q6x6DwETdtp",
        "7FQIknoPVmhk",
        "jwtKfv66WpvN",
        "xJo98jYI_lhc",
        "0QM8uBM4BfLc",
        "00nkcflPE_rk",
        "M2J1h6JTFi5D",
        "UGfK5YSIGZSz",
        "DDuNlAeEITUc",
        "xm2c7HSKGz7V",
        "aZP_o0XUekCI",
        "3TJO9ZiDl3_4",
        "8f5F7kX9l-9Q",
        "Bn69GYVrPeAh",
        "Qq_TbPIQgzHT",
        "3VesL2Udi4KP",
        "Cols-CbKjB0j",
        "pAdoWnLJn1DC",
        "E38j9KjV3_Mn",
        "xZTjsOL2qkY-",
        "37OVexBg8FjV",
        "_fl7voRfg6Kv",
        "LA-Cm90xk9RN",
        "y9aIhzsLk_Sy",
        "xc3ow0gKmPj7",
        "y82jeensmd_B",
        "6vJ2XeMwpP1q",
        "Xckivg2vSGBf",
        "5KXW6n0HX7ur"
      ],
      "authorship_tag": "ABX9TyOVqryYaXGT9rd0YcVHtasQ",
      "include_colab_link": true
    },
    "kernelspec": {
      "name": "python3",
      "display_name": "Python 3"
    },
    "language_info": {
      "name": "python"
    },
    "accelerator": "GPU"
  },
  "cells": [
    {
      "cell_type": "markdown",
      "metadata": {
        "id": "view-in-github",
        "colab_type": "text"
      },
      "source": [
        "<a href=\"https://colab.research.google.com/github/Aftabgazali/Heart-Disease-Classification/blob/main/Heart_Disease_Classification.ipynb\" target=\"_parent\"><img src=\"https://colab.research.google.com/assets/colab-badge.svg\" alt=\"Open In Colab\"/></a>"
      ]
    },
    {
      "cell_type": "markdown",
      "metadata": {
        "id": "25QerrZPz7Mt"
      },
      "source": [
        "## Importing Libraries"
      ]
    },
    {
      "cell_type": "code",
      "metadata": {
        "id": "rTnSyTVLElQ2"
      },
      "source": [
        "import pandas as pd \n",
        "import numpy as np\n",
        "import matplotlib.pyplot as plt\n",
        "import seaborn as sns\n",
        "import plotly\n",
        "import plotly.express as px"
      ],
      "execution_count": 212,
      "outputs": []
    },
    {
      "cell_type": "markdown",
      "metadata": {
        "id": "cS6V7nqj0BA4"
      },
      "source": [
        "## Reading CSV File"
      ]
    },
    {
      "cell_type": "code",
      "metadata": {
        "id": "kV39yNZiFFUQ",
        "colab": {
          "base_uri": "https://localhost:8080/",
          "height": 0
        },
        "outputId": "86d27925-5f54-4c7e-e939-b4a3ffefd81e"
      },
      "source": [
        "df=pd.read_csv('heart.csv')\n",
        "df.head()"
      ],
      "execution_count": 213,
      "outputs": [
        {
          "output_type": "execute_result",
          "data": {
            "text/html": [
              "<div>\n",
              "<style scoped>\n",
              "    .dataframe tbody tr th:only-of-type {\n",
              "        vertical-align: middle;\n",
              "    }\n",
              "\n",
              "    .dataframe tbody tr th {\n",
              "        vertical-align: top;\n",
              "    }\n",
              "\n",
              "    .dataframe thead th {\n",
              "        text-align: right;\n",
              "    }\n",
              "</style>\n",
              "<table border=\"1\" class=\"dataframe\">\n",
              "  <thead>\n",
              "    <tr style=\"text-align: right;\">\n",
              "      <th></th>\n",
              "      <th>age</th>\n",
              "      <th>sex</th>\n",
              "      <th>cp</th>\n",
              "      <th>trestbps</th>\n",
              "      <th>chol</th>\n",
              "      <th>fbs</th>\n",
              "      <th>restecg</th>\n",
              "      <th>thalach</th>\n",
              "      <th>exang</th>\n",
              "      <th>oldpeak</th>\n",
              "      <th>slope</th>\n",
              "      <th>ca</th>\n",
              "      <th>thal</th>\n",
              "      <th>target</th>\n",
              "    </tr>\n",
              "  </thead>\n",
              "  <tbody>\n",
              "    <tr>\n",
              "      <th>0</th>\n",
              "      <td>63</td>\n",
              "      <td>1</td>\n",
              "      <td>3</td>\n",
              "      <td>145</td>\n",
              "      <td>233</td>\n",
              "      <td>1</td>\n",
              "      <td>0</td>\n",
              "      <td>150</td>\n",
              "      <td>0</td>\n",
              "      <td>2.3</td>\n",
              "      <td>0</td>\n",
              "      <td>0</td>\n",
              "      <td>1</td>\n",
              "      <td>1</td>\n",
              "    </tr>\n",
              "    <tr>\n",
              "      <th>1</th>\n",
              "      <td>37</td>\n",
              "      <td>1</td>\n",
              "      <td>2</td>\n",
              "      <td>130</td>\n",
              "      <td>250</td>\n",
              "      <td>0</td>\n",
              "      <td>1</td>\n",
              "      <td>187</td>\n",
              "      <td>0</td>\n",
              "      <td>3.5</td>\n",
              "      <td>0</td>\n",
              "      <td>0</td>\n",
              "      <td>2</td>\n",
              "      <td>1</td>\n",
              "    </tr>\n",
              "    <tr>\n",
              "      <th>2</th>\n",
              "      <td>41</td>\n",
              "      <td>0</td>\n",
              "      <td>1</td>\n",
              "      <td>130</td>\n",
              "      <td>204</td>\n",
              "      <td>0</td>\n",
              "      <td>0</td>\n",
              "      <td>172</td>\n",
              "      <td>0</td>\n",
              "      <td>1.4</td>\n",
              "      <td>2</td>\n",
              "      <td>0</td>\n",
              "      <td>2</td>\n",
              "      <td>1</td>\n",
              "    </tr>\n",
              "    <tr>\n",
              "      <th>3</th>\n",
              "      <td>56</td>\n",
              "      <td>1</td>\n",
              "      <td>1</td>\n",
              "      <td>120</td>\n",
              "      <td>236</td>\n",
              "      <td>0</td>\n",
              "      <td>1</td>\n",
              "      <td>178</td>\n",
              "      <td>0</td>\n",
              "      <td>0.8</td>\n",
              "      <td>2</td>\n",
              "      <td>0</td>\n",
              "      <td>2</td>\n",
              "      <td>1</td>\n",
              "    </tr>\n",
              "    <tr>\n",
              "      <th>4</th>\n",
              "      <td>57</td>\n",
              "      <td>0</td>\n",
              "      <td>0</td>\n",
              "      <td>120</td>\n",
              "      <td>354</td>\n",
              "      <td>0</td>\n",
              "      <td>1</td>\n",
              "      <td>163</td>\n",
              "      <td>1</td>\n",
              "      <td>0.6</td>\n",
              "      <td>2</td>\n",
              "      <td>0</td>\n",
              "      <td>2</td>\n",
              "      <td>1</td>\n",
              "    </tr>\n",
              "  </tbody>\n",
              "</table>\n",
              "</div>"
            ],
            "text/plain": [
              "   age  sex  cp  trestbps  chol  fbs  ...  exang  oldpeak  slope  ca  thal  target\n",
              "0   63    1   3       145   233    1  ...      0      2.3      0   0     1       1\n",
              "1   37    1   2       130   250    0  ...      0      3.5      0   0     2       1\n",
              "2   41    0   1       130   204    0  ...      0      1.4      2   0     2       1\n",
              "3   56    1   1       120   236    0  ...      0      0.8      2   0     2       1\n",
              "4   57    0   0       120   354    0  ...      1      0.6      2   0     2       1\n",
              "\n",
              "[5 rows x 14 columns]"
            ]
          },
          "metadata": {
            "tags": []
          },
          "execution_count": 213
        }
      ]
    },
    {
      "cell_type": "markdown",
      "metadata": {
        "id": "-mIgqbPsFTyY"
      },
      "source": [
        "## Exploring the dataset"
      ]
    },
    {
      "cell_type": "code",
      "metadata": {
        "id": "GZwU0Kp_Fdh7",
        "colab": {
          "base_uri": "https://localhost:8080/"
        },
        "outputId": "768a6683-8726-46b6-9d17-3e11a4e9f8a7"
      },
      "source": [
        "print('This Dataset has {} rows and {} columns'.format(df.shape[0],df.shape[1]))"
      ],
      "execution_count": 214,
      "outputs": [
        {
          "output_type": "stream",
          "text": [
            "This Dataset has 303 rows and 14 columns\n"
          ],
          "name": "stdout"
        }
      ]
    },
    {
      "cell_type": "code",
      "metadata": {
        "id": "kEeXKPow3JTG",
        "colab": {
          "base_uri": "https://localhost:8080/"
        },
        "outputId": "09d98b80-37a5-484a-bbbc-a693e29b7cc6"
      },
      "source": [
        "df.info()"
      ],
      "execution_count": 215,
      "outputs": [
        {
          "output_type": "stream",
          "text": [
            "<class 'pandas.core.frame.DataFrame'>\n",
            "RangeIndex: 303 entries, 0 to 302\n",
            "Data columns (total 14 columns):\n",
            " #   Column    Non-Null Count  Dtype  \n",
            "---  ------    --------------  -----  \n",
            " 0   age       303 non-null    int64  \n",
            " 1   sex       303 non-null    int64  \n",
            " 2   cp        303 non-null    int64  \n",
            " 3   trestbps  303 non-null    int64  \n",
            " 4   chol      303 non-null    int64  \n",
            " 5   fbs       303 non-null    int64  \n",
            " 6   restecg   303 non-null    int64  \n",
            " 7   thalach   303 non-null    int64  \n",
            " 8   exang     303 non-null    int64  \n",
            " 9   oldpeak   303 non-null    float64\n",
            " 10  slope     303 non-null    int64  \n",
            " 11  ca        303 non-null    int64  \n",
            " 12  thal      303 non-null    int64  \n",
            " 13  target    303 non-null    int64  \n",
            "dtypes: float64(1), int64(13)\n",
            "memory usage: 33.3 KB\n"
          ],
          "name": "stdout"
        }
      ]
    },
    {
      "cell_type": "code",
      "metadata": {
        "id": "IjqeA8Ku3fBj",
        "colab": {
          "base_uri": "https://localhost:8080/",
          "height": 0
        },
        "outputId": "26edbc1e-9fc4-4be1-e619-0900ac11796f"
      },
      "source": [
        "# Checking if the dataset contain null values or not\n",
        "df.isnull().sum().to_frame().rename(columns={0:\"Null values\"})\n",
        "\n",
        "# Therefore we don't have any null values"
      ],
      "execution_count": 216,
      "outputs": [
        {
          "output_type": "execute_result",
          "data": {
            "text/html": [
              "<div>\n",
              "<style scoped>\n",
              "    .dataframe tbody tr th:only-of-type {\n",
              "        vertical-align: middle;\n",
              "    }\n",
              "\n",
              "    .dataframe tbody tr th {\n",
              "        vertical-align: top;\n",
              "    }\n",
              "\n",
              "    .dataframe thead th {\n",
              "        text-align: right;\n",
              "    }\n",
              "</style>\n",
              "<table border=\"1\" class=\"dataframe\">\n",
              "  <thead>\n",
              "    <tr style=\"text-align: right;\">\n",
              "      <th></th>\n",
              "      <th>Null values</th>\n",
              "    </tr>\n",
              "  </thead>\n",
              "  <tbody>\n",
              "    <tr>\n",
              "      <th>age</th>\n",
              "      <td>0</td>\n",
              "    </tr>\n",
              "    <tr>\n",
              "      <th>sex</th>\n",
              "      <td>0</td>\n",
              "    </tr>\n",
              "    <tr>\n",
              "      <th>cp</th>\n",
              "      <td>0</td>\n",
              "    </tr>\n",
              "    <tr>\n",
              "      <th>trestbps</th>\n",
              "      <td>0</td>\n",
              "    </tr>\n",
              "    <tr>\n",
              "      <th>chol</th>\n",
              "      <td>0</td>\n",
              "    </tr>\n",
              "    <tr>\n",
              "      <th>fbs</th>\n",
              "      <td>0</td>\n",
              "    </tr>\n",
              "    <tr>\n",
              "      <th>restecg</th>\n",
              "      <td>0</td>\n",
              "    </tr>\n",
              "    <tr>\n",
              "      <th>thalach</th>\n",
              "      <td>0</td>\n",
              "    </tr>\n",
              "    <tr>\n",
              "      <th>exang</th>\n",
              "      <td>0</td>\n",
              "    </tr>\n",
              "    <tr>\n",
              "      <th>oldpeak</th>\n",
              "      <td>0</td>\n",
              "    </tr>\n",
              "    <tr>\n",
              "      <th>slope</th>\n",
              "      <td>0</td>\n",
              "    </tr>\n",
              "    <tr>\n",
              "      <th>ca</th>\n",
              "      <td>0</td>\n",
              "    </tr>\n",
              "    <tr>\n",
              "      <th>thal</th>\n",
              "      <td>0</td>\n",
              "    </tr>\n",
              "    <tr>\n",
              "      <th>target</th>\n",
              "      <td>0</td>\n",
              "    </tr>\n",
              "  </tbody>\n",
              "</table>\n",
              "</div>"
            ],
            "text/plain": [
              "          Null values\n",
              "age                 0\n",
              "sex                 0\n",
              "cp                  0\n",
              "trestbps            0\n",
              "chol                0\n",
              "fbs                 0\n",
              "restecg             0\n",
              "thalach             0\n",
              "exang               0\n",
              "oldpeak             0\n",
              "slope               0\n",
              "ca                  0\n",
              "thal                0\n",
              "target              0"
            ]
          },
          "metadata": {
            "tags": []
          },
          "execution_count": 216
        }
      ]
    },
    {
      "cell_type": "code",
      "metadata": {
        "id": "IlVt22sr31AW",
        "colab": {
          "base_uri": "https://localhost:8080/",
          "height": 0
        },
        "outputId": "1b56a63f-eb24-4ebe-bce0-25c1e530e725"
      },
      "source": [
        "# describe our dataset\n",
        "df.describe().\\\n",
        "style.background_gradient(axis=1,cmap=sns.light_palette('green', as_cmap=True))"
      ],
      "execution_count": 217,
      "outputs": [
        {
          "output_type": "execute_result",
          "data": {
            "text/html": [
              "<style  type=\"text/css\" >\n",
              "#T_498aa7e8_9c80_11eb_a54a_0242ac1c0002row0_col0,#T_498aa7e8_9c80_11eb_a54a_0242ac1c0002row0_col1,#T_498aa7e8_9c80_11eb_a54a_0242ac1c0002row0_col2,#T_498aa7e8_9c80_11eb_a54a_0242ac1c0002row0_col3,#T_498aa7e8_9c80_11eb_a54a_0242ac1c0002row0_col4,#T_498aa7e8_9c80_11eb_a54a_0242ac1c0002row0_col5,#T_498aa7e8_9c80_11eb_a54a_0242ac1c0002row0_col6,#T_498aa7e8_9c80_11eb_a54a_0242ac1c0002row0_col7,#T_498aa7e8_9c80_11eb_a54a_0242ac1c0002row0_col8,#T_498aa7e8_9c80_11eb_a54a_0242ac1c0002row0_col9,#T_498aa7e8_9c80_11eb_a54a_0242ac1c0002row0_col10,#T_498aa7e8_9c80_11eb_a54a_0242ac1c0002row0_col11,#T_498aa7e8_9c80_11eb_a54a_0242ac1c0002row0_col12,#T_498aa7e8_9c80_11eb_a54a_0242ac1c0002row0_col13,#T_498aa7e8_9c80_11eb_a54a_0242ac1c0002row1_col1,#T_498aa7e8_9c80_11eb_a54a_0242ac1c0002row1_col2,#T_498aa7e8_9c80_11eb_a54a_0242ac1c0002row1_col5,#T_498aa7e8_9c80_11eb_a54a_0242ac1c0002row1_col6,#T_498aa7e8_9c80_11eb_a54a_0242ac1c0002row1_col8,#T_498aa7e8_9c80_11eb_a54a_0242ac1c0002row1_col9,#T_498aa7e8_9c80_11eb_a54a_0242ac1c0002row1_col11,#T_498aa7e8_9c80_11eb_a54a_0242ac1c0002row1_col13,#T_498aa7e8_9c80_11eb_a54a_0242ac1c0002row2_col1,#T_498aa7e8_9c80_11eb_a54a_0242ac1c0002row2_col5,#T_498aa7e8_9c80_11eb_a54a_0242ac1c0002row2_col6,#T_498aa7e8_9c80_11eb_a54a_0242ac1c0002row2_col8,#T_498aa7e8_9c80_11eb_a54a_0242ac1c0002row2_col13,#T_498aa7e8_9c80_11eb_a54a_0242ac1c0002row3_col1,#T_498aa7e8_9c80_11eb_a54a_0242ac1c0002row3_col2,#T_498aa7e8_9c80_11eb_a54a_0242ac1c0002row3_col5,#T_498aa7e8_9c80_11eb_a54a_0242ac1c0002row3_col6,#T_498aa7e8_9c80_11eb_a54a_0242ac1c0002row3_col8,#T_498aa7e8_9c80_11eb_a54a_0242ac1c0002row3_col9,#T_498aa7e8_9c80_11eb_a54a_0242ac1c0002row3_col10,#T_498aa7e8_9c80_11eb_a54a_0242ac1c0002row3_col11,#T_498aa7e8_9c80_11eb_a54a_0242ac1c0002row3_col12,#T_498aa7e8_9c80_11eb_a54a_0242ac1c0002row3_col13,#T_498aa7e8_9c80_11eb_a54a_0242ac1c0002row4_col1,#T_498aa7e8_9c80_11eb_a54a_0242ac1c0002row4_col2,#T_498aa7e8_9c80_11eb_a54a_0242ac1c0002row4_col5,#T_498aa7e8_9c80_11eb_a54a_0242ac1c0002row4_col6,#T_498aa7e8_9c80_11eb_a54a_0242ac1c0002row4_col8,#T_498aa7e8_9c80_11eb_a54a_0242ac1c0002row4_col9,#T_498aa7e8_9c80_11eb_a54a_0242ac1c0002row4_col11,#T_498aa7e8_9c80_11eb_a54a_0242ac1c0002row4_col13,#T_498aa7e8_9c80_11eb_a54a_0242ac1c0002row5_col5,#T_498aa7e8_9c80_11eb_a54a_0242ac1c0002row5_col8,#T_498aa7e8_9c80_11eb_a54a_0242ac1c0002row5_col9,#T_498aa7e8_9c80_11eb_a54a_0242ac1c0002row5_col11,#T_498aa7e8_9c80_11eb_a54a_0242ac1c0002row6_col1,#T_498aa7e8_9c80_11eb_a54a_0242ac1c0002row6_col5,#T_498aa7e8_9c80_11eb_a54a_0242ac1c0002row6_col6,#T_498aa7e8_9c80_11eb_a54a_0242ac1c0002row6_col8,#T_498aa7e8_9c80_11eb_a54a_0242ac1c0002row6_col11,#T_498aa7e8_9c80_11eb_a54a_0242ac1c0002row6_col13,#T_498aa7e8_9c80_11eb_a54a_0242ac1c0002row7_col1,#T_498aa7e8_9c80_11eb_a54a_0242ac1c0002row7_col2,#T_498aa7e8_9c80_11eb_a54a_0242ac1c0002row7_col5,#T_498aa7e8_9c80_11eb_a54a_0242ac1c0002row7_col6,#T_498aa7e8_9c80_11eb_a54a_0242ac1c0002row7_col8,#T_498aa7e8_9c80_11eb_a54a_0242ac1c0002row7_col10,#T_498aa7e8_9c80_11eb_a54a_0242ac1c0002row7_col12,#T_498aa7e8_9c80_11eb_a54a_0242ac1c0002row7_col13{\n",
              "            background-color:  #ebf3eb;\n",
              "            color:  #000000;\n",
              "        }#T_498aa7e8_9c80_11eb_a54a_0242ac1c0002row1_col0,#T_498aa7e8_9c80_11eb_a54a_0242ac1c0002row6_col0{\n",
              "            background-color:  #b7dab7;\n",
              "            color:  #000000;\n",
              "        }#T_498aa7e8_9c80_11eb_a54a_0242ac1c0002row1_col3{\n",
              "            background-color:  #6db66d;\n",
              "            color:  #000000;\n",
              "        }#T_498aa7e8_9c80_11eb_a54a_0242ac1c0002row1_col4,#T_498aa7e8_9c80_11eb_a54a_0242ac1c0002row2_col4,#T_498aa7e8_9c80_11eb_a54a_0242ac1c0002row3_col4,#T_498aa7e8_9c80_11eb_a54a_0242ac1c0002row4_col4,#T_498aa7e8_9c80_11eb_a54a_0242ac1c0002row5_col4,#T_498aa7e8_9c80_11eb_a54a_0242ac1c0002row6_col4,#T_498aa7e8_9c80_11eb_a54a_0242ac1c0002row7_col4{\n",
              "            background-color:  #008000;\n",
              "            color:  #f1f1f1;\n",
              "        }#T_498aa7e8_9c80_11eb_a54a_0242ac1c0002row1_col7{\n",
              "            background-color:  #5cad5c;\n",
              "            color:  #000000;\n",
              "        }#T_498aa7e8_9c80_11eb_a54a_0242ac1c0002row1_col10,#T_498aa7e8_9c80_11eb_a54a_0242ac1c0002row2_col10,#T_498aa7e8_9c80_11eb_a54a_0242ac1c0002row2_col12,#T_498aa7e8_9c80_11eb_a54a_0242ac1c0002row4_col10,#T_498aa7e8_9c80_11eb_a54a_0242ac1c0002row5_col1,#T_498aa7e8_9c80_11eb_a54a_0242ac1c0002row5_col2,#T_498aa7e8_9c80_11eb_a54a_0242ac1c0002row5_col6,#T_498aa7e8_9c80_11eb_a54a_0242ac1c0002row5_col10,#T_498aa7e8_9c80_11eb_a54a_0242ac1c0002row5_col13,#T_498aa7e8_9c80_11eb_a54a_0242ac1c0002row6_col2,#T_498aa7e8_9c80_11eb_a54a_0242ac1c0002row6_col9,#T_498aa7e8_9c80_11eb_a54a_0242ac1c0002row6_col10,#T_498aa7e8_9c80_11eb_a54a_0242ac1c0002row7_col11{\n",
              "            background-color:  #eaf2ea;\n",
              "            color:  #000000;\n",
              "        }#T_498aa7e8_9c80_11eb_a54a_0242ac1c0002row1_col12,#T_498aa7e8_9c80_11eb_a54a_0242ac1c0002row4_col12,#T_498aa7e8_9c80_11eb_a54a_0242ac1c0002row5_col12,#T_498aa7e8_9c80_11eb_a54a_0242ac1c0002row6_col12,#T_498aa7e8_9c80_11eb_a54a_0242ac1c0002row7_col9{\n",
              "            background-color:  #e9f2e9;\n",
              "            color:  #000000;\n",
              "        }#T_498aa7e8_9c80_11eb_a54a_0242ac1c0002row2_col0{\n",
              "            background-color:  #c3e0c3;\n",
              "            color:  #000000;\n",
              "        }#T_498aa7e8_9c80_11eb_a54a_0242ac1c0002row2_col2,#T_498aa7e8_9c80_11eb_a54a_0242ac1c0002row2_col11{\n",
              "            background-color:  #e8f2e8;\n",
              "            color:  #000000;\n",
              "        }#T_498aa7e8_9c80_11eb_a54a_0242ac1c0002row2_col3{\n",
              "            background-color:  #9ccd9c;\n",
              "            color:  #000000;\n",
              "        }#T_498aa7e8_9c80_11eb_a54a_0242ac1c0002row2_col7{\n",
              "            background-color:  #84c084;\n",
              "            color:  #000000;\n",
              "        }#T_498aa7e8_9c80_11eb_a54a_0242ac1c0002row2_col9{\n",
              "            background-color:  #e7f1e7;\n",
              "            color:  #000000;\n",
              "        }#T_498aa7e8_9c80_11eb_a54a_0242ac1c0002row3_col0,#T_498aa7e8_9c80_11eb_a54a_0242ac1c0002row5_col0{\n",
              "            background-color:  #b5d9b5;\n",
              "            color:  #000000;\n",
              "        }#T_498aa7e8_9c80_11eb_a54a_0242ac1c0002row3_col3{\n",
              "            background-color:  #3c9d3c;\n",
              "            color:  #000000;\n",
              "        }#T_498aa7e8_9c80_11eb_a54a_0242ac1c0002row3_col7{\n",
              "            background-color:  #66b266;\n",
              "            color:  #000000;\n",
              "        }#T_498aa7e8_9c80_11eb_a54a_0242ac1c0002row4_col0{\n",
              "            background-color:  #b6d9b6;\n",
              "            color:  #000000;\n",
              "        }#T_498aa7e8_9c80_11eb_a54a_0242ac1c0002row4_col3{\n",
              "            background-color:  #65b265;\n",
              "            color:  #000000;\n",
              "        }#T_498aa7e8_9c80_11eb_a54a_0242ac1c0002row4_col7{\n",
              "            background-color:  #56aa56;\n",
              "            color:  #000000;\n",
              "        }#T_498aa7e8_9c80_11eb_a54a_0242ac1c0002row5_col3{\n",
              "            background-color:  #6cb56c;\n",
              "            color:  #000000;\n",
              "        }#T_498aa7e8_9c80_11eb_a54a_0242ac1c0002row5_col7{\n",
              "            background-color:  #55a955;\n",
              "            color:  #000000;\n",
              "        }#T_498aa7e8_9c80_11eb_a54a_0242ac1c0002row6_col3{\n",
              "            background-color:  #73b873;\n",
              "            color:  #000000;\n",
              "        }#T_498aa7e8_9c80_11eb_a54a_0242ac1c0002row6_col7{\n",
              "            background-color:  #5dae5d;\n",
              "            color:  #000000;\n",
              "        }#T_498aa7e8_9c80_11eb_a54a_0242ac1c0002row7_col0{\n",
              "            background-color:  #cbe4cb;\n",
              "            color:  #000000;\n",
              "        }#T_498aa7e8_9c80_11eb_a54a_0242ac1c0002row7_col3{\n",
              "            background-color:  #98ca98;\n",
              "            color:  #000000;\n",
              "        }#T_498aa7e8_9c80_11eb_a54a_0242ac1c0002row7_col7{\n",
              "            background-color:  #97ca97;\n",
              "            color:  #000000;\n",
              "        }</style><table id=\"T_498aa7e8_9c80_11eb_a54a_0242ac1c0002\" ><thead>    <tr>        <th class=\"blank level0\" ></th>        <th class=\"col_heading level0 col0\" >age</th>        <th class=\"col_heading level0 col1\" >sex</th>        <th class=\"col_heading level0 col2\" >cp</th>        <th class=\"col_heading level0 col3\" >trestbps</th>        <th class=\"col_heading level0 col4\" >chol</th>        <th class=\"col_heading level0 col5\" >fbs</th>        <th class=\"col_heading level0 col6\" >restecg</th>        <th class=\"col_heading level0 col7\" >thalach</th>        <th class=\"col_heading level0 col8\" >exang</th>        <th class=\"col_heading level0 col9\" >oldpeak</th>        <th class=\"col_heading level0 col10\" >slope</th>        <th class=\"col_heading level0 col11\" >ca</th>        <th class=\"col_heading level0 col12\" >thal</th>        <th class=\"col_heading level0 col13\" >target</th>    </tr></thead><tbody>\n",
              "                <tr>\n",
              "                        <th id=\"T_498aa7e8_9c80_11eb_a54a_0242ac1c0002level0_row0\" class=\"row_heading level0 row0\" >count</th>\n",
              "                        <td id=\"T_498aa7e8_9c80_11eb_a54a_0242ac1c0002row0_col0\" class=\"data row0 col0\" >303.000000</td>\n",
              "                        <td id=\"T_498aa7e8_9c80_11eb_a54a_0242ac1c0002row0_col1\" class=\"data row0 col1\" >303.000000</td>\n",
              "                        <td id=\"T_498aa7e8_9c80_11eb_a54a_0242ac1c0002row0_col2\" class=\"data row0 col2\" >303.000000</td>\n",
              "                        <td id=\"T_498aa7e8_9c80_11eb_a54a_0242ac1c0002row0_col3\" class=\"data row0 col3\" >303.000000</td>\n",
              "                        <td id=\"T_498aa7e8_9c80_11eb_a54a_0242ac1c0002row0_col4\" class=\"data row0 col4\" >303.000000</td>\n",
              "                        <td id=\"T_498aa7e8_9c80_11eb_a54a_0242ac1c0002row0_col5\" class=\"data row0 col5\" >303.000000</td>\n",
              "                        <td id=\"T_498aa7e8_9c80_11eb_a54a_0242ac1c0002row0_col6\" class=\"data row0 col6\" >303.000000</td>\n",
              "                        <td id=\"T_498aa7e8_9c80_11eb_a54a_0242ac1c0002row0_col7\" class=\"data row0 col7\" >303.000000</td>\n",
              "                        <td id=\"T_498aa7e8_9c80_11eb_a54a_0242ac1c0002row0_col8\" class=\"data row0 col8\" >303.000000</td>\n",
              "                        <td id=\"T_498aa7e8_9c80_11eb_a54a_0242ac1c0002row0_col9\" class=\"data row0 col9\" >303.000000</td>\n",
              "                        <td id=\"T_498aa7e8_9c80_11eb_a54a_0242ac1c0002row0_col10\" class=\"data row0 col10\" >303.000000</td>\n",
              "                        <td id=\"T_498aa7e8_9c80_11eb_a54a_0242ac1c0002row0_col11\" class=\"data row0 col11\" >303.000000</td>\n",
              "                        <td id=\"T_498aa7e8_9c80_11eb_a54a_0242ac1c0002row0_col12\" class=\"data row0 col12\" >303.000000</td>\n",
              "                        <td id=\"T_498aa7e8_9c80_11eb_a54a_0242ac1c0002row0_col13\" class=\"data row0 col13\" >303.000000</td>\n",
              "            </tr>\n",
              "            <tr>\n",
              "                        <th id=\"T_498aa7e8_9c80_11eb_a54a_0242ac1c0002level0_row1\" class=\"row_heading level0 row1\" >mean</th>\n",
              "                        <td id=\"T_498aa7e8_9c80_11eb_a54a_0242ac1c0002row1_col0\" class=\"data row1 col0\" >54.366337</td>\n",
              "                        <td id=\"T_498aa7e8_9c80_11eb_a54a_0242ac1c0002row1_col1\" class=\"data row1 col1\" >0.683168</td>\n",
              "                        <td id=\"T_498aa7e8_9c80_11eb_a54a_0242ac1c0002row1_col2\" class=\"data row1 col2\" >0.966997</td>\n",
              "                        <td id=\"T_498aa7e8_9c80_11eb_a54a_0242ac1c0002row1_col3\" class=\"data row1 col3\" >131.623762</td>\n",
              "                        <td id=\"T_498aa7e8_9c80_11eb_a54a_0242ac1c0002row1_col4\" class=\"data row1 col4\" >246.264026</td>\n",
              "                        <td id=\"T_498aa7e8_9c80_11eb_a54a_0242ac1c0002row1_col5\" class=\"data row1 col5\" >0.148515</td>\n",
              "                        <td id=\"T_498aa7e8_9c80_11eb_a54a_0242ac1c0002row1_col6\" class=\"data row1 col6\" >0.528053</td>\n",
              "                        <td id=\"T_498aa7e8_9c80_11eb_a54a_0242ac1c0002row1_col7\" class=\"data row1 col7\" >149.646865</td>\n",
              "                        <td id=\"T_498aa7e8_9c80_11eb_a54a_0242ac1c0002row1_col8\" class=\"data row1 col8\" >0.326733</td>\n",
              "                        <td id=\"T_498aa7e8_9c80_11eb_a54a_0242ac1c0002row1_col9\" class=\"data row1 col9\" >1.039604</td>\n",
              "                        <td id=\"T_498aa7e8_9c80_11eb_a54a_0242ac1c0002row1_col10\" class=\"data row1 col10\" >1.399340</td>\n",
              "                        <td id=\"T_498aa7e8_9c80_11eb_a54a_0242ac1c0002row1_col11\" class=\"data row1 col11\" >0.729373</td>\n",
              "                        <td id=\"T_498aa7e8_9c80_11eb_a54a_0242ac1c0002row1_col12\" class=\"data row1 col12\" >2.313531</td>\n",
              "                        <td id=\"T_498aa7e8_9c80_11eb_a54a_0242ac1c0002row1_col13\" class=\"data row1 col13\" >0.544554</td>\n",
              "            </tr>\n",
              "            <tr>\n",
              "                        <th id=\"T_498aa7e8_9c80_11eb_a54a_0242ac1c0002level0_row2\" class=\"row_heading level0 row2\" >std</th>\n",
              "                        <td id=\"T_498aa7e8_9c80_11eb_a54a_0242ac1c0002row2_col0\" class=\"data row2 col0\" >9.082101</td>\n",
              "                        <td id=\"T_498aa7e8_9c80_11eb_a54a_0242ac1c0002row2_col1\" class=\"data row2 col1\" >0.466011</td>\n",
              "                        <td id=\"T_498aa7e8_9c80_11eb_a54a_0242ac1c0002row2_col2\" class=\"data row2 col2\" >1.032052</td>\n",
              "                        <td id=\"T_498aa7e8_9c80_11eb_a54a_0242ac1c0002row2_col3\" class=\"data row2 col3\" >17.538143</td>\n",
              "                        <td id=\"T_498aa7e8_9c80_11eb_a54a_0242ac1c0002row2_col4\" class=\"data row2 col4\" >51.830751</td>\n",
              "                        <td id=\"T_498aa7e8_9c80_11eb_a54a_0242ac1c0002row2_col5\" class=\"data row2 col5\" >0.356198</td>\n",
              "                        <td id=\"T_498aa7e8_9c80_11eb_a54a_0242ac1c0002row2_col6\" class=\"data row2 col6\" >0.525860</td>\n",
              "                        <td id=\"T_498aa7e8_9c80_11eb_a54a_0242ac1c0002row2_col7\" class=\"data row2 col7\" >22.905161</td>\n",
              "                        <td id=\"T_498aa7e8_9c80_11eb_a54a_0242ac1c0002row2_col8\" class=\"data row2 col8\" >0.469794</td>\n",
              "                        <td id=\"T_498aa7e8_9c80_11eb_a54a_0242ac1c0002row2_col9\" class=\"data row2 col9\" >1.161075</td>\n",
              "                        <td id=\"T_498aa7e8_9c80_11eb_a54a_0242ac1c0002row2_col10\" class=\"data row2 col10\" >0.616226</td>\n",
              "                        <td id=\"T_498aa7e8_9c80_11eb_a54a_0242ac1c0002row2_col11\" class=\"data row2 col11\" >1.022606</td>\n",
              "                        <td id=\"T_498aa7e8_9c80_11eb_a54a_0242ac1c0002row2_col12\" class=\"data row2 col12\" >0.612277</td>\n",
              "                        <td id=\"T_498aa7e8_9c80_11eb_a54a_0242ac1c0002row2_col13\" class=\"data row2 col13\" >0.498835</td>\n",
              "            </tr>\n",
              "            <tr>\n",
              "                        <th id=\"T_498aa7e8_9c80_11eb_a54a_0242ac1c0002level0_row3\" class=\"row_heading level0 row3\" >min</th>\n",
              "                        <td id=\"T_498aa7e8_9c80_11eb_a54a_0242ac1c0002row3_col0\" class=\"data row3 col0\" >29.000000</td>\n",
              "                        <td id=\"T_498aa7e8_9c80_11eb_a54a_0242ac1c0002row3_col1\" class=\"data row3 col1\" >0.000000</td>\n",
              "                        <td id=\"T_498aa7e8_9c80_11eb_a54a_0242ac1c0002row3_col2\" class=\"data row3 col2\" >0.000000</td>\n",
              "                        <td id=\"T_498aa7e8_9c80_11eb_a54a_0242ac1c0002row3_col3\" class=\"data row3 col3\" >94.000000</td>\n",
              "                        <td id=\"T_498aa7e8_9c80_11eb_a54a_0242ac1c0002row3_col4\" class=\"data row3 col4\" >126.000000</td>\n",
              "                        <td id=\"T_498aa7e8_9c80_11eb_a54a_0242ac1c0002row3_col5\" class=\"data row3 col5\" >0.000000</td>\n",
              "                        <td id=\"T_498aa7e8_9c80_11eb_a54a_0242ac1c0002row3_col6\" class=\"data row3 col6\" >0.000000</td>\n",
              "                        <td id=\"T_498aa7e8_9c80_11eb_a54a_0242ac1c0002row3_col7\" class=\"data row3 col7\" >71.000000</td>\n",
              "                        <td id=\"T_498aa7e8_9c80_11eb_a54a_0242ac1c0002row3_col8\" class=\"data row3 col8\" >0.000000</td>\n",
              "                        <td id=\"T_498aa7e8_9c80_11eb_a54a_0242ac1c0002row3_col9\" class=\"data row3 col9\" >0.000000</td>\n",
              "                        <td id=\"T_498aa7e8_9c80_11eb_a54a_0242ac1c0002row3_col10\" class=\"data row3 col10\" >0.000000</td>\n",
              "                        <td id=\"T_498aa7e8_9c80_11eb_a54a_0242ac1c0002row3_col11\" class=\"data row3 col11\" >0.000000</td>\n",
              "                        <td id=\"T_498aa7e8_9c80_11eb_a54a_0242ac1c0002row3_col12\" class=\"data row3 col12\" >0.000000</td>\n",
              "                        <td id=\"T_498aa7e8_9c80_11eb_a54a_0242ac1c0002row3_col13\" class=\"data row3 col13\" >0.000000</td>\n",
              "            </tr>\n",
              "            <tr>\n",
              "                        <th id=\"T_498aa7e8_9c80_11eb_a54a_0242ac1c0002level0_row4\" class=\"row_heading level0 row4\" >25%</th>\n",
              "                        <td id=\"T_498aa7e8_9c80_11eb_a54a_0242ac1c0002row4_col0\" class=\"data row4 col0\" >47.500000</td>\n",
              "                        <td id=\"T_498aa7e8_9c80_11eb_a54a_0242ac1c0002row4_col1\" class=\"data row4 col1\" >0.000000</td>\n",
              "                        <td id=\"T_498aa7e8_9c80_11eb_a54a_0242ac1c0002row4_col2\" class=\"data row4 col2\" >0.000000</td>\n",
              "                        <td id=\"T_498aa7e8_9c80_11eb_a54a_0242ac1c0002row4_col3\" class=\"data row4 col3\" >120.000000</td>\n",
              "                        <td id=\"T_498aa7e8_9c80_11eb_a54a_0242ac1c0002row4_col4\" class=\"data row4 col4\" >211.000000</td>\n",
              "                        <td id=\"T_498aa7e8_9c80_11eb_a54a_0242ac1c0002row4_col5\" class=\"data row4 col5\" >0.000000</td>\n",
              "                        <td id=\"T_498aa7e8_9c80_11eb_a54a_0242ac1c0002row4_col6\" class=\"data row4 col6\" >0.000000</td>\n",
              "                        <td id=\"T_498aa7e8_9c80_11eb_a54a_0242ac1c0002row4_col7\" class=\"data row4 col7\" >133.500000</td>\n",
              "                        <td id=\"T_498aa7e8_9c80_11eb_a54a_0242ac1c0002row4_col8\" class=\"data row4 col8\" >0.000000</td>\n",
              "                        <td id=\"T_498aa7e8_9c80_11eb_a54a_0242ac1c0002row4_col9\" class=\"data row4 col9\" >0.000000</td>\n",
              "                        <td id=\"T_498aa7e8_9c80_11eb_a54a_0242ac1c0002row4_col10\" class=\"data row4 col10\" >1.000000</td>\n",
              "                        <td id=\"T_498aa7e8_9c80_11eb_a54a_0242ac1c0002row4_col11\" class=\"data row4 col11\" >0.000000</td>\n",
              "                        <td id=\"T_498aa7e8_9c80_11eb_a54a_0242ac1c0002row4_col12\" class=\"data row4 col12\" >2.000000</td>\n",
              "                        <td id=\"T_498aa7e8_9c80_11eb_a54a_0242ac1c0002row4_col13\" class=\"data row4 col13\" >0.000000</td>\n",
              "            </tr>\n",
              "            <tr>\n",
              "                        <th id=\"T_498aa7e8_9c80_11eb_a54a_0242ac1c0002level0_row5\" class=\"row_heading level0 row5\" >50%</th>\n",
              "                        <td id=\"T_498aa7e8_9c80_11eb_a54a_0242ac1c0002row5_col0\" class=\"data row5 col0\" >55.000000</td>\n",
              "                        <td id=\"T_498aa7e8_9c80_11eb_a54a_0242ac1c0002row5_col1\" class=\"data row5 col1\" >1.000000</td>\n",
              "                        <td id=\"T_498aa7e8_9c80_11eb_a54a_0242ac1c0002row5_col2\" class=\"data row5 col2\" >1.000000</td>\n",
              "                        <td id=\"T_498aa7e8_9c80_11eb_a54a_0242ac1c0002row5_col3\" class=\"data row5 col3\" >130.000000</td>\n",
              "                        <td id=\"T_498aa7e8_9c80_11eb_a54a_0242ac1c0002row5_col4\" class=\"data row5 col4\" >240.000000</td>\n",
              "                        <td id=\"T_498aa7e8_9c80_11eb_a54a_0242ac1c0002row5_col5\" class=\"data row5 col5\" >0.000000</td>\n",
              "                        <td id=\"T_498aa7e8_9c80_11eb_a54a_0242ac1c0002row5_col6\" class=\"data row5 col6\" >1.000000</td>\n",
              "                        <td id=\"T_498aa7e8_9c80_11eb_a54a_0242ac1c0002row5_col7\" class=\"data row5 col7\" >153.000000</td>\n",
              "                        <td id=\"T_498aa7e8_9c80_11eb_a54a_0242ac1c0002row5_col8\" class=\"data row5 col8\" >0.000000</td>\n",
              "                        <td id=\"T_498aa7e8_9c80_11eb_a54a_0242ac1c0002row5_col9\" class=\"data row5 col9\" >0.800000</td>\n",
              "                        <td id=\"T_498aa7e8_9c80_11eb_a54a_0242ac1c0002row5_col10\" class=\"data row5 col10\" >1.000000</td>\n",
              "                        <td id=\"T_498aa7e8_9c80_11eb_a54a_0242ac1c0002row5_col11\" class=\"data row5 col11\" >0.000000</td>\n",
              "                        <td id=\"T_498aa7e8_9c80_11eb_a54a_0242ac1c0002row5_col12\" class=\"data row5 col12\" >2.000000</td>\n",
              "                        <td id=\"T_498aa7e8_9c80_11eb_a54a_0242ac1c0002row5_col13\" class=\"data row5 col13\" >1.000000</td>\n",
              "            </tr>\n",
              "            <tr>\n",
              "                        <th id=\"T_498aa7e8_9c80_11eb_a54a_0242ac1c0002level0_row6\" class=\"row_heading level0 row6\" >75%</th>\n",
              "                        <td id=\"T_498aa7e8_9c80_11eb_a54a_0242ac1c0002row6_col0\" class=\"data row6 col0\" >61.000000</td>\n",
              "                        <td id=\"T_498aa7e8_9c80_11eb_a54a_0242ac1c0002row6_col1\" class=\"data row6 col1\" >1.000000</td>\n",
              "                        <td id=\"T_498aa7e8_9c80_11eb_a54a_0242ac1c0002row6_col2\" class=\"data row6 col2\" >2.000000</td>\n",
              "                        <td id=\"T_498aa7e8_9c80_11eb_a54a_0242ac1c0002row6_col3\" class=\"data row6 col3\" >140.000000</td>\n",
              "                        <td id=\"T_498aa7e8_9c80_11eb_a54a_0242ac1c0002row6_col4\" class=\"data row6 col4\" >274.500000</td>\n",
              "                        <td id=\"T_498aa7e8_9c80_11eb_a54a_0242ac1c0002row6_col5\" class=\"data row6 col5\" >0.000000</td>\n",
              "                        <td id=\"T_498aa7e8_9c80_11eb_a54a_0242ac1c0002row6_col6\" class=\"data row6 col6\" >1.000000</td>\n",
              "                        <td id=\"T_498aa7e8_9c80_11eb_a54a_0242ac1c0002row6_col7\" class=\"data row6 col7\" >166.000000</td>\n",
              "                        <td id=\"T_498aa7e8_9c80_11eb_a54a_0242ac1c0002row6_col8\" class=\"data row6 col8\" >1.000000</td>\n",
              "                        <td id=\"T_498aa7e8_9c80_11eb_a54a_0242ac1c0002row6_col9\" class=\"data row6 col9\" >1.600000</td>\n",
              "                        <td id=\"T_498aa7e8_9c80_11eb_a54a_0242ac1c0002row6_col10\" class=\"data row6 col10\" >2.000000</td>\n",
              "                        <td id=\"T_498aa7e8_9c80_11eb_a54a_0242ac1c0002row6_col11\" class=\"data row6 col11\" >1.000000</td>\n",
              "                        <td id=\"T_498aa7e8_9c80_11eb_a54a_0242ac1c0002row6_col12\" class=\"data row6 col12\" >3.000000</td>\n",
              "                        <td id=\"T_498aa7e8_9c80_11eb_a54a_0242ac1c0002row6_col13\" class=\"data row6 col13\" >1.000000</td>\n",
              "            </tr>\n",
              "            <tr>\n",
              "                        <th id=\"T_498aa7e8_9c80_11eb_a54a_0242ac1c0002level0_row7\" class=\"row_heading level0 row7\" >max</th>\n",
              "                        <td id=\"T_498aa7e8_9c80_11eb_a54a_0242ac1c0002row7_col0\" class=\"data row7 col0\" >77.000000</td>\n",
              "                        <td id=\"T_498aa7e8_9c80_11eb_a54a_0242ac1c0002row7_col1\" class=\"data row7 col1\" >1.000000</td>\n",
              "                        <td id=\"T_498aa7e8_9c80_11eb_a54a_0242ac1c0002row7_col2\" class=\"data row7 col2\" >3.000000</td>\n",
              "                        <td id=\"T_498aa7e8_9c80_11eb_a54a_0242ac1c0002row7_col3\" class=\"data row7 col3\" >200.000000</td>\n",
              "                        <td id=\"T_498aa7e8_9c80_11eb_a54a_0242ac1c0002row7_col4\" class=\"data row7 col4\" >564.000000</td>\n",
              "                        <td id=\"T_498aa7e8_9c80_11eb_a54a_0242ac1c0002row7_col5\" class=\"data row7 col5\" >1.000000</td>\n",
              "                        <td id=\"T_498aa7e8_9c80_11eb_a54a_0242ac1c0002row7_col6\" class=\"data row7 col6\" >2.000000</td>\n",
              "                        <td id=\"T_498aa7e8_9c80_11eb_a54a_0242ac1c0002row7_col7\" class=\"data row7 col7\" >202.000000</td>\n",
              "                        <td id=\"T_498aa7e8_9c80_11eb_a54a_0242ac1c0002row7_col8\" class=\"data row7 col8\" >1.000000</td>\n",
              "                        <td id=\"T_498aa7e8_9c80_11eb_a54a_0242ac1c0002row7_col9\" class=\"data row7 col9\" >6.200000</td>\n",
              "                        <td id=\"T_498aa7e8_9c80_11eb_a54a_0242ac1c0002row7_col10\" class=\"data row7 col10\" >2.000000</td>\n",
              "                        <td id=\"T_498aa7e8_9c80_11eb_a54a_0242ac1c0002row7_col11\" class=\"data row7 col11\" >4.000000</td>\n",
              "                        <td id=\"T_498aa7e8_9c80_11eb_a54a_0242ac1c0002row7_col12\" class=\"data row7 col12\" >3.000000</td>\n",
              "                        <td id=\"T_498aa7e8_9c80_11eb_a54a_0242ac1c0002row7_col13\" class=\"data row7 col13\" >1.000000</td>\n",
              "            </tr>\n",
              "    </tbody></table>"
            ],
            "text/plain": [
              "<pandas.io.formats.style.Styler at 0x7fa3b2b99510>"
            ]
          },
          "metadata": {
            "tags": []
          },
          "execution_count": 217
        }
      ]
    },
    {
      "cell_type": "markdown",
      "metadata": {
        "id": "LkjkiGPi1qkY"
      },
      "source": [
        "## Data Analysis"
      ]
    },
    {
      "cell_type": "markdown",
      "metadata": {
        "id": "nY8t24kJnzgk"
      },
      "source": [
        "## Heart Attack Chance by Sex"
      ]
    },
    {
      "cell_type": "code",
      "metadata": {
        "id": "KP8SKODXU8p4"
      },
      "source": [
        "new_df=df.copy()"
      ],
      "execution_count": 218,
      "outputs": []
    },
    {
      "cell_type": "code",
      "metadata": {
        "id": "YRKuTAbx7re1"
      },
      "source": [
        "# a simple function for printing different bar plots\n",
        "\n",
        "def bar_plot(x,v1,v2,t,l1,l2,l3,rot,text):\n",
        " w = 0.315 # the width of the bars\n",
        " bar1 = np.arange(len(labels))  # the label locations\n",
        " bar2=[i+w for i in bar1]\n",
        " bar3=[i+w for i in bar2]\n",
        " fig, px= plt.subplots()\n",
        " reacts=px.bar(bar1,t,w,label=l1,color=([95/235, 70/235, 144/235]))\n",
        " rects1 = px.bar(bar2,v1,w,label=l2,color=([29/235,105/235,150/235]))\n",
        " rects2 = px.bar(bar3,v2,w,label=l3,color=([56/235,166/235,165/235]))\n",
        " fig.tight_layout()\n",
        " if rot==1:\n",
        "   val='vertical'\n",
        " else:\n",
        "   val='horizontal'\n",
        " plt.xticks(bar1,labels,rotation=val)\n",
        " plt.title(\"Heart Attack Chance By {}\".format(text))\n",
        " ax.legend()\n",
        " plt.grid(axis='y',linestyle='--')\n",
        " plt.show()"
      ],
      "execution_count": 219,
      "outputs": []
    },
    {
      "cell_type": "code",
      "metadata": {
        "id": "C86fXVq0637c",
        "colab": {
          "base_uri": "https://localhost:8080/"
        },
        "outputId": "bb1ead59-2c93-4927-b6ed-bb2f72050115"
      },
      "source": [
        "female_attack_chances=((df['sex']==0) & (df['target']==1)).value_counts().tolist()\n",
        "female_attack_chances"
      ],
      "execution_count": 220,
      "outputs": [
        {
          "output_type": "execute_result",
          "data": {
            "text/plain": [
              "[231, 72]"
            ]
          },
          "metadata": {
            "tags": []
          },
          "execution_count": 220
        }
      ]
    },
    {
      "cell_type": "code",
      "metadata": {
        "id": "K3TxA9bc99Vb",
        "colab": {
          "base_uri": "https://localhost:8080/"
        },
        "outputId": "70188576-01fb-4487-f5cc-504e0b62f8d6"
      },
      "source": [
        "male_attack_chances=((df['sex']==1) & (df['target']==1)).value_counts().tolist()\n",
        "male_attack_chances"
      ],
      "execution_count": 221,
      "outputs": [
        {
          "output_type": "execute_result",
          "data": {
            "text/plain": [
              "[210, 93]"
            ]
          },
          "metadata": {
            "tags": []
          },
          "execution_count": 221
        }
      ]
    },
    {
      "cell_type": "code",
      "metadata": {
        "id": "8WSuMGtB_CYZ",
        "colab": {
          "base_uri": "https://localhost:8080/",
          "height": 0
        },
        "outputId": "f8716cc0-a8ae-4160-9f63-4ee6d24a6013"
      },
      "source": [
        "labels = [\"Less Chance \", 'More Chance']\n",
        "x = np.arange(len(labels))  # the label locations\n",
        "width = 0.35  # the width of the bars\n",
        "\n",
        "fig, ax = plt.subplots()\n",
        "rects1 = ax.bar(x - width/2,male_attack_chances, width)\n",
        "rects2 = ax.bar(x + width/2,female_attack_chances, width)\n",
        "ax.set_ylabel('Counts')\n",
        "ax.set_title('Heart Attack Chances By Sex')\n",
        "ax.set_xticks(x)\n",
        "ax.set_xticklabels(labels)\n",
        "ax.legend(['Male','Female'])\n",
        "fig.tight_layout()\n",
        "\n",
        "plt.show()"
      ],
      "execution_count": 222,
      "outputs": [
        {
          "output_type": "display_data",
          "data": {
            "image/png": "[encoded data removed]",
            "text/plain": [
              "<Figure size 432x288 with 1 Axes>"
            ]
          },
          "metadata": {
            "tags": [],
            "needs_background": "light"
          }
        }
      ]
    },
    {
      "cell_type": "markdown",
      "metadata": {
        "id": "5csiQKHZlnIV"
      },
      "source": [
        "## Conclusion \n",
        "**(i) Males Are more likely to get Heart Attack than females**"
      ]
    },
    {
      "cell_type": "markdown",
      "metadata": {
        "id": "yvWYWmtnnp0T"
      },
      "source": [
        "## Heart Attack Chance By Chest Pain"
      ]
    },
    {
      "cell_type": "code",
      "metadata": {
        "id": "uYcVdG62hWMO"
      },
      "source": [
        "temp = pd.DataFrame()\n",
        "for cp in df['cp'].unique().tolist():\n",
        "    temp[cp] = df[df['cp']==cp]['target'].value_counts()\n",
        "\n",
        "temp = temp.T.reset_index()\n",
        "temp['index'] = pd.Series(['typical angina','atypical angina','non-anginal pain','asymptomatic'])\n",
        "temp['Total sum'] = temp.sum(axis=1)"
      ],
      "execution_count": null,
      "outputs": []
    },
    {
      "cell_type": "code",
      "metadata": {
        "colab": {
          "base_uri": "https://localhost:8080/"
        },
        "id": "axqNhnk-hvfA",
        "outputId": "5b011b7d-475c-41b0-85b0-ae3090d5765f"
      },
      "source": [
        "temp"
      ],
      "execution_count": null,
      "outputs": [
        {
          "output_type": "execute_result",
          "data": {
            "text/html": [
              "<div>\n",
              "<style scoped>\n",
              "    .dataframe tbody tr th:only-of-type {\n",
              "        vertical-align: middle;\n",
              "    }\n",
              "\n",
              "    .dataframe tbody tr th {\n",
              "        vertical-align: top;\n",
              "    }\n",
              "\n",
              "    .dataframe thead th {\n",
              "        text-align: right;\n",
              "    }\n",
              "</style>\n",
              "<table border=\"1\" class=\"dataframe\">\n",
              "  <thead>\n",
              "    <tr style=\"text-align: right;\">\n",
              "      <th></th>\n",
              "      <th>index</th>\n",
              "      <th>1</th>\n",
              "      <th>0</th>\n",
              "      <th>Total sum</th>\n",
              "    </tr>\n",
              "  </thead>\n",
              "  <tbody>\n",
              "    <tr>\n",
              "      <th>0</th>\n",
              "      <td>typical angina</td>\n",
              "      <td>16</td>\n",
              "      <td>7</td>\n",
              "      <td>23</td>\n",
              "    </tr>\n",
              "    <tr>\n",
              "      <th>1</th>\n",
              "      <td>atypical angina</td>\n",
              "      <td>69</td>\n",
              "      <td>18</td>\n",
              "      <td>87</td>\n",
              "    </tr>\n",
              "    <tr>\n",
              "      <th>2</th>\n",
              "      <td>non-anginal pain</td>\n",
              "      <td>41</td>\n",
              "      <td>9</td>\n",
              "      <td>50</td>\n",
              "    </tr>\n",
              "    <tr>\n",
              "      <th>3</th>\n",
              "      <td>asymptomatic</td>\n",
              "      <td>39</td>\n",
              "      <td>104</td>\n",
              "      <td>143</td>\n",
              "    </tr>\n",
              "  </tbody>\n",
              "</table>\n",
              "</div>"
            ],
            "text/plain": [
              "              index   1    0  Total sum\n",
              "0    typical angina  16    7         23\n",
              "1   atypical angina  69   18         87\n",
              "2  non-anginal pain  41    9         50\n",
              "3      asymptomatic  39  104        143"
            ]
          },
          "metadata": {
            "tags": []
          },
          "execution_count": 110
        }
      ]
    },
    {
      "cell_type": "code",
      "metadata": {
        "id": "berYfA6mh6jB"
      },
      "source": [
        "labels=temp.iloc[:,0].values\n",
        "labels=labels.tolist()"
      ],
      "execution_count": null,
      "outputs": []
    },
    {
      "cell_type": "code",
      "metadata": {
        "id": "SRKdKpEFjSCe"
      },
      "source": [
        "more_chance=temp.iloc[:,1].values\n",
        "more_chance=more_chance.tolist()"
      ],
      "execution_count": null,
      "outputs": []
    },
    {
      "cell_type": "code",
      "metadata": {
        "id": "_PA5x_IXjkKX"
      },
      "source": [
        "less_chance=temp.iloc[:,2].values\n",
        "less_chance=less_chance.tolist()"
      ],
      "execution_count": null,
      "outputs": []
    },
    {
      "cell_type": "code",
      "metadata": {
        "colab": {
          "base_uri": "https://localhost:8080/"
        },
        "id": "_vXL1hRgjnSJ",
        "outputId": "fa23250f-fe1c-42c1-ae57-00e734516884"
      },
      "source": [
        "x = np.arange(len(labels))  # the label locations\n",
        "width = 0.35  # the width of the bars\n",
        "\n",
        "fig, ax = plt.subplots()\n",
        "rects1 = ax.bar(x - width/2,less_chance, width)\n",
        "rects2 = ax.bar(x + width/2,more_chance, width)\n",
        "ax.set_ylabel('Counts')\n",
        "ax.set_title('Heart Attack Chances By Chest Pain')\n",
        "ax.set_xticks(x)\n",
        "ax.set_xticklabels(labels)\n",
        "ax.legend(['Less Chance','More Chance'])\n",
        "fig.tight_layout()\n",
        "\n",
        "plt.show()"
      ],
      "execution_count": null,
      "outputs": [
        {
          "output_type": "display_data",
          "data": {
            "image/png": "[encoded data removed]",
            "text/plain": [
              "<Figure size 432x288 with 1 Axes>"
            ]
          },
          "metadata": {
            "tags": [],
            "needs_background": "light"
          }
        }
      ]
    },
    {
      "cell_type": "markdown",
      "metadata": {
        "id": "CPx3kozakLmV"
      },
      "source": [
        "## Conclusion \n",
        "**(i) Most of the Patients have asymptomatic chest pain**\n",
        "\n",
        "**(ii) Chance of getting a Heart Attack is more if you have   atypical  angina**"
      ]
    },
    {
      "cell_type": "markdown",
      "metadata": {
        "id": "erI81QqingRn"
      },
      "source": [
        "## Heart Attack Chance by Fasting Blood Sugar "
      ]
    },
    {
      "cell_type": "code",
      "metadata": {
        "colab": {
          "base_uri": "https://localhost:8080/"
        },
        "id": "DMvCcXWmmlA9",
        "outputId": "80d0941a-7489-498c-d9bc-69a8e7a7677d"
      },
      "source": [
        "temp = pd.DataFrame()\n",
        "for fbs in df['fbs'].unique().tolist():\n",
        "    temp[fbs] = df[df['fbs']==fbs]['target'].value_counts()\n",
        "\n",
        "temp = temp.T.reset_index()\n",
        "temp['index'] = pd.Series(['fasting blood sugar > 120 mg/dl','fasting blood sugar < 120 mg/dl'])\n",
        "temp['Total sum'] = temp.sum(axis=1)\n",
        "\n",
        "temp"
      ],
      "execution_count": null,
      "outputs": [
        {
          "output_type": "execute_result",
          "data": {
            "text/html": [
              "<div>\n",
              "<style scoped>\n",
              "    .dataframe tbody tr th:only-of-type {\n",
              "        vertical-align: middle;\n",
              "    }\n",
              "\n",
              "    .dataframe tbody tr th {\n",
              "        vertical-align: top;\n",
              "    }\n",
              "\n",
              "    .dataframe thead th {\n",
              "        text-align: right;\n",
              "    }\n",
              "</style>\n",
              "<table border=\"1\" class=\"dataframe\">\n",
              "  <thead>\n",
              "    <tr style=\"text-align: right;\">\n",
              "      <th></th>\n",
              "      <th>index</th>\n",
              "      <th>1</th>\n",
              "      <th>0</th>\n",
              "      <th>Total sum</th>\n",
              "    </tr>\n",
              "  </thead>\n",
              "  <tbody>\n",
              "    <tr>\n",
              "      <th>0</th>\n",
              "      <td>fasting blood sugar &gt; 120 mg/dl</td>\n",
              "      <td>23</td>\n",
              "      <td>22</td>\n",
              "      <td>45</td>\n",
              "    </tr>\n",
              "    <tr>\n",
              "      <th>1</th>\n",
              "      <td>fasting blood sugar &lt; 120 mg/dl</td>\n",
              "      <td>142</td>\n",
              "      <td>116</td>\n",
              "      <td>258</td>\n",
              "    </tr>\n",
              "  </tbody>\n",
              "</table>\n",
              "</div>"
            ],
            "text/plain": [
              "                             index    1    0  Total sum\n",
              "0  fasting blood sugar > 120 mg/dl   23   22         45\n",
              "1  fasting blood sugar < 120 mg/dl  142  116        258"
            ]
          },
          "metadata": {
            "tags": []
          },
          "execution_count": 115
        }
      ]
    },
    {
      "cell_type": "code",
      "metadata": {
        "id": "RbGUC0TZnbBj"
      },
      "source": [
        "labels=temp.iloc[:,0].values\n",
        "labels=labels.tolist()"
      ],
      "execution_count": null,
      "outputs": []
    },
    {
      "cell_type": "code",
      "metadata": {
        "id": "ULswv4kPn9j3"
      },
      "source": [
        "more_chance=temp.iloc[:,1].values\n",
        "more_chance=more_chance.tolist()"
      ],
      "execution_count": null,
      "outputs": []
    },
    {
      "cell_type": "code",
      "metadata": {
        "id": "G9sNY89QoEk5"
      },
      "source": [
        "less_chance=temp.iloc[:,2].values\n",
        "less_chance=less_chance.tolist()"
      ],
      "execution_count": null,
      "outputs": []
    },
    {
      "cell_type": "code",
      "metadata": {
        "id": "nXOsT-RmoZh7"
      },
      "source": [
        "total=temp.iloc[:,3].values\n",
        "total=total.tolist()"
      ],
      "execution_count": null,
      "outputs": []
    },
    {
      "cell_type": "code",
      "metadata": {
        "colab": {
          "base_uri": "https://localhost:8080/"
        },
        "id": "5_xXPxCyoHvc",
        "outputId": "d1870dca-1723-4ccc-d44b-35d1435c3065"
      },
      "source": [
        "bar_plot(labels,less_chance,more_chance,total,\"Total\",\"less chance\",\"more chance\",0,\"Fbs\")"
      ],
      "execution_count": null,
      "outputs": [
        {
          "output_type": "stream",
          "text": [
            "No handles with labels found to put in legend.\n"
          ],
          "name": "stderr"
        },
        {
          "output_type": "display_data",
          "data": {
            "image/png": "[encoded data removed]",
            "text/plain": [
              "<Figure size 432x288 with 1 Axes>"
            ]
          },
          "metadata": {
            "tags": [],
            "needs_background": "light"
          }
        }
      ]
    },
    {
      "cell_type": "markdown",
      "metadata": {
        "id": "_Ydm_AbOKvWr"
      },
      "source": [
        "## Conclusion \n",
        "**(i) There is more chance of getting a Heart Attack if the Fasting blood sugar is less than 120 mg/dl**"
      ]
    },
    {
      "cell_type": "markdown",
      "metadata": {
        "id": "3o_1odknK9xl"
      },
      "source": [
        "## Heart Attack chance by Resting Electrocardiographic"
      ]
    },
    {
      "cell_type": "code",
      "metadata": {
        "colab": {
          "base_uri": "https://localhost:8080/"
        },
        "id": "cqsRH-e4LSR6",
        "outputId": "7aa94de1-9b98-40fe-f60f-4d3edaf32998"
      },
      "source": [
        "temp = pd.DataFrame()\n",
        "for restecg\tin df['restecg'].unique().tolist():\n",
        "    temp[restecg] = df[df['restecg']==restecg]['target'].value_counts()\n",
        "\n",
        "temp.columns=['Normal','ST-T wave abnormality','Probable left ventricular hypertrophy']\n",
        "temp = temp.T.reset_index()\n",
        "temp['Total']=temp.sum(axis=1)\n",
        "temp"
      ],
      "execution_count": null,
      "outputs": [
        {
          "output_type": "execute_result",
          "data": {
            "text/html": [
              "<div>\n",
              "<style scoped>\n",
              "    .dataframe tbody tr th:only-of-type {\n",
              "        vertical-align: middle;\n",
              "    }\n",
              "\n",
              "    .dataframe tbody tr th {\n",
              "        vertical-align: top;\n",
              "    }\n",
              "\n",
              "    .dataframe thead th {\n",
              "        text-align: right;\n",
              "    }\n",
              "</style>\n",
              "<table border=\"1\" class=\"dataframe\">\n",
              "  <thead>\n",
              "    <tr style=\"text-align: right;\">\n",
              "      <th></th>\n",
              "      <th>index</th>\n",
              "      <th>0</th>\n",
              "      <th>1</th>\n",
              "      <th>Total</th>\n",
              "    </tr>\n",
              "  </thead>\n",
              "  <tbody>\n",
              "    <tr>\n",
              "      <th>0</th>\n",
              "      <td>Normal</td>\n",
              "      <td>79</td>\n",
              "      <td>68</td>\n",
              "      <td>147</td>\n",
              "    </tr>\n",
              "    <tr>\n",
              "      <th>1</th>\n",
              "      <td>ST-T wave abnormality</td>\n",
              "      <td>56</td>\n",
              "      <td>96</td>\n",
              "      <td>152</td>\n",
              "    </tr>\n",
              "    <tr>\n",
              "      <th>2</th>\n",
              "      <td>Probable left ventricular hypertrophy</td>\n",
              "      <td>3</td>\n",
              "      <td>1</td>\n",
              "      <td>4</td>\n",
              "    </tr>\n",
              "  </tbody>\n",
              "</table>\n",
              "</div>"
            ],
            "text/plain": [
              "                                   index   0   1  Total\n",
              "0                                 Normal  79  68    147\n",
              "1                  ST-T wave abnormality  56  96    152\n",
              "2  Probable left ventricular hypertrophy   3   1      4"
            ]
          },
          "metadata": {
            "tags": []
          },
          "execution_count": 121
        }
      ]
    },
    {
      "cell_type": "code",
      "metadata": {
        "id": "PiQS-oiLMjbh"
      },
      "source": [
        "labels=['Normal','ST-T wave abnormality','Probable left ventricular hypertrophy']\n",
        "less_chance=temp.iloc[:,1].values\n",
        "more_chance=temp.iloc[:,2].values\n",
        "total=temp.iloc[:,3].values"
      ],
      "execution_count": null,
      "outputs": []
    },
    {
      "cell_type": "code",
      "metadata": {
        "colab": {
          "base_uri": "https://localhost:8080/"
        },
        "id": "b0PnAe8RMbpD",
        "outputId": "a1c2d32b-66fb-400b-d00c-337da5a22c9c"
      },
      "source": [
        "bar_plot(labels,less_chance,more_chance,total,\"Total\",\"less chance\",\"more chance\",1,\"Resting Electrocardiography\")"
      ],
      "execution_count": null,
      "outputs": [
        {
          "output_type": "stream",
          "text": [
            "No handles with labels found to put in legend.\n"
          ],
          "name": "stderr"
        },
        {
          "output_type": "display_data",
          "data": {
            "image/png": "[encoded data removed]",
            "text/plain": [
              "<Figure size 432x288 with 1 Axes>"
            ]
          },
          "metadata": {
            "tags": [],
            "needs_background": "light"
          }
        }
      ]
    },
    {
      "cell_type": "markdown",
      "metadata": {
        "id": "xTJWr3ARPe66"
      },
      "source": [
        "## Conclusion\n",
        "**(i) Most Patient who suffers from Heart Attack have ST-T wave abnormality**\n",
        "\n",
        "**(ii) Few patients suffers from Probable left ventricular hypertrophy**\n"
      ]
    },
    {
      "cell_type": "markdown",
      "metadata": {
        "id": "5FRijftGyn1_"
      },
      "source": [
        "## Heart Attack Chance by exang"
      ]
    },
    {
      "cell_type": "code",
      "metadata": {
        "id": "59yb1HHsy0xl"
      },
      "source": [
        "temp=pd.DataFrame()\n",
        "\n",
        "for ex in df['exang'].unique().tolist():\n",
        "  temp[ex]=df[df['exang']==ex]['target'].value_counts()\n",
        "temp.columns=['Exercise Induced Angina','Absence of Exercise Induced Angina']\n",
        "temp = temp.T.reset_index()\n",
        "temp['total']=temp.sum(axis=1)"
      ],
      "execution_count": null,
      "outputs": []
    },
    {
      "cell_type": "code",
      "metadata": {
        "colab": {
          "base_uri": "https://localhost:8080/"
        },
        "id": "gxjaAslo06IH",
        "outputId": "2521992a-0aba-451e-eb98-f934219c6624"
      },
      "source": [
        "temp"
      ],
      "execution_count": null,
      "outputs": [
        {
          "output_type": "execute_result",
          "data": {
            "text/html": [
              "<div>\n",
              "<style scoped>\n",
              "    .dataframe tbody tr th:only-of-type {\n",
              "        vertical-align: middle;\n",
              "    }\n",
              "\n",
              "    .dataframe tbody tr th {\n",
              "        vertical-align: top;\n",
              "    }\n",
              "\n",
              "    .dataframe thead th {\n",
              "        text-align: right;\n",
              "    }\n",
              "</style>\n",
              "<table border=\"1\" class=\"dataframe\">\n",
              "  <thead>\n",
              "    <tr style=\"text-align: right;\">\n",
              "      <th></th>\n",
              "      <th>index</th>\n",
              "      <th>1</th>\n",
              "      <th>0</th>\n",
              "      <th>total</th>\n",
              "    </tr>\n",
              "  </thead>\n",
              "  <tbody>\n",
              "    <tr>\n",
              "      <th>0</th>\n",
              "      <td>Exercise Induced Angina</td>\n",
              "      <td>142</td>\n",
              "      <td>62</td>\n",
              "      <td>204</td>\n",
              "    </tr>\n",
              "    <tr>\n",
              "      <th>1</th>\n",
              "      <td>Absence of Exercise Induced Angina</td>\n",
              "      <td>23</td>\n",
              "      <td>76</td>\n",
              "      <td>99</td>\n",
              "    </tr>\n",
              "  </tbody>\n",
              "</table>\n",
              "</div>"
            ],
            "text/plain": [
              "                                index    1   0  total\n",
              "0             Exercise Induced Angina  142  62    204\n",
              "1  Absence of Exercise Induced Angina   23  76     99"
            ]
          },
          "metadata": {
            "tags": []
          },
          "execution_count": 125
        }
      ]
    },
    {
      "cell_type": "code",
      "metadata": {
        "id": "w0actgkC03tx"
      },
      "source": [
        "more_chance=temp.iloc[:,1].values\n",
        "less_chance=temp.iloc[:,2].values\n",
        "total=temp.iloc[:,3].values\n",
        "labels=temp.iloc[:,0].values"
      ],
      "execution_count": null,
      "outputs": []
    },
    {
      "cell_type": "code",
      "metadata": {
        "colab": {
          "base_uri": "https://localhost:8080/"
        },
        "id": "hXzdwBDJ6-FA",
        "outputId": "44051c1a-ca0e-4dd9-be5e-00a854ca01d5"
      },
      "source": [
        "bar_plot(labels,less_chance,more_chance,total,\"total\",\"less chance\",\"more chance\",0,\"Induced Angina\")"
      ],
      "execution_count": null,
      "outputs": [
        {
          "output_type": "stream",
          "text": [
            "No handles with labels found to put in legend.\n"
          ],
          "name": "stderr"
        },
        {
          "output_type": "display_data",
          "data": {
            "image/png": "[encoded data removed]",
            "text/plain": [
              "<Figure size 432x288 with 1 Axes>"
            ]
          },
          "metadata": {
            "tags": [],
            "needs_background": "light"
          }
        }
      ]
    },
    {
      "cell_type": "markdown",
      "metadata": {
        "id": "ubCR0XqN1jrf"
      },
      "source": [
        "## Conclusion\n",
        "**(i) Patients Having Exercise Induced Angina are more likely to have heart attack than the patient having Abscence of Exercise Induced Angina**\n",
        "\n",
        "**(ii)There are more Patients having Exercise Induced Angina**\n",
        "\n",
        "**(iii)Patient suffering from Abscence of Exercise Induced Angina are less likely to have an Heart Attack and can be considered as a healthy person**"
      ]
    },
    {
      "cell_type": "markdown",
      "metadata": {
        "id": "im3W4yJL3yYJ"
      },
      "source": [
        "## Heart Attack Chance by Slope(The slope of the peak exercise ST segment)"
      ]
    },
    {
      "cell_type": "code",
      "metadata": {
        "colab": {
          "base_uri": "https://localhost:8080/"
        },
        "id": "qDKmY3kS5HSF",
        "outputId": "c71de26d-1ff7-4e46-d838-29620789903f"
      },
      "source": [
        "df['slope_cat']=df['slope'].replace({0:'Down',1:'Flat',2:'Up'})\n",
        "temp=pd.DataFrame()\n",
        "\n",
        "for slp in df['slope_cat'].unique().tolist():\n",
        "  temp[slp]=df[df['slope_cat']==slp]['target'].value_counts()\n",
        "temp=temp.T.reset_index()\n",
        "temp['total']=temp.sum(axis=1)\n",
        "temp"
      ],
      "execution_count": null,
      "outputs": [
        {
          "output_type": "execute_result",
          "data": {
            "text/html": [
              "<div>\n",
              "<style scoped>\n",
              "    .dataframe tbody tr th:only-of-type {\n",
              "        vertical-align: middle;\n",
              "    }\n",
              "\n",
              "    .dataframe tbody tr th {\n",
              "        vertical-align: top;\n",
              "    }\n",
              "\n",
              "    .dataframe thead th {\n",
              "        text-align: right;\n",
              "    }\n",
              "</style>\n",
              "<table border=\"1\" class=\"dataframe\">\n",
              "  <thead>\n",
              "    <tr style=\"text-align: right;\">\n",
              "      <th></th>\n",
              "      <th>index</th>\n",
              "      <th>0</th>\n",
              "      <th>1</th>\n",
              "      <th>total</th>\n",
              "    </tr>\n",
              "  </thead>\n",
              "  <tbody>\n",
              "    <tr>\n",
              "      <th>0</th>\n",
              "      <td>Down</td>\n",
              "      <td>12</td>\n",
              "      <td>9</td>\n",
              "      <td>21</td>\n",
              "    </tr>\n",
              "    <tr>\n",
              "      <th>1</th>\n",
              "      <td>Up</td>\n",
              "      <td>35</td>\n",
              "      <td>107</td>\n",
              "      <td>142</td>\n",
              "    </tr>\n",
              "    <tr>\n",
              "      <th>2</th>\n",
              "      <td>Flat</td>\n",
              "      <td>91</td>\n",
              "      <td>49</td>\n",
              "      <td>140</td>\n",
              "    </tr>\n",
              "  </tbody>\n",
              "</table>\n",
              "</div>"
            ],
            "text/plain": [
              "  index   0    1  total\n",
              "0  Down  12    9     21\n",
              "1    Up  35  107    142\n",
              "2  Flat  91   49    140"
            ]
          },
          "metadata": {
            "tags": []
          },
          "execution_count": 128
        }
      ]
    },
    {
      "cell_type": "code",
      "metadata": {
        "id": "l5X4U3JN6NUe"
      },
      "source": [
        "more_chance=temp.iloc[:,2].values\n",
        "less_chance=temp.iloc[:,1].values\n",
        "total=temp.iloc[:,3].values\n",
        "labels=temp.iloc[:,0].values"
      ],
      "execution_count": null,
      "outputs": []
    },
    {
      "cell_type": "code",
      "metadata": {
        "colab": {
          "base_uri": "https://localhost:8080/"
        },
        "id": "h_bTRuit-qaV",
        "outputId": "0cb6477f-c9e4-45d9-b588-0e8972c30d9e"
      },
      "source": [
        "bar_plot(labels,less_chance,more_chance,total,\"Total\",\"less chance\",\"more chance\",0,\"Slope\")"
      ],
      "execution_count": null,
      "outputs": [
        {
          "output_type": "stream",
          "text": [
            "No handles with labels found to put in legend.\n"
          ],
          "name": "stderr"
        },
        {
          "output_type": "display_data",
          "data": {
            "image/png": "[encoded data removed]",
            "text/plain": [
              "<Figure size 432x288 with 1 Axes>"
            ]
          },
          "metadata": {
            "tags": [],
            "needs_background": "light"
          }
        }
      ]
    },
    {
      "cell_type": "markdown",
      "metadata": {
        "id": "K0BKuz9h-6lh"
      },
      "source": [
        "## Conclusion\n",
        "**(i) Patients suffering from Up slope has more chances of having a heart attack**\n",
        "\n",
        "**(ii) Only Few Patients suffer from Down slope and are very unlikely to get an heart attack**\n",
        "\n",
        "**(iii) The Proportion of Patients suffering from Flat slope is nearly same as Patients suffering from Uo slope however Patients who has Flat slope are less likely to get an Heart Attack**"
      ]
    },
    {
      "cell_type": "markdown",
      "metadata": {
        "id": "dIl7JL2d_zDq"
      },
      "source": [
        "## Heart Attack Chance by ca(number of major vessels)"
      ]
    },
    {
      "cell_type": "code",
      "metadata": {
        "colab": {
          "base_uri": "https://localhost:8080/"
        },
        "id": "67azhxwWAEKi",
        "outputId": "037c9706-7d03-4483-f896-33a47374c109"
      },
      "source": [
        "temp=pd.DataFrame()\n",
        "for vessel in df['ca'].unique().tolist():\n",
        "  temp[vessel]=df[df['ca']==vessel]['target'].value_counts()\n",
        "temp=temp.T.reset_index()\n",
        "temp['total']=temp.sum(axis=1)\n",
        "temp=temp.sort_values(by='index')\n",
        "temp"
      ],
      "execution_count": null,
      "outputs": [
        {
          "output_type": "execute_result",
          "data": {
            "text/html": [
              "<div>\n",
              "<style scoped>\n",
              "    .dataframe tbody tr th:only-of-type {\n",
              "        vertical-align: middle;\n",
              "    }\n",
              "\n",
              "    .dataframe tbody tr th {\n",
              "        vertical-align: top;\n",
              "    }\n",
              "\n",
              "    .dataframe thead th {\n",
              "        text-align: right;\n",
              "    }\n",
              "</style>\n",
              "<table border=\"1\" class=\"dataframe\">\n",
              "  <thead>\n",
              "    <tr style=\"text-align: right;\">\n",
              "      <th></th>\n",
              "      <th>index</th>\n",
              "      <th>1</th>\n",
              "      <th>0</th>\n",
              "      <th>total</th>\n",
              "    </tr>\n",
              "  </thead>\n",
              "  <tbody>\n",
              "    <tr>\n",
              "      <th>0</th>\n",
              "      <td>0</td>\n",
              "      <td>130</td>\n",
              "      <td>45</td>\n",
              "      <td>175</td>\n",
              "    </tr>\n",
              "    <tr>\n",
              "      <th>2</th>\n",
              "      <td>1</td>\n",
              "      <td>21</td>\n",
              "      <td>44</td>\n",
              "      <td>66</td>\n",
              "    </tr>\n",
              "    <tr>\n",
              "      <th>1</th>\n",
              "      <td>2</td>\n",
              "      <td>7</td>\n",
              "      <td>31</td>\n",
              "      <td>40</td>\n",
              "    </tr>\n",
              "    <tr>\n",
              "      <th>3</th>\n",
              "      <td>3</td>\n",
              "      <td>3</td>\n",
              "      <td>17</td>\n",
              "      <td>23</td>\n",
              "    </tr>\n",
              "    <tr>\n",
              "      <th>4</th>\n",
              "      <td>4</td>\n",
              "      <td>4</td>\n",
              "      <td>1</td>\n",
              "      <td>9</td>\n",
              "    </tr>\n",
              "  </tbody>\n",
              "</table>\n",
              "</div>"
            ],
            "text/plain": [
              "   index    1   0  total\n",
              "0      0  130  45    175\n",
              "2      1   21  44     66\n",
              "1      2    7  31     40\n",
              "3      3    3  17     23\n",
              "4      4    4   1      9"
            ]
          },
          "metadata": {
            "tags": []
          },
          "execution_count": 131
        }
      ]
    },
    {
      "cell_type": "code",
      "metadata": {
        "id": "FzZjwfnZA-Rb"
      },
      "source": [
        "labels=temp.iloc[:,0].values\n",
        "more_chance=temp.iloc[:,1].values\n",
        "less_chance=temp.iloc[:,2].values\n",
        "total=temp.iloc[:,3].values"
      ],
      "execution_count": null,
      "outputs": []
    },
    {
      "cell_type": "code",
      "metadata": {
        "colab": {
          "base_uri": "https://localhost:8080/"
        },
        "id": "X01oleYiBhyK",
        "outputId": "4ea64d8e-e52f-4c13-9bea-96df12b2da09"
      },
      "source": [
        "bar_plot(labels,less_chance,more_chance,total,\"Total\",\"less chance\",\"more chance\",0,\"Number of Major Vessels\")"
      ],
      "execution_count": null,
      "outputs": [
        {
          "output_type": "stream",
          "text": [
            "No handles with labels found to put in legend.\n"
          ],
          "name": "stderr"
        },
        {
          "output_type": "display_data",
          "data": {
            "image/png": "[encoded data removed]",
            "text/plain": [
              "<Figure size 432x288 with 1 Axes>"
            ]
          },
          "metadata": {
            "tags": [],
            "needs_background": "light"
          }
        }
      ]
    },
    {
      "cell_type": "markdown",
      "metadata": {
        "id": "HkxerGZfCc62"
      },
      "source": [
        "## Conclusion\n",
        "**(i) Patients having no major vessels are more likely to get an Heart Attack**\n",
        "\n",
        "**(ii) There are a large number of patients who do not have any major vessel**"
      ]
    },
    {
      "cell_type": "markdown",
      "metadata": {
        "id": "PmMPA5ClEXf3"
      },
      "source": [
        "## Heart Attack Chance by Thall(Heart Status  as Retrieved from Thallium)"
      ]
    },
    {
      "cell_type": "code",
      "metadata": {
        "id": "sPCfDTfAEjze"
      },
      "source": [
        "temp=pd.DataFrame()\n",
        "for thal in df['thal'].unique().tolist():\n",
        "  temp[thal]=df[df['thal']==thal]['target'].value_counts()\n",
        "temp=temp.T.reset_index()\n",
        "temp['total']=temp.sum(axis=1)\n",
        "temp=temp.sort_values(by='index')"
      ],
      "execution_count": null,
      "outputs": []
    },
    {
      "cell_type": "code",
      "metadata": {
        "id": "ZWGvnV1gFCiW"
      },
      "source": [
        "more_chance=temp.iloc[:,2].values\n",
        "less_chance=temp.iloc[:,1].values\n",
        "labels=temp.iloc[:,0].values\n",
        "total=temp.iloc[:,3].values"
      ],
      "execution_count": null,
      "outputs": []
    },
    {
      "cell_type": "code",
      "metadata": {
        "colab": {
          "base_uri": "https://localhost:8080/"
        },
        "id": "aBWrPiH3FQjQ",
        "outputId": "064e2514-e6a7-4967-b43f-ab89118102cb"
      },
      "source": [
        "bar_plot(labels,less_chance,more_chance,total,\"Total\",\"less chance\",\"more chance\",0,\"Thall\")"
      ],
      "execution_count": null,
      "outputs": [
        {
          "output_type": "stream",
          "text": [
            "No handles with labels found to put in legend.\n"
          ],
          "name": "stderr"
        },
        {
          "output_type": "display_data",
          "data": {
            "image/png": "[encoded data removed]",
            "text/plain": [
              "<Figure size 432x288 with 1 Axes>"
            ]
          },
          "metadata": {
            "tags": [],
            "needs_background": "light"
          }
        }
      ]
    },
    {
      "cell_type": "markdown",
      "metadata": {
        "id": "hysUymhtGbEx"
      },
      "source": [
        "## Conclusion\n",
        "**(i) Patient suffereng from Thall value of 2 are more likely to get a heart attack**\n",
        "\n",
        "**(ii) There are a large number of patients who have their thall value of 2**"
      ]
    },
    {
      "cell_type": "markdown",
      "metadata": {
        "id": "6X_kzNWEHxVk"
      },
      "source": [
        "## Heart Attack Chance by Age"
      ]
    },
    {
      "cell_type": "code",
      "metadata": {
        "colab": {
          "base_uri": "https://localhost:8080/"
        },
        "id": "sr26Lrx4H0IJ",
        "outputId": "9da4ff0b-bff5-4fc7-de45-edcf9102570a"
      },
      "source": [
        "df['Age Category']=pd.cut(df['age'],bins=[0,39,49,59,69,79],labels=['25-39','40-49','50-59','60-69','70-79']).to_frame()\n",
        "\n",
        "temp=pd.DataFrame()\n",
        "for age in df['Age Category'].unique().tolist():\n",
        "  temp[age]=df[df['Age Category']==age]['target'].value_counts()\n",
        "temp=temp.T.reset_index()\n",
        "temp['total']=temp.sum(axis=1)\n",
        "temp=temp.sort_values(by='index')\n",
        "temp"
      ],
      "execution_count": null,
      "outputs": [
        {
          "output_type": "execute_result",
          "data": {
            "text/html": [
              "<div>\n",
              "<style scoped>\n",
              "    .dataframe tbody tr th:only-of-type {\n",
              "        vertical-align: middle;\n",
              "    }\n",
              "\n",
              "    .dataframe tbody tr th {\n",
              "        vertical-align: top;\n",
              "    }\n",
              "\n",
              "    .dataframe thead th {\n",
              "        text-align: right;\n",
              "    }\n",
              "</style>\n",
              "<table border=\"1\" class=\"dataframe\">\n",
              "  <thead>\n",
              "    <tr style=\"text-align: right;\">\n",
              "      <th></th>\n",
              "      <th>index</th>\n",
              "      <th>0</th>\n",
              "      <th>1</th>\n",
              "      <th>total</th>\n",
              "    </tr>\n",
              "  </thead>\n",
              "  <tbody>\n",
              "    <tr>\n",
              "      <th>1</th>\n",
              "      <td>25-39</td>\n",
              "      <td>4</td>\n",
              "      <td>12</td>\n",
              "      <td>16</td>\n",
              "    </tr>\n",
              "    <tr>\n",
              "      <th>2</th>\n",
              "      <td>40-49</td>\n",
              "      <td>22</td>\n",
              "      <td>50</td>\n",
              "      <td>72</td>\n",
              "    </tr>\n",
              "    <tr>\n",
              "      <th>3</th>\n",
              "      <td>50-59</td>\n",
              "      <td>60</td>\n",
              "      <td>65</td>\n",
              "      <td>125</td>\n",
              "    </tr>\n",
              "    <tr>\n",
              "      <th>0</th>\n",
              "      <td>60-69</td>\n",
              "      <td>48</td>\n",
              "      <td>32</td>\n",
              "      <td>80</td>\n",
              "    </tr>\n",
              "    <tr>\n",
              "      <th>4</th>\n",
              "      <td>70-79</td>\n",
              "      <td>4</td>\n",
              "      <td>6</td>\n",
              "      <td>10</td>\n",
              "    </tr>\n",
              "  </tbody>\n",
              "</table>\n",
              "</div>"
            ],
            "text/plain": [
              "   index   0   1  total\n",
              "1  25-39   4  12     16\n",
              "2  40-49  22  50     72\n",
              "3  50-59  60  65    125\n",
              "0  60-69  48  32     80\n",
              "4  70-79   4   6     10"
            ]
          },
          "metadata": {
            "tags": []
          },
          "execution_count": 137
        }
      ]
    },
    {
      "cell_type": "code",
      "metadata": {
        "id": "KunHe_6-JulK"
      },
      "source": [
        "more_chance=temp.iloc[:,2].values\n",
        "less_chance=temp.iloc[:,1].values\n",
        "total=temp.iloc[:,3].values\n",
        "labels=temp.iloc[:,0].values"
      ],
      "execution_count": null,
      "outputs": []
    },
    {
      "cell_type": "code",
      "metadata": {
        "colab": {
          "base_uri": "https://localhost:8080/"
        },
        "id": "ycGT_PN9KRBU",
        "outputId": "c273a675-8c4c-45a9-d0ed-6d6b839ba50f"
      },
      "source": [
        "bar_plot(labels,less_chance,more_chance,total,\"Total\",\"less chance\",\"more chance\",0,\"Age\")"
      ],
      "execution_count": null,
      "outputs": [
        {
          "output_type": "stream",
          "text": [
            "No handles with labels found to put in legend.\n"
          ],
          "name": "stderr"
        },
        {
          "output_type": "display_data",
          "data": {
            "image/png": "[encoded data removed]",
            "text/plain": [
              "<Figure size 432x288 with 1 Axes>"
            ]
          },
          "metadata": {
            "tags": [],
            "needs_background": "light"
          }
        }
      ]
    },
    {
      "cell_type": "markdown",
      "metadata": {
        "id": "0EQEFG2pMSOV"
      },
      "source": [
        "## Conclusion\n",
        "**(i) Most Patient are between 50 years to 59 years**\n",
        "\n",
        "**(ii) Patient Between Age 50-59 are more likely to suffer from a Heart Attack**\n",
        "\n",
        "**(iii) Patients Between Age 25-39 have less chance of getting a Heart Attack**"
      ]
    },
    {
      "cell_type": "markdown",
      "metadata": {
        "id": "5z4EG9FGN-dE"
      },
      "source": [
        "## Heart Attack Chance by trestbps"
      ]
    },
    {
      "cell_type": "code",
      "metadata": {
        "colab": {
          "base_uri": "https://localhost:8080/"
        },
        "id": "o8cBRWvJOErr",
        "outputId": "6623d4c3-396f-41b8-f9c2-0e16b0b9e0d9"
      },
      "source": [
        "df['bps category']=pd.cut(df['trestbps'],bins=[0,90,120,200],labels=[\"Low Blood Pressure\",\"Purrfect Blood Pressure\",\"High Blood Pressure\"]).to_frame()\n",
        "temp=pd.DataFrame()\n",
        "for t in df['bps category'].unique().tolist():\n",
        "  temp[t]=df[df['bps category']==t]['target'].value_counts()\n",
        "temp=temp.T.reset_index()\n",
        "temp['total']=temp.sum(axis=1)\n",
        "temp"
      ],
      "execution_count": null,
      "outputs": [
        {
          "output_type": "execute_result",
          "data": {
            "text/html": [
              "<div>\n",
              "<style scoped>\n",
              "    .dataframe tbody tr th:only-of-type {\n",
              "        vertical-align: middle;\n",
              "    }\n",
              "\n",
              "    .dataframe tbody tr th {\n",
              "        vertical-align: top;\n",
              "    }\n",
              "\n",
              "    .dataframe thead th {\n",
              "        text-align: right;\n",
              "    }\n",
              "</style>\n",
              "<table border=\"1\" class=\"dataframe\">\n",
              "  <thead>\n",
              "    <tr style=\"text-align: right;\">\n",
              "      <th></th>\n",
              "      <th>index</th>\n",
              "      <th>1</th>\n",
              "      <th>0</th>\n",
              "      <th>total</th>\n",
              "    </tr>\n",
              "  </thead>\n",
              "  <tbody>\n",
              "    <tr>\n",
              "      <th>0</th>\n",
              "      <td>High Blood Pressure</td>\n",
              "      <td>105</td>\n",
              "      <td>101</td>\n",
              "      <td>206</td>\n",
              "    </tr>\n",
              "    <tr>\n",
              "      <th>1</th>\n",
              "      <td>Purrfect Blood Pressure</td>\n",
              "      <td>60</td>\n",
              "      <td>37</td>\n",
              "      <td>97</td>\n",
              "    </tr>\n",
              "  </tbody>\n",
              "</table>\n",
              "</div>"
            ],
            "text/plain": [
              "                     index    1    0  total\n",
              "0      High Blood Pressure  105  101    206\n",
              "1  Purrfect Blood Pressure   60   37     97"
            ]
          },
          "metadata": {
            "tags": []
          },
          "execution_count": 140
        }
      ]
    },
    {
      "cell_type": "code",
      "metadata": {
        "id": "eP_gx00BQe0g"
      },
      "source": [
        "more_chance=temp.iloc[:,1].values\n",
        "less_chance=temp.iloc[:,2].values\n",
        "total=temp.iloc[:,3].values\n",
        "labels=temp.iloc[:,0].values"
      ],
      "execution_count": null,
      "outputs": []
    },
    {
      "cell_type": "code",
      "metadata": {
        "colab": {
          "base_uri": "https://localhost:8080/"
        },
        "id": "7_FuYVEwRLyw",
        "outputId": "ff1ff80e-d0ed-4ff4-f5b5-b17e0dbac2fe"
      },
      "source": [
        "bar_plot(labels,less_chance,more_chance,total,\"Total\",\"less chance\",\"more chance\",0,\"Blood Pressure\")"
      ],
      "execution_count": null,
      "outputs": [
        {
          "output_type": "stream",
          "text": [
            "No handles with labels found to put in legend.\n"
          ],
          "name": "stderr"
        },
        {
          "output_type": "display_data",
          "data": {
            "image/png": "[encoded data removed]",
            "text/plain": [
              "<Figure size 432x288 with 1 Axes>"
            ]
          },
          "metadata": {
            "tags": [],
            "needs_background": "light"
          }
        }
      ]
    },
    {
      "cell_type": "markdown",
      "metadata": {
        "id": "yJ4stgDoRYk0"
      },
      "source": [
        "## Conclusion\n",
        "**(i) There are Many Patients suffering from High Blood Pressure**\n",
        "\n",
        "**(ii) Patients Suffering from High Blood Pressure are more likely to get a Heart Attack than Patients having perfect blood pressure**"
      ]
    },
    {
      "cell_type": "markdown",
      "metadata": {
        "id": "0Q6x6DwETdtp"
      },
      "source": [
        "## Heart Attack Chance by Cholestrol level"
      ]
    },
    {
      "cell_type": "code",
      "metadata": {
        "colab": {
          "base_uri": "https://localhost:8080/"
        },
        "id": "xcmq0-OkTiKe",
        "outputId": "8c8b8a56-24d6-4f7d-dbc4-357476049467"
      },
      "source": [
        "df['chol category']=pd.cut(df['chol'],bins=[0,200,240,600],labels=['Purrfect','Borderline','High']).to_frame()\n",
        "\n",
        "temp=pd.DataFrame()\n",
        "for chol in df['chol category'].unique().tolist():\n",
        "  temp[chol]=df[df['chol category']==chol]['target'].value_counts()\n",
        "temp=temp.T.reset_index()\n",
        "temp['total']=temp.sum(axis=1)\n",
        "temp"
      ],
      "execution_count": null,
      "outputs": [
        {
          "output_type": "execute_result",
          "data": {
            "text/html": [
              "<div>\n",
              "<style scoped>\n",
              "    .dataframe tbody tr th:only-of-type {\n",
              "        vertical-align: middle;\n",
              "    }\n",
              "\n",
              "    .dataframe tbody tr th {\n",
              "        vertical-align: top;\n",
              "    }\n",
              "\n",
              "    .dataframe thead th {\n",
              "        text-align: right;\n",
              "    }\n",
              "</style>\n",
              "<table border=\"1\" class=\"dataframe\">\n",
              "  <thead>\n",
              "    <tr style=\"text-align: right;\">\n",
              "      <th></th>\n",
              "      <th>index</th>\n",
              "      <th>1</th>\n",
              "      <th>0</th>\n",
              "      <th>total</th>\n",
              "    </tr>\n",
              "  </thead>\n",
              "  <tbody>\n",
              "    <tr>\n",
              "      <th>0</th>\n",
              "      <td>Borderline</td>\n",
              "      <td>63</td>\n",
              "      <td>38</td>\n",
              "      <td>101</td>\n",
              "    </tr>\n",
              "    <tr>\n",
              "      <th>1</th>\n",
              "      <td>High</td>\n",
              "      <td>72</td>\n",
              "      <td>79</td>\n",
              "      <td>151</td>\n",
              "    </tr>\n",
              "    <tr>\n",
              "      <th>2</th>\n",
              "      <td>Purrfect</td>\n",
              "      <td>30</td>\n",
              "      <td>21</td>\n",
              "      <td>51</td>\n",
              "    </tr>\n",
              "  </tbody>\n",
              "</table>\n",
              "</div>"
            ],
            "text/plain": [
              "        index   1   0  total\n",
              "0  Borderline  63  38    101\n",
              "1        High  72  79    151\n",
              "2    Purrfect  30  21     51"
            ]
          },
          "metadata": {
            "tags": []
          },
          "execution_count": 143
        }
      ]
    },
    {
      "cell_type": "code",
      "metadata": {
        "id": "nyahKC6VVG4m"
      },
      "source": [
        "more_chance=temp.iloc[:,1].values\n",
        "less_chance=temp.iloc[:,2].values\n",
        "total=temp.iloc[:,3].values\n",
        "labels=temp.iloc[:,0].values"
      ],
      "execution_count": null,
      "outputs": []
    },
    {
      "cell_type": "code",
      "metadata": {
        "colab": {
          "base_uri": "https://localhost:8080/"
        },
        "id": "Avla4bRBVWIK",
        "outputId": "878c1075-a049-472c-bff4-f6565accbf3c"
      },
      "source": [
        "bar_plot(labels,less_chance,more_chance,total,\"Total\",\"less chance\",\"more chance\",0,\"Cholesterol Level\")"
      ],
      "execution_count": null,
      "outputs": [
        {
          "output_type": "stream",
          "text": [
            "No handles with labels found to put in legend.\n"
          ],
          "name": "stderr"
        },
        {
          "output_type": "display_data",
          "data": {
            "image/png": "[encoded data removed]",
            "text/plain": [
              "<Figure size 432x288 with 1 Axes>"
            ]
          },
          "metadata": {
            "tags": [],
            "needs_background": "light"
          }
        }
      ]
    },
    {
      "cell_type": "markdown",
      "metadata": {
        "id": "7FQIknoPVmhk"
      },
      "source": [
        "## Conclusion\n",
        "**(i) Most Patient Suffer from High Cholestrol level**\n",
        "\n",
        "**(ii) Patient having high cholestrol level are more likely to get a Heart Attack**\n",
        "\n",
        "**(iii) Chances of getting a Heart Attack is nearly the same even for a Patient Suffering from a Borderline Cholesterol level**\n",
        "\n",
        "**(iv) Hence we can conclude that cholestrol is very Harmful and must be kept under control**"
      ]
    },
    {
      "cell_type": "markdown",
      "metadata": {
        "id": "jwtKfv66WpvN"
      },
      "source": [
        "## Heart Attack Chance By Thalach"
      ]
    },
    {
      "cell_type": "code",
      "metadata": {
        "colab": {
          "base_uri": "https://localhost:8080/"
        },
        "id": "CUFXdGFYXlco",
        "outputId": "ade1e5ff-ef47-40ba-e040-34d4ef5b88f7"
      },
      "source": [
        "temp = pd.DataFrame(index=[['Average heart rate(target=0)','Average heart rate (target=1)']])\n",
        "for age in df['Age Category'].unique().tolist():\n",
        "    temp[age] = df[df['Age Category']==age][['thalach','target']].groupby('target').mean().astype(int).values\n",
        "temp"
      ],
      "execution_count": null,
      "outputs": [
        {
          "output_type": "execute_result",
          "data": {
            "text/html": [
              "<div>\n",
              "<style scoped>\n",
              "    .dataframe tbody tr th:only-of-type {\n",
              "        vertical-align: middle;\n",
              "    }\n",
              "\n",
              "    .dataframe tbody tr th {\n",
              "        vertical-align: top;\n",
              "    }\n",
              "\n",
              "    .dataframe thead th {\n",
              "        text-align: right;\n",
              "    }\n",
              "</style>\n",
              "<table border=\"1\" class=\"dataframe\">\n",
              "  <thead>\n",
              "    <tr style=\"text-align: right;\">\n",
              "      <th></th>\n",
              "      <th>60-69</th>\n",
              "      <th>25-39</th>\n",
              "      <th>40-49</th>\n",
              "      <th>50-59</th>\n",
              "      <th>70-79</th>\n",
              "    </tr>\n",
              "  </thead>\n",
              "  <tbody>\n",
              "    <tr>\n",
              "      <th>Average heart rate(target=0)</th>\n",
              "      <td>138</td>\n",
              "      <td>152</td>\n",
              "      <td>143</td>\n",
              "      <td>137</td>\n",
              "      <td>127</td>\n",
              "    </tr>\n",
              "    <tr>\n",
              "      <th>Average heart rate (target=1)</th>\n",
              "      <td>145</td>\n",
              "      <td>178</td>\n",
              "      <td>166</td>\n",
              "      <td>157</td>\n",
              "      <td>132</td>\n",
              "    </tr>\n",
              "  </tbody>\n",
              "</table>\n",
              "</div>"
            ],
            "text/plain": [
              "                               60-69  25-39  40-49  50-59  70-79\n",
              "Average heart rate(target=0)     138    152    143    137    127\n",
              "Average heart rate (target=1)    145    178    166    157    132"
            ]
          },
          "metadata": {
            "tags": []
          },
          "execution_count": 146
        }
      ]
    },
    {
      "cell_type": "code",
      "metadata": {
        "colab": {
          "base_uri": "https://localhost:8080/"
        },
        "id": "biY4DRoA09Sz",
        "outputId": "a1390909-eeaf-4c99-e492-2baf7a275ab5"
      },
      "source": [
        "temp=temp.T\n",
        "temp"
      ],
      "execution_count": null,
      "outputs": [
        {
          "output_type": "execute_result",
          "data": {
            "text/html": [
              "<div>\n",
              "<style scoped>\n",
              "    .dataframe tbody tr th:only-of-type {\n",
              "        vertical-align: middle;\n",
              "    }\n",
              "\n",
              "    .dataframe tbody tr th {\n",
              "        vertical-align: top;\n",
              "    }\n",
              "\n",
              "    .dataframe thead tr th {\n",
              "        text-align: left;\n",
              "    }\n",
              "</style>\n",
              "<table border=\"1\" class=\"dataframe\">\n",
              "  <thead>\n",
              "    <tr>\n",
              "      <th></th>\n",
              "      <th>Average heart rate(target=0)</th>\n",
              "      <th>Average heart rate (target=1)</th>\n",
              "    </tr>\n",
              "  </thead>\n",
              "  <tbody>\n",
              "    <tr>\n",
              "      <th>60-69</th>\n",
              "      <td>138</td>\n",
              "      <td>145</td>\n",
              "    </tr>\n",
              "    <tr>\n",
              "      <th>25-39</th>\n",
              "      <td>152</td>\n",
              "      <td>178</td>\n",
              "    </tr>\n",
              "    <tr>\n",
              "      <th>40-49</th>\n",
              "      <td>143</td>\n",
              "      <td>166</td>\n",
              "    </tr>\n",
              "    <tr>\n",
              "      <th>50-59</th>\n",
              "      <td>137</td>\n",
              "      <td>157</td>\n",
              "    </tr>\n",
              "    <tr>\n",
              "      <th>70-79</th>\n",
              "      <td>127</td>\n",
              "      <td>132</td>\n",
              "    </tr>\n",
              "  </tbody>\n",
              "</table>\n",
              "</div>"
            ],
            "text/plain": [
              "      Average heart rate(target=0) Average heart rate (target=1)\n",
              "60-69                          138                           145\n",
              "25-39                          152                           178\n",
              "40-49                          143                           166\n",
              "50-59                          137                           157\n",
              "70-79                          127                           132"
            ]
          },
          "metadata": {
            "tags": []
          },
          "execution_count": 147
        }
      ]
    },
    {
      "cell_type": "code",
      "metadata": {
        "id": "MA1LuYzo8FKQ"
      },
      "source": [
        "labels=temp.index.tolist()\n",
        "more_chance=temp.iloc[:,1].values\n",
        "less_chance=temp.iloc[:,0].values"
      ],
      "execution_count": null,
      "outputs": []
    },
    {
      "cell_type": "code",
      "metadata": {
        "colab": {
          "base_uri": "https://localhost:8080/"
        },
        "id": "gliha1LJ8Vcd",
        "outputId": "50a7e1e6-ec51-489c-b011-e6262cb9f9ca"
      },
      "source": [
        "w = 0.315 # the width of the bars\n",
        "bar1 = np.arange(len(labels))  # the label locations\n",
        "bar2=[i+w for i in bar1]\n",
        "fig, ax = plt.subplots()\n",
        "rects1 = ax.bar(bar1,less_chance,w,label=\"less chance\",color=([29/235,105/235,150/235]))\n",
        "rects2 = ax.bar(bar2,more_chance,w,label=\"more chance\",color=([56/235,166/235,165/235]))\n",
        "fig.tight_layout()\n",
        "plt.xticks(bar1,labels)\n",
        "plt.title(\"Heart Attack Chance By Average Heart Rate\")\n",
        "ax.legend()\n",
        "plt.grid(axis='y',linestyle='--')\n",
        "plt.show()"
      ],
      "execution_count": null,
      "outputs": [
        {
          "output_type": "display_data",
          "data": {
            "image/png": "[encoded data removed]",
            "text/plain": [
              "<Figure size 432x288 with 1 Axes>"
            ]
          },
          "metadata": {
            "tags": [],
            "needs_background": "light"
          }
        }
      ]
    },
    {
      "cell_type": "markdown",
      "metadata": {
        "id": "xJo98jYI_lhc"
      },
      "source": [
        "## Conclusion \n",
        "**(i) The Average Heart Rate for age between 25-39 can reach up to 178 bpm and are more likely to receive a Heart Attack**\n",
        "\n",
        "**(ii) The Average Heart rate for a Healthy Person can reach upto 152 bpm**\n",
        "\n",
        "**(iii) Older Persons Ideal Average Heart Rate can reach up to 127\n",
        "bpm**\n",
        "\n",
        "**(iv) The Average Heart Rate gets linearly slower as the age progresses**"
      ]
    },
    {
      "cell_type": "markdown",
      "metadata": {
        "id": "0QM8uBM4BfLc"
      },
      "source": [
        "## Maximum Heart Rate vs Age"
      ]
    },
    {
      "cell_type": "code",
      "metadata": {
        "colab": {
          "base_uri": "https://localhost:8080/"
        },
        "id": "p8FyajYfDGm3",
        "outputId": "d5fe8c63-9a66-492b-ed8d-5b440e9d67c7"
      },
      "source": [
        "fig = px.scatter(data_frame=df,\n",
        "                 y='age',\n",
        "                 x='thalach',\n",
        "                 color='target')\n",
        "fig['layout'].update(title='Maximum heart rate achieve vs Age',titlefont=dict(size=20),xaxis=dict(title='Maximum heart rate achieve',titlefont=dict(size=18)))\n",
        "fig.show()"
      ],
      "execution_count": null,
      "outputs": [
        {
          "output_type": "display_data",
          "data": {
            "text/html": [
              "<html>\n",
              "<head><meta charset=\"utf-8\" /></head>\n",
              "<body>\n",
              "    <div>\n",
              "            <script src=\"https://cdnjs.cloudflare.com/ajax/libs/mathjax/2.7.5/MathJax.js?config=TeX-AMS-MML_SVG\"></script><script type=\"text/javascript\">if (window.MathJax) {MathJax.Hub.Config({SVG: {font: \"STIX-Web\"}});}</script>\n",
              "                <script type=\"text/javascript\">window.PlotlyConfig = {MathJaxConfig: 'local'};</script>\n",
              "        <script src=\"https://cdn.plot.ly/plotly-latest.min.js\"></script>    \n",
              "            <div id=\"883b65a7-d187-4383-bafd-86995f25de8c\" class=\"plotly-graph-div\" style=\"height:525px; width:100%;\"></div>\n",
              "            <script type=\"text/javascript\">\n",
              "                \n",
              "                    window.PLOTLYENV=window.PLOTLYENV || {};\n",
              "                    \n",
              "                if (document.getElementById(\"883b65a7-d187-4383-bafd-86995f25de8c\")) {\n",
              "                    Plotly.newPlot(\n",
              "                        '883b65a7-d187-4383-bafd-86995f25de8c',\n",
              "                        [{\"hoverlabel\": {\"namelength\": 0}, \"hovertemplate\": \"thalach=%{x}<br>age=%{y}<br>target=%{marker.color}\", \"legendgroup\": \"\", \"marker\": {\"color\": [1, 1, 1, 1, 1, 1, 1, 1, 1, 1, 1, 1, 1, 1, 1, 1, 1, 1, 1, 1, 1, 1, 1, 1, 1, 1, 1, 1, 1, 1, 1, 1, 1, 1, 1, 1, 1, 1, 1, 1, 1, 1, 1, 1, 1, 1, 1, 1, 1, 1, 1, 1, 1, 1, 1, 1, 1, 1, 1, 1, 1, 1, 1, 1, 1, 1, 1, 1, 1, 1, 1, 1, 1, 1, 1, 1, 1, 1, 1, 1, 1, 1, 1, 1, 1, 1, 1, 1, 1, 1, 1, 1, 1, 1, 1, 1, 1, 1, 1, 1, 1, 1, 1, 1, 1, 1, 1, 1, 1, 1, 1, 1, 1, 1, 1, 1, 1, 1, 1, 1, 1, 1, 1, 1, 1, 1, 1, 1, 1, 1, 1, 1, 1, 1, 1, 1, 1, 1, 1, 1, 1, 1, 1, 1, 1, 1, 1, 1, 1, 1, 1, 1, 1, 1, 1, 1, 1, 1, 1, 1, 1, 1, 1, 1, 1, 0, 0, 0, 0, 0, 0, 0, 0, 0, 0, 0, 0, 0, 0, 0, 0, 0, 0, 0, 0, 0, 0, 0, 0, 0, 0, 0, 0, 0, 0, 0, 0, 0, 0, 0, 0, 0, 0, 0, 0, 0, 0, 0, 0, 0, 0, 0, 0, 0, 0, 0, 0, 0, 0, 0, 0, 0, 0, 0, 0, 0, 0, 0, 0, 0, 0, 0, 0, 0, 0, 0, 0, 0, 0, 0, 0, 0, 0, 0, 0, 0, 0, 0, 0, 0, 0, 0, 0, 0, 0, 0, 0, 0, 0, 0, 0, 0, 0, 0, 0, 0, 0, 0, 0, 0, 0, 0, 0, 0, 0, 0, 0, 0, 0, 0, 0, 0, 0, 0, 0, 0, 0, 0, 0, 0, 0, 0, 0, 0, 0, 0, 0, 0, 0, 0, 0, 0, 0], \"coloraxis\": \"coloraxis\", \"symbol\": \"circle\"}, \"mode\": \"markers\", \"name\": \"\", \"showlegend\": false, \"type\": \"scatter\", \"x\": [150, 187, 172, 178, 163, 148, 153, 173, 162, 174, 160, 139, 171, 144, 162, 158, 172, 114, 171, 151, 161, 179, 178, 137, 178, 162, 157, 123, 157, 152, 168, 140, 188, 152, 125, 160, 170, 165, 148, 151, 142, 180, 148, 143, 182, 172, 180, 156, 115, 160, 149, 151, 146, 175, 172, 158, 186, 185, 174, 159, 130, 156, 190, 132, 165, 182, 143, 175, 170, 163, 147, 154, 202, 186, 165, 161, 166, 164, 184, 154, 179, 170, 160, 178, 122, 160, 151, 156, 158, 122, 175, 168, 169, 159, 138, 111, 157, 147, 162, 173, 178, 145, 179, 194, 163, 115, 131, 152, 162, 159, 154, 173, 133, 161, 155, 170, 168, 162, 172, 152, 122, 182, 172, 167, 179, 192, 143, 172, 169, 121, 163, 162, 162, 153, 163, 163, 96, 140, 126, 105, 157, 181, 173, 142, 116, 143, 149, 171, 169, 150, 138, 125, 155, 152, 152, 131, 179, 174, 144, 163, 169, 166, 182, 173, 173, 108, 129, 160, 147, 155, 142, 168, 160, 173, 132, 114, 160, 158, 120, 112, 132, 114, 169, 165, 128, 153, 144, 109, 163, 158, 142, 131, 113, 142, 155, 140, 147, 163, 99, 158, 177, 141, 111, 150, 145, 161, 142, 157, 139, 162, 150, 140, 140, 146, 144, 136, 97, 132, 127, 150, 154, 111, 174, 133, 126, 125, 103, 130, 159, 131, 152, 124, 145, 96, 109, 173, 171, 170, 162, 156, 112, 143, 132, 88, 105, 166, 150, 120, 195, 146, 122, 143, 106, 125, 125, 147, 130, 126, 154, 182, 165, 160, 95, 169, 108, 132, 117, 126, 116, 103, 144, 145, 71, 156, 118, 168, 105, 141, 152, 125, 125, 156, 134, 181, 138, 120, 162, 164, 143, 130, 161, 140, 146, 150, 144, 144, 136, 90, 123, 132, 141, 115, 174], \"xaxis\": \"x\", \"y\": [63, 37, 41, 56, 57, 57, 56, 44, 52, 57, 54, 48, 49, 64, 58, 50, 58, 66, 43, 69, 59, 44, 42, 61, 40, 71, 59, 51, 65, 53, 41, 65, 44, 54, 51, 46, 54, 54, 65, 65, 51, 48, 45, 53, 39, 52, 44, 47, 53, 53, 51, 66, 62, 44, 63, 52, 48, 45, 34, 57, 71, 54, 52, 41, 58, 35, 51, 45, 44, 62, 54, 51, 29, 51, 43, 55, 51, 59, 52, 58, 41, 45, 60, 52, 42, 67, 68, 46, 54, 58, 48, 57, 52, 54, 45, 53, 62, 52, 43, 53, 42, 59, 63, 42, 50, 68, 69, 45, 50, 50, 64, 57, 64, 43, 55, 37, 41, 56, 46, 46, 64, 59, 41, 54, 39, 34, 47, 67, 52, 74, 54, 49, 42, 41, 41, 49, 60, 62, 57, 64, 51, 43, 42, 67, 76, 70, 44, 60, 44, 42, 66, 71, 64, 66, 39, 58, 47, 35, 58, 56, 56, 55, 41, 38, 38, 67, 67, 62, 63, 53, 56, 48, 58, 58, 60, 40, 60, 64, 43, 57, 55, 65, 61, 58, 50, 44, 60, 54, 50, 41, 51, 58, 54, 60, 60, 59, 46, 67, 62, 65, 44, 60, 58, 68, 62, 52, 59, 60, 49, 59, 57, 61, 39, 61, 56, 43, 62, 63, 65, 48, 63, 55, 65, 56, 54, 70, 62, 35, 59, 64, 47, 57, 55, 64, 70, 51, 58, 60, 77, 35, 70, 59, 64, 57, 56, 48, 56, 66, 54, 69, 51, 43, 62, 67, 59, 45, 58, 50, 62, 38, 66, 52, 53, 63, 54, 66, 55, 49, 54, 56, 46, 61, 67, 58, 47, 52, 58, 57, 58, 61, 42, 52, 59, 40, 61, 46, 59, 57, 57, 55, 61, 58, 58, 67, 44, 63, 63, 59, 57, 45, 68, 57, 57], \"yaxis\": \"y\"}],\n",
              "                        {\"coloraxis\": {\"colorbar\": {\"title\": {\"text\": \"target\"}}, \"colorscale\": [[0.0, \"#0d0887\"], [0.1111111111111111, \"#46039f\"], [0.2222222222222222, \"#7201a8\"], [0.3333333333333333, \"#9c179e\"], [0.4444444444444444, \"#bd3786\"], [0.5555555555555556, \"#d8576b\"], [0.6666666666666666, \"#ed7953\"], [0.7777777777777778, \"#fb9f3a\"], [0.8888888888888888, \"#fdca26\"], [1.0, \"#f0f921\"]]}, \"legend\": {\"tracegroupgap\": 0}, \"margin\": {\"t\": 60}, \"template\": {\"data\": {\"bar\": [{\"error_x\": {\"color\": \"#2a3f5f\"}, \"error_y\": {\"color\": \"#2a3f5f\"}, \"marker\": {\"line\": {\"color\": \"#E5ECF6\", \"width\": 0.5}}, \"type\": \"bar\"}], \"barpolar\": [{\"marker\": {\"line\": {\"color\": \"#E5ECF6\", \"width\": 0.5}}, \"type\": \"barpolar\"}], \"carpet\": [{\"aaxis\": {\"endlinecolor\": \"#2a3f5f\", \"gridcolor\": \"white\", \"linecolor\": \"white\", \"minorgridcolor\": \"white\", \"startlinecolor\": \"#2a3f5f\"}, \"baxis\": {\"endlinecolor\": \"#2a3f5f\", \"gridcolor\": \"white\", \"linecolor\": \"white\", \"minorgridcolor\": \"white\", \"startlinecolor\": \"#2a3f5f\"}, \"type\": \"carpet\"}], \"choropleth\": [{\"colorbar\": {\"outlinewidth\": 0, \"ticks\": \"\"}, \"type\": \"choropleth\"}], \"contour\": [{\"colorbar\": {\"outlinewidth\": 0, \"ticks\": \"\"}, \"colorscale\": [[0.0, \"#0d0887\"], [0.1111111111111111, \"#46039f\"], [0.2222222222222222, \"#7201a8\"], [0.3333333333333333, \"#9c179e\"], [0.4444444444444444, \"#bd3786\"], [0.5555555555555556, \"#d8576b\"], [0.6666666666666666, \"#ed7953\"], [0.7777777777777778, \"#fb9f3a\"], [0.8888888888888888, \"#fdca26\"], [1.0, \"#f0f921\"]], \"type\": \"contour\"}], \"contourcarpet\": [{\"colorbar\": {\"outlinewidth\": 0, \"ticks\": \"\"}, \"type\": \"contourcarpet\"}], \"heatmap\": [{\"colorbar\": {\"outlinewidth\": 0, \"ticks\": \"\"}, \"colorscale\": [[0.0, \"#0d0887\"], [0.1111111111111111, \"#46039f\"], [0.2222222222222222, \"#7201a8\"], [0.3333333333333333, \"#9c179e\"], [0.4444444444444444, \"#bd3786\"], [0.5555555555555556, \"#d8576b\"], [0.6666666666666666, \"#ed7953\"], [0.7777777777777778, \"#fb9f3a\"], [0.8888888888888888, \"#fdca26\"], [1.0, \"#f0f921\"]], \"type\": \"heatmap\"}], \"heatmapgl\": [{\"colorbar\": {\"outlinewidth\": 0, \"ticks\": \"\"}, \"colorscale\": [[0.0, \"#0d0887\"], [0.1111111111111111, \"#46039f\"], [0.2222222222222222, \"#7201a8\"], [0.3333333333333333, \"#9c179e\"], [0.4444444444444444, \"#bd3786\"], [0.5555555555555556, \"#d8576b\"], [0.6666666666666666, \"#ed7953\"], [0.7777777777777778, \"#fb9f3a\"], [0.8888888888888888, \"#fdca26\"], [1.0, \"#f0f921\"]], \"type\": \"heatmapgl\"}], \"histogram\": [{\"marker\": {\"colorbar\": {\"outlinewidth\": 0, \"ticks\": \"\"}}, \"type\": \"histogram\"}], \"histogram2d\": [{\"colorbar\": {\"outlinewidth\": 0, \"ticks\": \"\"}, \"colorscale\": [[0.0, \"#0d0887\"], [0.1111111111111111, \"#46039f\"], [0.2222222222222222, \"#7201a8\"], [0.3333333333333333, \"#9c179e\"], [0.4444444444444444, \"#bd3786\"], [0.5555555555555556, \"#d8576b\"], [0.6666666666666666, \"#ed7953\"], [0.7777777777777778, \"#fb9f3a\"], [0.8888888888888888, \"#fdca26\"], [1.0, \"#f0f921\"]], \"type\": \"histogram2d\"}], \"histogram2dcontour\": [{\"colorbar\": {\"outlinewidth\": 0, \"ticks\": \"\"}, \"colorscale\": [[0.0, \"#0d0887\"], [0.1111111111111111, \"#46039f\"], [0.2222222222222222, \"#7201a8\"], [0.3333333333333333, \"#9c179e\"], [0.4444444444444444, \"#bd3786\"], [0.5555555555555556, \"#d8576b\"], [0.6666666666666666, \"#ed7953\"], [0.7777777777777778, \"#fb9f3a\"], [0.8888888888888888, \"#fdca26\"], [1.0, \"#f0f921\"]], \"type\": \"histogram2dcontour\"}], \"mesh3d\": [{\"colorbar\": {\"outlinewidth\": 0, \"ticks\": \"\"}, \"type\": \"mesh3d\"}], \"parcoords\": [{\"line\": {\"colorbar\": {\"outlinewidth\": 0, \"ticks\": \"\"}}, \"type\": \"parcoords\"}], \"pie\": [{\"automargin\": true, \"type\": \"pie\"}], \"scatter\": [{\"marker\": {\"colorbar\": {\"outlinewidth\": 0, \"ticks\": \"\"}}, \"type\": \"scatter\"}], \"scatter3d\": [{\"line\": {\"colorbar\": {\"outlinewidth\": 0, \"ticks\": \"\"}}, \"marker\": {\"colorbar\": {\"outlinewidth\": 0, \"ticks\": \"\"}}, \"type\": \"scatter3d\"}], \"scattercarpet\": [{\"marker\": {\"colorbar\": {\"outlinewidth\": 0, \"ticks\": \"\"}}, \"type\": \"scattercarpet\"}], \"scattergeo\": [{\"marker\": {\"colorbar\": {\"outlinewidth\": 0, \"ticks\": \"\"}}, \"type\": \"scattergeo\"}], \"scattergl\": [{\"marker\": {\"colorbar\": {\"outlinewidth\": 0, \"ticks\": \"\"}}, \"type\": \"scattergl\"}], \"scattermapbox\": [{\"marker\": {\"colorbar\": {\"outlinewidth\": 0, \"ticks\": \"\"}}, \"type\": \"scattermapbox\"}], \"scatterpolar\": [{\"marker\": {\"colorbar\": {\"outlinewidth\": 0, \"ticks\": \"\"}}, \"type\": \"scatterpolar\"}], \"scatterpolargl\": [{\"marker\": {\"colorbar\": {\"outlinewidth\": 0, \"ticks\": \"\"}}, \"type\": \"scatterpolargl\"}], \"scatterternary\": [{\"marker\": {\"colorbar\": {\"outlinewidth\": 0, \"ticks\": \"\"}}, \"type\": \"scatterternary\"}], \"surface\": [{\"colorbar\": {\"outlinewidth\": 0, \"ticks\": \"\"}, \"colorscale\": [[0.0, \"#0d0887\"], [0.1111111111111111, \"#46039f\"], [0.2222222222222222, \"#7201a8\"], [0.3333333333333333, \"#9c179e\"], [0.4444444444444444, \"#bd3786\"], [0.5555555555555556, \"#d8576b\"], [0.6666666666666666, \"#ed7953\"], [0.7777777777777778, \"#fb9f3a\"], [0.8888888888888888, \"#fdca26\"], [1.0, \"#f0f921\"]], \"type\": \"surface\"}], \"table\": [{\"cells\": {\"fill\": {\"color\": \"#EBF0F8\"}, \"line\": {\"color\": \"white\"}}, \"header\": {\"fill\": {\"color\": \"#C8D4E3\"}, \"line\": {\"color\": \"white\"}}, \"type\": \"table\"}]}, \"layout\": {\"annotationdefaults\": {\"arrowcolor\": \"#2a3f5f\", \"arrowhead\": 0, \"arrowwidth\": 1}, \"coloraxis\": {\"colorbar\": {\"outlinewidth\": 0, \"ticks\": \"\"}}, \"colorscale\": {\"diverging\": [[0, \"#8e0152\"], [0.1, \"#c51b7d\"], [0.2, \"#de77ae\"], [0.3, \"#f1b6da\"], [0.4, \"#fde0ef\"], [0.5, \"#f7f7f7\"], [0.6, \"#e6f5d0\"], [0.7, \"#b8e186\"], [0.8, \"#7fbc41\"], [0.9, \"#4d9221\"], [1, \"#276419\"]], \"sequential\": [[0.0, \"#0d0887\"], [0.1111111111111111, \"#46039f\"], [0.2222222222222222, \"#7201a8\"], [0.3333333333333333, \"#9c179e\"], [0.4444444444444444, \"#bd3786\"], [0.5555555555555556, \"#d8576b\"], [0.6666666666666666, \"#ed7953\"], [0.7777777777777778, \"#fb9f3a\"], [0.8888888888888888, \"#fdca26\"], [1.0, \"#f0f921\"]], \"sequentialminus\": [[0.0, \"#0d0887\"], [0.1111111111111111, \"#46039f\"], [0.2222222222222222, \"#7201a8\"], [0.3333333333333333, \"#9c179e\"], [0.4444444444444444, \"#bd3786\"], [0.5555555555555556, \"#d8576b\"], [0.6666666666666666, \"#ed7953\"], [0.7777777777777778, \"#fb9f3a\"], [0.8888888888888888, \"#fdca26\"], [1.0, \"#f0f921\"]]}, \"colorway\": [\"#636efa\", \"#EF553B\", \"#00cc96\", \"#ab63fa\", \"#FFA15A\", \"#19d3f3\", \"#FF6692\", \"#B6E880\", \"#FF97FF\", \"#FECB52\"], \"font\": {\"color\": \"#2a3f5f\"}, \"geo\": {\"bgcolor\": \"white\", \"lakecolor\": \"white\", \"landcolor\": \"#E5ECF6\", \"showlakes\": true, \"showland\": true, \"subunitcolor\": \"white\"}, \"hoverlabel\": {\"align\": \"left\"}, \"hovermode\": \"closest\", \"mapbox\": {\"style\": \"light\"}, \"paper_bgcolor\": \"white\", \"plot_bgcolor\": \"#E5ECF6\", \"polar\": {\"angularaxis\": {\"gridcolor\": \"white\", \"linecolor\": \"white\", \"ticks\": \"\"}, \"bgcolor\": \"#E5ECF6\", \"radialaxis\": {\"gridcolor\": \"white\", \"linecolor\": \"white\", \"ticks\": \"\"}}, \"scene\": {\"xaxis\": {\"backgroundcolor\": \"#E5ECF6\", \"gridcolor\": \"white\", \"gridwidth\": 2, \"linecolor\": \"white\", \"showbackground\": true, \"ticks\": \"\", \"zerolinecolor\": \"white\"}, \"yaxis\": {\"backgroundcolor\": \"#E5ECF6\", \"gridcolor\": \"white\", \"gridwidth\": 2, \"linecolor\": \"white\", \"showbackground\": true, \"ticks\": \"\", \"zerolinecolor\": \"white\"}, \"zaxis\": {\"backgroundcolor\": \"#E5ECF6\", \"gridcolor\": \"white\", \"gridwidth\": 2, \"linecolor\": \"white\", \"showbackground\": true, \"ticks\": \"\", \"zerolinecolor\": \"white\"}}, \"shapedefaults\": {\"line\": {\"color\": \"#2a3f5f\"}}, \"ternary\": {\"aaxis\": {\"gridcolor\": \"white\", \"linecolor\": \"white\", \"ticks\": \"\"}, \"baxis\": {\"gridcolor\": \"white\", \"linecolor\": \"white\", \"ticks\": \"\"}, \"bgcolor\": \"#E5ECF6\", \"caxis\": {\"gridcolor\": \"white\", \"linecolor\": \"white\", \"ticks\": \"\"}}, \"title\": {\"x\": 0.05}, \"xaxis\": {\"automargin\": true, \"gridcolor\": \"white\", \"linecolor\": \"white\", \"ticks\": \"\", \"title\": {\"standoff\": 15}, \"zerolinecolor\": \"white\", \"zerolinewidth\": 2}, \"yaxis\": {\"automargin\": true, \"gridcolor\": \"white\", \"linecolor\": \"white\", \"ticks\": \"\", \"title\": {\"standoff\": 15}, \"zerolinecolor\": \"white\", \"zerolinewidth\": 2}}}, \"title\": {\"font\": {\"size\": 20}, \"text\": \"Maximum heart rate achieve vs Age\"}, \"xaxis\": {\"anchor\": \"y\", \"domain\": [0.0, 1.0], \"title\": {\"font\": {\"size\": 18}, \"text\": \"Maximum heart rate achieve\"}}, \"yaxis\": {\"anchor\": \"x\", \"domain\": [0.0, 1.0], \"title\": {\"text\": \"age\"}}},\n",
              "                        {\"responsive\": true}\n",
              "                    ).then(function(){\n",
              "                            \n",
              "var gd = document.getElementById('883b65a7-d187-4383-bafd-86995f25de8c');\n",
              "var x = new MutationObserver(function (mutations, observer) {{\n",
              "        var display = window.getComputedStyle(gd).display;\n",
              "        if (!display || display === 'none') {{\n",
              "            console.log([gd, 'removed!']);\n",
              "            Plotly.purge(gd);\n",
              "            observer.disconnect();\n",
              "        }}\n",
              "}});\n",
              "\n",
              "// Listen for the removal of the full notebook cells\n",
              "var notebookContainer = gd.closest('#notebook-container');\n",
              "if (notebookContainer) {{\n",
              "    x.observe(notebookContainer, {childList: true});\n",
              "}}\n",
              "\n",
              "// Listen for the clearing of the current output cell\n",
              "var outputEl = gd.closest('.output');\n",
              "if (outputEl) {{\n",
              "    x.observe(outputEl, {childList: true});\n",
              "}}\n",
              "\n",
              "                        })\n",
              "                };\n",
              "                \n",
              "            </script>\n",
              "        </div>\n",
              "</body>\n",
              "</html>"
            ]
          },
          "metadata": {
            "tags": []
          }
        }
      ]
    },
    {
      "cell_type": "markdown",
      "metadata": {
        "id": "00nkcflPE_rk"
      },
      "source": [
        "## ST depression induced by exercise relative to rest vs. Age"
      ]
    },
    {
      "cell_type": "code",
      "metadata": {
        "colab": {
          "base_uri": "https://localhost:8080/"
        },
        "id": "Po32EJtbFJDE",
        "outputId": "c095d77e-5d74-4d18-fd57-5cb91fb36a8f"
      },
      "source": [
        "fig = px.scatter(data_frame=df,\n",
        "                 y='age',\n",
        "                 x='oldpeak',\n",
        "                 color='target')\n",
        "fig['layout'].update(title='Maximum heart rate achieve vs Age',titlefont=dict(size=20),xaxis=dict(title='Maximum heart rate achieve',titlefont=dict(size=18)))\n",
        "fig.show()"
      ],
      "execution_count": null,
      "outputs": [
        {
          "output_type": "display_data",
          "data": {
            "text/html": [
              "<html>\n",
              "<head><meta charset=\"utf-8\" /></head>\n",
              "<body>\n",
              "    <div>\n",
              "            <script src=\"https://cdnjs.cloudflare.com/ajax/libs/mathjax/2.7.5/MathJax.js?config=TeX-AMS-MML_SVG\"></script><script type=\"text/javascript\">if (window.MathJax) {MathJax.Hub.Config({SVG: {font: \"STIX-Web\"}});}</script>\n",
              "                <script type=\"text/javascript\">window.PlotlyConfig = {MathJaxConfig: 'local'};</script>\n",
              "        <script src=\"https://cdn.plot.ly/plotly-latest.min.js\"></script>    \n",
              "            <div id=\"dc35f08b-ae79-4cad-8956-fbb1f6cca837\" class=\"plotly-graph-div\" style=\"height:525px; width:100%;\"></div>\n",
              "            <script type=\"text/javascript\">\n",
              "                \n",
              "                    window.PLOTLYENV=window.PLOTLYENV || {};\n",
              "                    \n",
              "                if (document.getElementById(\"dc35f08b-ae79-4cad-8956-fbb1f6cca837\")) {\n",
              "                    Plotly.newPlot(\n",
              "                        'dc35f08b-ae79-4cad-8956-fbb1f6cca837',\n",
              "                        [{\"hoverlabel\": {\"namelength\": 0}, \"hovertemplate\": \"oldpeak=%{x}<br>age=%{y}<br>target=%{marker.color}\", \"legendgroup\": \"\", \"marker\": {\"color\": [1, 1, 1, 1, 1, 1, 1, 1, 1, 1, 1, 1, 1, 1, 1, 1, 1, 1, 1, 1, 1, 1, 1, 1, 1, 1, 1, 1, 1, 1, 1, 1, 1, 1, 1, 1, 1, 1, 1, 1, 1, 1, 1, 1, 1, 1, 1, 1, 1, 1, 1, 1, 1, 1, 1, 1, 1, 1, 1, 1, 1, 1, 1, 1, 1, 1, 1, 1, 1, 1, 1, 1, 1, 1, 1, 1, 1, 1, 1, 1, 1, 1, 1, 1, 1, 1, 1, 1, 1, 1, 1, 1, 1, 1, 1, 1, 1, 1, 1, 1, 1, 1, 1, 1, 1, 1, 1, 1, 1, 1, 1, 1, 1, 1, 1, 1, 1, 1, 1, 1, 1, 1, 1, 1, 1, 1, 1, 1, 1, 1, 1, 1, 1, 1, 1, 1, 1, 1, 1, 1, 1, 1, 1, 1, 1, 1, 1, 1, 1, 1, 1, 1, 1, 1, 1, 1, 1, 1, 1, 1, 1, 1, 1, 1, 1, 0, 0, 0, 0, 0, 0, 0, 0, 0, 0, 0, 0, 0, 0, 0, 0, 0, 0, 0, 0, 0, 0, 0, 0, 0, 0, 0, 0, 0, 0, 0, 0, 0, 0, 0, 0, 0, 0, 0, 0, 0, 0, 0, 0, 0, 0, 0, 0, 0, 0, 0, 0, 0, 0, 0, 0, 0, 0, 0, 0, 0, 0, 0, 0, 0, 0, 0, 0, 0, 0, 0, 0, 0, 0, 0, 0, 0, 0, 0, 0, 0, 0, 0, 0, 0, 0, 0, 0, 0, 0, 0, 0, 0, 0, 0, 0, 0, 0, 0, 0, 0, 0, 0, 0, 0, 0, 0, 0, 0, 0, 0, 0, 0, 0, 0, 0, 0, 0, 0, 0, 0, 0, 0, 0, 0, 0, 0, 0, 0, 0, 0, 0, 0, 0, 0, 0, 0, 0], \"coloraxis\": \"coloraxis\", \"symbol\": \"circle\"}, \"mode\": \"markers\", \"name\": \"\", \"showlegend\": false, \"type\": \"scatter\", \"x\": [2.3, 3.5, 1.4, 0.8, 0.6, 0.4, 1.3, 0.0, 0.5, 1.6, 1.2, 0.2, 0.6, 1.8, 1.0, 1.6, 0.0, 2.6, 1.5, 1.8, 0.5, 0.4, 0.0, 1.0, 1.4, 0.4, 1.6, 0.6, 0.8, 1.2, 0.0, 0.4, 0.0, 0.5, 1.4, 1.4, 0.0, 1.6, 0.8, 0.8, 1.5, 0.2, 3.0, 0.4, 0.0, 0.2, 0.0, 0.0, 0.0, 0.0, 0.5, 0.4, 1.8, 0.6, 0.0, 0.8, 0.0, 0.0, 0.0, 0.0, 0.0, 0.0, 0.0, 0.0, 0.0, 1.4, 1.2, 0.6, 0.0, 0.0, 0.4, 0.0, 0.0, 0.0, 0.2, 1.4, 2.4, 0.0, 0.0, 0.6, 0.0, 0.0, 0.0, 1.2, 0.6, 1.6, 1.0, 0.0, 1.6, 1.0, 0.0, 0.0, 0.0, 0.0, 0.0, 0.0, 1.2, 0.1, 1.9, 0.0, 0.8, 4.2, 0.0, 0.8, 0.0, 1.5, 0.1, 0.2, 1.1, 0.0, 0.0, 0.2, 0.2, 0.0, 0.0, 0.0, 2.0, 1.9, 0.0, 0.0, 2.0, 0.0, 0.0, 0.0, 0.0, 0.7, 0.1, 0.0, 0.1, 0.2, 0.0, 0.0, 0.0, 0.0, 0.0, 0.0, 0.0, 0.0, 1.5, 0.2, 0.6, 1.2, 0.0, 0.3, 1.1, 0.0, 0.3, 0.9, 0.0, 0.0, 2.3, 1.6, 0.6, 0.0, 0.0, 0.6, 0.0, 0.0, 0.4, 0.0, 0.0, 1.2, 0.0, 0.0, 0.0, 1.5, 2.6, 3.6, 1.4, 3.1, 0.6, 1.0, 1.8, 3.2, 2.4, 2.0, 1.4, 0.0, 2.5, 0.6, 1.2, 1.0, 0.0, 2.5, 2.6, 0.0, 1.4, 2.2, 0.6, 0.0, 1.2, 2.2, 1.4, 2.8, 3.0, 3.4, 3.6, 0.2, 1.8, 0.6, 0.0, 2.8, 0.8, 1.6, 6.2, 0.0, 1.2, 2.6, 2.0, 0.0, 0.4, 3.6, 1.2, 1.0, 1.2, 3.0, 1.2, 1.8, 2.8, 0.0, 4.0, 5.6, 1.4, 4.0, 2.8, 2.6, 1.4, 1.6, 0.2, 1.8, 0.0, 1.0, 0.8, 2.2, 2.4, 1.6, 0.0, 1.2, 0.0, 0.0, 2.9, 0.0, 2.0, 1.2, 2.1, 0.5, 1.9, 0.0, 0.0, 2.0, 4.2, 0.1, 1.9, 0.9, 0.0, 0.0, 3.0, 0.9, 1.4, 3.8, 1.0, 0.0, 2.0, 1.8, 0.0, 0.1, 3.4, 0.8, 3.2, 1.6, 0.8, 2.6, 1.0, 0.1, 1.0, 1.0, 2.0, 0.3, 0.0, 3.6, 1.8, 1.0, 2.2, 0.0, 1.9, 1.8, 0.8, 0.0, 3.0, 2.0, 0.0, 4.4, 2.8, 0.8, 2.8, 4.0, 0.0, 1.0, 0.2, 1.2, 3.4, 1.2, 0.0], \"xaxis\": \"x\", \"y\": [63, 37, 41, 56, 57, 57, 56, 44, 52, 57, 54, 48, 49, 64, 58, 50, 58, 66, 43, 69, 59, 44, 42, 61, 40, 71, 59, 51, 65, 53, 41, 65, 44, 54, 51, 46, 54, 54, 65, 65, 51, 48, 45, 53, 39, 52, 44, 47, 53, 53, 51, 66, 62, 44, 63, 52, 48, 45, 34, 57, 71, 54, 52, 41, 58, 35, 51, 45, 44, 62, 54, 51, 29, 51, 43, 55, 51, 59, 52, 58, 41, 45, 60, 52, 42, 67, 68, 46, 54, 58, 48, 57, 52, 54, 45, 53, 62, 52, 43, 53, 42, 59, 63, 42, 50, 68, 69, 45, 50, 50, 64, 57, 64, 43, 55, 37, 41, 56, 46, 46, 64, 59, 41, 54, 39, 34, 47, 67, 52, 74, 54, 49, 42, 41, 41, 49, 60, 62, 57, 64, 51, 43, 42, 67, 76, 70, 44, 60, 44, 42, 66, 71, 64, 66, 39, 58, 47, 35, 58, 56, 56, 55, 41, 38, 38, 67, 67, 62, 63, 53, 56, 48, 58, 58, 60, 40, 60, 64, 43, 57, 55, 65, 61, 58, 50, 44, 60, 54, 50, 41, 51, 58, 54, 60, 60, 59, 46, 67, 62, 65, 44, 60, 58, 68, 62, 52, 59, 60, 49, 59, 57, 61, 39, 61, 56, 43, 62, 63, 65, 48, 63, 55, 65, 56, 54, 70, 62, 35, 59, 64, 47, 57, 55, 64, 70, 51, 58, 60, 77, 35, 70, 59, 64, 57, 56, 48, 56, 66, 54, 69, 51, 43, 62, 67, 59, 45, 58, 50, 62, 38, 66, 52, 53, 63, 54, 66, 55, 49, 54, 56, 46, 61, 67, 58, 47, 52, 58, 57, 58, 61, 42, 52, 59, 40, 61, 46, 59, 57, 57, 55, 61, 58, 58, 67, 44, 63, 63, 59, 57, 45, 68, 57, 57], \"yaxis\": \"y\"}],\n",
              "                        {\"coloraxis\": {\"colorbar\": {\"title\": {\"text\": \"target\"}}, \"colorscale\": [[0.0, \"#0d0887\"], [0.1111111111111111, \"#46039f\"], [0.2222222222222222, \"#7201a8\"], [0.3333333333333333, \"#9c179e\"], [0.4444444444444444, \"#bd3786\"], [0.5555555555555556, \"#d8576b\"], [0.6666666666666666, \"#ed7953\"], [0.7777777777777778, \"#fb9f3a\"], [0.8888888888888888, \"#fdca26\"], [1.0, \"#f0f921\"]]}, \"legend\": {\"tracegroupgap\": 0}, \"margin\": {\"t\": 60}, \"template\": {\"data\": {\"bar\": [{\"error_x\": {\"color\": \"#2a3f5f\"}, \"error_y\": {\"color\": \"#2a3f5f\"}, \"marker\": {\"line\": {\"color\": \"#E5ECF6\", \"width\": 0.5}}, \"type\": \"bar\"}], \"barpolar\": [{\"marker\": {\"line\": {\"color\": \"#E5ECF6\", \"width\": 0.5}}, \"type\": \"barpolar\"}], \"carpet\": [{\"aaxis\": {\"endlinecolor\": \"#2a3f5f\", \"gridcolor\": \"white\", \"linecolor\": \"white\", \"minorgridcolor\": \"white\", \"startlinecolor\": \"#2a3f5f\"}, \"baxis\": {\"endlinecolor\": \"#2a3f5f\", \"gridcolor\": \"white\", \"linecolor\": \"white\", \"minorgridcolor\": \"white\", \"startlinecolor\": \"#2a3f5f\"}, \"type\": \"carpet\"}], \"choropleth\": [{\"colorbar\": {\"outlinewidth\": 0, \"ticks\": \"\"}, \"type\": \"choropleth\"}], \"contour\": [{\"colorbar\": {\"outlinewidth\": 0, \"ticks\": \"\"}, \"colorscale\": [[0.0, \"#0d0887\"], [0.1111111111111111, \"#46039f\"], [0.2222222222222222, \"#7201a8\"], [0.3333333333333333, \"#9c179e\"], [0.4444444444444444, \"#bd3786\"], [0.5555555555555556, \"#d8576b\"], [0.6666666666666666, \"#ed7953\"], [0.7777777777777778, \"#fb9f3a\"], [0.8888888888888888, \"#fdca26\"], [1.0, \"#f0f921\"]], \"type\": \"contour\"}], \"contourcarpet\": [{\"colorbar\": {\"outlinewidth\": 0, \"ticks\": \"\"}, \"type\": \"contourcarpet\"}], \"heatmap\": [{\"colorbar\": {\"outlinewidth\": 0, \"ticks\": \"\"}, \"colorscale\": [[0.0, \"#0d0887\"], [0.1111111111111111, \"#46039f\"], [0.2222222222222222, \"#7201a8\"], [0.3333333333333333, \"#9c179e\"], [0.4444444444444444, \"#bd3786\"], [0.5555555555555556, \"#d8576b\"], [0.6666666666666666, \"#ed7953\"], [0.7777777777777778, \"#fb9f3a\"], [0.8888888888888888, \"#fdca26\"], [1.0, \"#f0f921\"]], \"type\": \"heatmap\"}], \"heatmapgl\": [{\"colorbar\": {\"outlinewidth\": 0, \"ticks\": \"\"}, \"colorscale\": [[0.0, \"#0d0887\"], [0.1111111111111111, \"#46039f\"], [0.2222222222222222, \"#7201a8\"], [0.3333333333333333, \"#9c179e\"], [0.4444444444444444, \"#bd3786\"], [0.5555555555555556, \"#d8576b\"], [0.6666666666666666, \"#ed7953\"], [0.7777777777777778, \"#fb9f3a\"], [0.8888888888888888, \"#fdca26\"], [1.0, \"#f0f921\"]], \"type\": \"heatmapgl\"}], \"histogram\": [{\"marker\": {\"colorbar\": {\"outlinewidth\": 0, \"ticks\": \"\"}}, \"type\": \"histogram\"}], \"histogram2d\": [{\"colorbar\": {\"outlinewidth\": 0, \"ticks\": \"\"}, \"colorscale\": [[0.0, \"#0d0887\"], [0.1111111111111111, \"#46039f\"], [0.2222222222222222, \"#7201a8\"], [0.3333333333333333, \"#9c179e\"], [0.4444444444444444, \"#bd3786\"], [0.5555555555555556, \"#d8576b\"], [0.6666666666666666, \"#ed7953\"], [0.7777777777777778, \"#fb9f3a\"], [0.8888888888888888, \"#fdca26\"], [1.0, \"#f0f921\"]], \"type\": \"histogram2d\"}], \"histogram2dcontour\": [{\"colorbar\": {\"outlinewidth\": 0, \"ticks\": \"\"}, \"colorscale\": [[0.0, \"#0d0887\"], [0.1111111111111111, \"#46039f\"], [0.2222222222222222, \"#7201a8\"], [0.3333333333333333, \"#9c179e\"], [0.4444444444444444, \"#bd3786\"], [0.5555555555555556, \"#d8576b\"], [0.6666666666666666, \"#ed7953\"], [0.7777777777777778, \"#fb9f3a\"], [0.8888888888888888, \"#fdca26\"], [1.0, \"#f0f921\"]], \"type\": \"histogram2dcontour\"}], \"mesh3d\": [{\"colorbar\": {\"outlinewidth\": 0, \"ticks\": \"\"}, \"type\": \"mesh3d\"}], \"parcoords\": [{\"line\": {\"colorbar\": {\"outlinewidth\": 0, \"ticks\": \"\"}}, \"type\": \"parcoords\"}], \"pie\": [{\"automargin\": true, \"type\": \"pie\"}], \"scatter\": [{\"marker\": {\"colorbar\": {\"outlinewidth\": 0, \"ticks\": \"\"}}, \"type\": \"scatter\"}], \"scatter3d\": [{\"line\": {\"colorbar\": {\"outlinewidth\": 0, \"ticks\": \"\"}}, \"marker\": {\"colorbar\": {\"outlinewidth\": 0, \"ticks\": \"\"}}, \"type\": \"scatter3d\"}], \"scattercarpet\": [{\"marker\": {\"colorbar\": {\"outlinewidth\": 0, \"ticks\": \"\"}}, \"type\": \"scattercarpet\"}], \"scattergeo\": [{\"marker\": {\"colorbar\": {\"outlinewidth\": 0, \"ticks\": \"\"}}, \"type\": \"scattergeo\"}], \"scattergl\": [{\"marker\": {\"colorbar\": {\"outlinewidth\": 0, \"ticks\": \"\"}}, \"type\": \"scattergl\"}], \"scattermapbox\": [{\"marker\": {\"colorbar\": {\"outlinewidth\": 0, \"ticks\": \"\"}}, \"type\": \"scattermapbox\"}], \"scatterpolar\": [{\"marker\": {\"colorbar\": {\"outlinewidth\": 0, \"ticks\": \"\"}}, \"type\": \"scatterpolar\"}], \"scatterpolargl\": [{\"marker\": {\"colorbar\": {\"outlinewidth\": 0, \"ticks\": \"\"}}, \"type\": \"scatterpolargl\"}], \"scatterternary\": [{\"marker\": {\"colorbar\": {\"outlinewidth\": 0, \"ticks\": \"\"}}, \"type\": \"scatterternary\"}], \"surface\": [{\"colorbar\": {\"outlinewidth\": 0, \"ticks\": \"\"}, \"colorscale\": [[0.0, \"#0d0887\"], [0.1111111111111111, \"#46039f\"], [0.2222222222222222, \"#7201a8\"], [0.3333333333333333, \"#9c179e\"], [0.4444444444444444, \"#bd3786\"], [0.5555555555555556, \"#d8576b\"], [0.6666666666666666, \"#ed7953\"], [0.7777777777777778, \"#fb9f3a\"], [0.8888888888888888, \"#fdca26\"], [1.0, \"#f0f921\"]], \"type\": \"surface\"}], \"table\": [{\"cells\": {\"fill\": {\"color\": \"#EBF0F8\"}, \"line\": {\"color\": \"white\"}}, \"header\": {\"fill\": {\"color\": \"#C8D4E3\"}, \"line\": {\"color\": \"white\"}}, \"type\": \"table\"}]}, \"layout\": {\"annotationdefaults\": {\"arrowcolor\": \"#2a3f5f\", \"arrowhead\": 0, \"arrowwidth\": 1}, \"coloraxis\": {\"colorbar\": {\"outlinewidth\": 0, \"ticks\": \"\"}}, \"colorscale\": {\"diverging\": [[0, \"#8e0152\"], [0.1, \"#c51b7d\"], [0.2, \"#de77ae\"], [0.3, \"#f1b6da\"], [0.4, \"#fde0ef\"], [0.5, \"#f7f7f7\"], [0.6, \"#e6f5d0\"], [0.7, \"#b8e186\"], [0.8, \"#7fbc41\"], [0.9, \"#4d9221\"], [1, \"#276419\"]], \"sequential\": [[0.0, \"#0d0887\"], [0.1111111111111111, \"#46039f\"], [0.2222222222222222, \"#7201a8\"], [0.3333333333333333, \"#9c179e\"], [0.4444444444444444, \"#bd3786\"], [0.5555555555555556, \"#d8576b\"], [0.6666666666666666, \"#ed7953\"], [0.7777777777777778, \"#fb9f3a\"], [0.8888888888888888, \"#fdca26\"], [1.0, \"#f0f921\"]], \"sequentialminus\": [[0.0, \"#0d0887\"], [0.1111111111111111, \"#46039f\"], [0.2222222222222222, \"#7201a8\"], [0.3333333333333333, \"#9c179e\"], [0.4444444444444444, \"#bd3786\"], [0.5555555555555556, \"#d8576b\"], [0.6666666666666666, \"#ed7953\"], [0.7777777777777778, \"#fb9f3a\"], [0.8888888888888888, \"#fdca26\"], [1.0, \"#f0f921\"]]}, \"colorway\": [\"#636efa\", \"#EF553B\", \"#00cc96\", \"#ab63fa\", \"#FFA15A\", \"#19d3f3\", \"#FF6692\", \"#B6E880\", \"#FF97FF\", \"#FECB52\"], \"font\": {\"color\": \"#2a3f5f\"}, \"geo\": {\"bgcolor\": \"white\", \"lakecolor\": \"white\", \"landcolor\": \"#E5ECF6\", \"showlakes\": true, \"showland\": true, \"subunitcolor\": \"white\"}, \"hoverlabel\": {\"align\": \"left\"}, \"hovermode\": \"closest\", \"mapbox\": {\"style\": \"light\"}, \"paper_bgcolor\": \"white\", \"plot_bgcolor\": \"#E5ECF6\", \"polar\": {\"angularaxis\": {\"gridcolor\": \"white\", \"linecolor\": \"white\", \"ticks\": \"\"}, \"bgcolor\": \"#E5ECF6\", \"radialaxis\": {\"gridcolor\": \"white\", \"linecolor\": \"white\", \"ticks\": \"\"}}, \"scene\": {\"xaxis\": {\"backgroundcolor\": \"#E5ECF6\", \"gridcolor\": \"white\", \"gridwidth\": 2, \"linecolor\": \"white\", \"showbackground\": true, \"ticks\": \"\", \"zerolinecolor\": \"white\"}, \"yaxis\": {\"backgroundcolor\": \"#E5ECF6\", \"gridcolor\": \"white\", \"gridwidth\": 2, \"linecolor\": \"white\", \"showbackground\": true, \"ticks\": \"\", \"zerolinecolor\": \"white\"}, \"zaxis\": {\"backgroundcolor\": \"#E5ECF6\", \"gridcolor\": \"white\", \"gridwidth\": 2, \"linecolor\": \"white\", \"showbackground\": true, \"ticks\": \"\", \"zerolinecolor\": \"white\"}}, \"shapedefaults\": {\"line\": {\"color\": \"#2a3f5f\"}}, \"ternary\": {\"aaxis\": {\"gridcolor\": \"white\", \"linecolor\": \"white\", \"ticks\": \"\"}, \"baxis\": {\"gridcolor\": \"white\", \"linecolor\": \"white\", \"ticks\": \"\"}, \"bgcolor\": \"#E5ECF6\", \"caxis\": {\"gridcolor\": \"white\", \"linecolor\": \"white\", \"ticks\": \"\"}}, \"title\": {\"x\": 0.05}, \"xaxis\": {\"automargin\": true, \"gridcolor\": \"white\", \"linecolor\": \"white\", \"ticks\": \"\", \"title\": {\"standoff\": 15}, \"zerolinecolor\": \"white\", \"zerolinewidth\": 2}, \"yaxis\": {\"automargin\": true, \"gridcolor\": \"white\", \"linecolor\": \"white\", \"ticks\": \"\", \"title\": {\"standoff\": 15}, \"zerolinecolor\": \"white\", \"zerolinewidth\": 2}}}, \"title\": {\"font\": {\"size\": 20}, \"text\": \"Maximum heart rate achieve vs Age\"}, \"xaxis\": {\"anchor\": \"y\", \"domain\": [0.0, 1.0], \"title\": {\"font\": {\"size\": 18}, \"text\": \"Maximum heart rate achieve\"}}, \"yaxis\": {\"anchor\": \"x\", \"domain\": [0.0, 1.0], \"title\": {\"text\": \"age\"}}},\n",
              "                        {\"responsive\": true}\n",
              "                    ).then(function(){\n",
              "                            \n",
              "var gd = document.getElementById('dc35f08b-ae79-4cad-8956-fbb1f6cca837');\n",
              "var x = new MutationObserver(function (mutations, observer) {{\n",
              "        var display = window.getComputedStyle(gd).display;\n",
              "        if (!display || display === 'none') {{\n",
              "            console.log([gd, 'removed!']);\n",
              "            Plotly.purge(gd);\n",
              "            observer.disconnect();\n",
              "        }}\n",
              "}});\n",
              "\n",
              "// Listen for the removal of the full notebook cells\n",
              "var notebookContainer = gd.closest('#notebook-container');\n",
              "if (notebookContainer) {{\n",
              "    x.observe(notebookContainer, {childList: true});\n",
              "}}\n",
              "\n",
              "// Listen for the clearing of the current output cell\n",
              "var outputEl = gd.closest('.output');\n",
              "if (outputEl) {{\n",
              "    x.observe(outputEl, {childList: true});\n",
              "}}\n",
              "\n",
              "                        })\n",
              "                };\n",
              "                \n",
              "            </script>\n",
              "        </div>\n",
              "</body>\n",
              "</html>"
            ]
          },
          "metadata": {
            "tags": []
          }
        }
      ]
    },
    {
      "cell_type": "markdown",
      "metadata": {
        "id": "M2J1h6JTFi5D"
      },
      "source": [
        "## Conclusion\n",
        "**(i) Patients Having Old peak less than 2 are more likely to receive a Heart Attack**\n",
        "\n",
        "**(ii) Patients Having Old peak of more than 4 are less likely to receive a Heart Attack** "
      ]
    },
    {
      "cell_type": "markdown",
      "metadata": {
        "id": "UGfK5YSIGZSz"
      },
      "source": [
        "## Resting Blood Pressure vs Age"
      ]
    },
    {
      "cell_type": "code",
      "metadata": {
        "colab": {
          "base_uri": "https://localhost:8080/"
        },
        "id": "GTyzGwxAG7Wr",
        "outputId": "7e2cb83a-0745-450f-87cc-0fa04ee82409"
      },
      "source": [
        "fig = px.scatter(data_frame=df,\n",
        "                 y='age',\n",
        "                 x='trestbps',\n",
        "                 color='target')\n",
        "fig['layout'].update(title='Resting Blood Pressure vs Age',titlefont=dict(size=20),xaxis=dict(title='Resting Blood Pressure',titlefont=dict(size=18)))\n",
        "fig.show()"
      ],
      "execution_count": null,
      "outputs": [
        {
          "output_type": "display_data",
          "data": {
            "text/html": [
              "<html>\n",
              "<head><meta charset=\"utf-8\" /></head>\n",
              "<body>\n",
              "    <div>\n",
              "            <script src=\"https://cdnjs.cloudflare.com/ajax/libs/mathjax/2.7.5/MathJax.js?config=TeX-AMS-MML_SVG\"></script><script type=\"text/javascript\">if (window.MathJax) {MathJax.Hub.Config({SVG: {font: \"STIX-Web\"}});}</script>\n",
              "                <script type=\"text/javascript\">window.PlotlyConfig = {MathJaxConfig: 'local'};</script>\n",
              "        <script src=\"https://cdn.plot.ly/plotly-latest.min.js\"></script>    \n",
              "            <div id=\"60645094-b3d1-4c34-b824-cf80f1d907e4\" class=\"plotly-graph-div\" style=\"height:525px; width:100%;\"></div>\n",
              "            <script type=\"text/javascript\">\n",
              "                \n",
              "                    window.PLOTLYENV=window.PLOTLYENV || {};\n",
              "                    \n",
              "                if (document.getElementById(\"60645094-b3d1-4c34-b824-cf80f1d907e4\")) {\n",
              "                    Plotly.newPlot(\n",
              "                        '60645094-b3d1-4c34-b824-cf80f1d907e4',\n",
              "                        [{\"hoverlabel\": {\"namelength\": 0}, \"hovertemplate\": \"trestbps=%{x}<br>age=%{y}<br>target=%{marker.color}\", \"legendgroup\": \"\", \"marker\": {\"color\": [1, 1, 1, 1, 1, 1, 1, 1, 1, 1, 1, 1, 1, 1, 1, 1, 1, 1, 1, 1, 1, 1, 1, 1, 1, 1, 1, 1, 1, 1, 1, 1, 1, 1, 1, 1, 1, 1, 1, 1, 1, 1, 1, 1, 1, 1, 1, 1, 1, 1, 1, 1, 1, 1, 1, 1, 1, 1, 1, 1, 1, 1, 1, 1, 1, 1, 1, 1, 1, 1, 1, 1, 1, 1, 1, 1, 1, 1, 1, 1, 1, 1, 1, 1, 1, 1, 1, 1, 1, 1, 1, 1, 1, 1, 1, 1, 1, 1, 1, 1, 1, 1, 1, 1, 1, 1, 1, 1, 1, 1, 1, 1, 1, 1, 1, 1, 1, 1, 1, 1, 1, 1, 1, 1, 1, 1, 1, 1, 1, 1, 1, 1, 1, 1, 1, 1, 1, 1, 1, 1, 1, 1, 1, 1, 1, 1, 1, 1, 1, 1, 1, 1, 1, 1, 1, 1, 1, 1, 1, 1, 1, 1, 1, 1, 1, 0, 0, 0, 0, 0, 0, 0, 0, 0, 0, 0, 0, 0, 0, 0, 0, 0, 0, 0, 0, 0, 0, 0, 0, 0, 0, 0, 0, 0, 0, 0, 0, 0, 0, 0, 0, 0, 0, 0, 0, 0, 0, 0, 0, 0, 0, 0, 0, 0, 0, 0, 0, 0, 0, 0, 0, 0, 0, 0, 0, 0, 0, 0, 0, 0, 0, 0, 0, 0, 0, 0, 0, 0, 0, 0, 0, 0, 0, 0, 0, 0, 0, 0, 0, 0, 0, 0, 0, 0, 0, 0, 0, 0, 0, 0, 0, 0, 0, 0, 0, 0, 0, 0, 0, 0, 0, 0, 0, 0, 0, 0, 0, 0, 0, 0, 0, 0, 0, 0, 0, 0, 0, 0, 0, 0, 0, 0, 0, 0, 0, 0, 0, 0, 0, 0, 0, 0, 0], \"coloraxis\": \"coloraxis\", \"symbol\": \"circle\"}, \"mode\": \"markers\", \"name\": \"\", \"showlegend\": false, \"type\": \"scatter\", \"x\": [145, 130, 130, 120, 120, 140, 140, 120, 172, 150, 140, 130, 130, 110, 150, 120, 120, 150, 150, 140, 135, 130, 140, 150, 140, 160, 150, 110, 140, 130, 105, 120, 130, 125, 125, 142, 135, 150, 155, 160, 140, 130, 104, 130, 140, 120, 140, 138, 128, 138, 130, 120, 130, 108, 135, 134, 122, 115, 118, 128, 110, 108, 118, 135, 140, 138, 100, 130, 120, 124, 120, 94, 130, 140, 122, 135, 125, 140, 128, 105, 112, 128, 102, 152, 102, 115, 118, 101, 110, 100, 124, 132, 138, 132, 112, 142, 140, 108, 130, 130, 148, 178, 140, 120, 129, 120, 160, 138, 120, 110, 180, 150, 140, 110, 130, 120, 130, 120, 105, 138, 130, 138, 112, 108, 94, 118, 112, 152, 136, 120, 160, 134, 120, 110, 126, 130, 120, 128, 110, 128, 120, 115, 120, 106, 140, 156, 118, 150, 120, 130, 160, 112, 170, 146, 138, 130, 130, 122, 125, 130, 120, 132, 120, 138, 138, 160, 120, 140, 130, 140, 130, 110, 120, 132, 130, 110, 117, 140, 120, 150, 132, 150, 130, 112, 150, 112, 130, 124, 140, 110, 130, 128, 120, 145, 140, 170, 150, 125, 120, 110, 110, 125, 150, 180, 160, 128, 110, 150, 120, 140, 128, 120, 118, 145, 125, 132, 130, 130, 135, 130, 150, 140, 138, 200, 110, 145, 120, 120, 170, 125, 108, 165, 160, 120, 130, 140, 125, 140, 125, 126, 160, 174, 145, 152, 132, 124, 134, 160, 192, 140, 140, 132, 138, 100, 160, 142, 128, 144, 150, 120, 178, 112, 123, 108, 110, 112, 180, 118, 122, 130, 120, 134, 120, 100, 110, 125, 146, 124, 136, 138, 136, 128, 126, 152, 140, 140, 134, 154, 110, 128, 148, 114, 170, 152, 120, 140, 124, 164, 140, 110, 144, 130, 130], \"xaxis\": \"x\", \"y\": [63, 37, 41, 56, 57, 57, 56, 44, 52, 57, 54, 48, 49, 64, 58, 50, 58, 66, 43, 69, 59, 44, 42, 61, 40, 71, 59, 51, 65, 53, 41, 65, 44, 54, 51, 46, 54, 54, 65, 65, 51, 48, 45, 53, 39, 52, 44, 47, 53, 53, 51, 66, 62, 44, 63, 52, 48, 45, 34, 57, 71, 54, 52, 41, 58, 35, 51, 45, 44, 62, 54, 51, 29, 51, 43, 55, 51, 59, 52, 58, 41, 45, 60, 52, 42, 67, 68, 46, 54, 58, 48, 57, 52, 54, 45, 53, 62, 52, 43, 53, 42, 59, 63, 42, 50, 68, 69, 45, 50, 50, 64, 57, 64, 43, 55, 37, 41, 56, 46, 46, 64, 59, 41, 54, 39, 34, 47, 67, 52, 74, 54, 49, 42, 41, 41, 49, 60, 62, 57, 64, 51, 43, 42, 67, 76, 70, 44, 60, 44, 42, 66, 71, 64, 66, 39, 58, 47, 35, 58, 56, 56, 55, 41, 38, 38, 67, 67, 62, 63, 53, 56, 48, 58, 58, 60, 40, 60, 64, 43, 57, 55, 65, 61, 58, 50, 44, 60, 54, 50, 41, 51, 58, 54, 60, 60, 59, 46, 67, 62, 65, 44, 60, 58, 68, 62, 52, 59, 60, 49, 59, 57, 61, 39, 61, 56, 43, 62, 63, 65, 48, 63, 55, 65, 56, 54, 70, 62, 35, 59, 64, 47, 57, 55, 64, 70, 51, 58, 60, 77, 35, 70, 59, 64, 57, 56, 48, 56, 66, 54, 69, 51, 43, 62, 67, 59, 45, 58, 50, 62, 38, 66, 52, 53, 63, 54, 66, 55, 49, 54, 56, 46, 61, 67, 58, 47, 52, 58, 57, 58, 61, 42, 52, 59, 40, 61, 46, 59, 57, 57, 55, 61, 58, 58, 67, 44, 63, 63, 59, 57, 45, 68, 57, 57], \"yaxis\": \"y\"}],\n",
              "                        {\"coloraxis\": {\"colorbar\": {\"title\": {\"text\": \"target\"}}, \"colorscale\": [[0.0, \"#0d0887\"], [0.1111111111111111, \"#46039f\"], [0.2222222222222222, \"#7201a8\"], [0.3333333333333333, \"#9c179e\"], [0.4444444444444444, \"#bd3786\"], [0.5555555555555556, \"#d8576b\"], [0.6666666666666666, \"#ed7953\"], [0.7777777777777778, \"#fb9f3a\"], [0.8888888888888888, \"#fdca26\"], [1.0, \"#f0f921\"]]}, \"legend\": {\"tracegroupgap\": 0}, \"margin\": {\"t\": 60}, \"template\": {\"data\": {\"bar\": [{\"error_x\": {\"color\": \"#2a3f5f\"}, \"error_y\": {\"color\": \"#2a3f5f\"}, \"marker\": {\"line\": {\"color\": \"#E5ECF6\", \"width\": 0.5}}, \"type\": \"bar\"}], \"barpolar\": [{\"marker\": {\"line\": {\"color\": \"#E5ECF6\", \"width\": 0.5}}, \"type\": \"barpolar\"}], \"carpet\": [{\"aaxis\": {\"endlinecolor\": \"#2a3f5f\", \"gridcolor\": \"white\", \"linecolor\": \"white\", \"minorgridcolor\": \"white\", \"startlinecolor\": \"#2a3f5f\"}, \"baxis\": {\"endlinecolor\": \"#2a3f5f\", \"gridcolor\": \"white\", \"linecolor\": \"white\", \"minorgridcolor\": \"white\", \"startlinecolor\": \"#2a3f5f\"}, \"type\": \"carpet\"}], \"choropleth\": [{\"colorbar\": {\"outlinewidth\": 0, \"ticks\": \"\"}, \"type\": \"choropleth\"}], \"contour\": [{\"colorbar\": {\"outlinewidth\": 0, \"ticks\": \"\"}, \"colorscale\": [[0.0, \"#0d0887\"], [0.1111111111111111, \"#46039f\"], [0.2222222222222222, \"#7201a8\"], [0.3333333333333333, \"#9c179e\"], [0.4444444444444444, \"#bd3786\"], [0.5555555555555556, \"#d8576b\"], [0.6666666666666666, \"#ed7953\"], [0.7777777777777778, \"#fb9f3a\"], [0.8888888888888888, \"#fdca26\"], [1.0, \"#f0f921\"]], \"type\": \"contour\"}], \"contourcarpet\": [{\"colorbar\": {\"outlinewidth\": 0, \"ticks\": \"\"}, \"type\": \"contourcarpet\"}], \"heatmap\": [{\"colorbar\": {\"outlinewidth\": 0, \"ticks\": \"\"}, \"colorscale\": [[0.0, \"#0d0887\"], [0.1111111111111111, \"#46039f\"], [0.2222222222222222, \"#7201a8\"], [0.3333333333333333, \"#9c179e\"], [0.4444444444444444, \"#bd3786\"], [0.5555555555555556, \"#d8576b\"], [0.6666666666666666, \"#ed7953\"], [0.7777777777777778, \"#fb9f3a\"], [0.8888888888888888, \"#fdca26\"], [1.0, \"#f0f921\"]], \"type\": \"heatmap\"}], \"heatmapgl\": [{\"colorbar\": {\"outlinewidth\": 0, \"ticks\": \"\"}, \"colorscale\": [[0.0, \"#0d0887\"], [0.1111111111111111, \"#46039f\"], [0.2222222222222222, \"#7201a8\"], [0.3333333333333333, \"#9c179e\"], [0.4444444444444444, \"#bd3786\"], [0.5555555555555556, \"#d8576b\"], [0.6666666666666666, \"#ed7953\"], [0.7777777777777778, \"#fb9f3a\"], [0.8888888888888888, \"#fdca26\"], [1.0, \"#f0f921\"]], \"type\": \"heatmapgl\"}], \"histogram\": [{\"marker\": {\"colorbar\": {\"outlinewidth\": 0, \"ticks\": \"\"}}, \"type\": \"histogram\"}], \"histogram2d\": [{\"colorbar\": {\"outlinewidth\": 0, \"ticks\": \"\"}, \"colorscale\": [[0.0, \"#0d0887\"], [0.1111111111111111, \"#46039f\"], [0.2222222222222222, \"#7201a8\"], [0.3333333333333333, \"#9c179e\"], [0.4444444444444444, \"#bd3786\"], [0.5555555555555556, \"#d8576b\"], [0.6666666666666666, \"#ed7953\"], [0.7777777777777778, \"#fb9f3a\"], [0.8888888888888888, \"#fdca26\"], [1.0, \"#f0f921\"]], \"type\": \"histogram2d\"}], \"histogram2dcontour\": [{\"colorbar\": {\"outlinewidth\": 0, \"ticks\": \"\"}, \"colorscale\": [[0.0, \"#0d0887\"], [0.1111111111111111, \"#46039f\"], [0.2222222222222222, \"#7201a8\"], [0.3333333333333333, \"#9c179e\"], [0.4444444444444444, \"#bd3786\"], [0.5555555555555556, \"#d8576b\"], [0.6666666666666666, \"#ed7953\"], [0.7777777777777778, \"#fb9f3a\"], [0.8888888888888888, \"#fdca26\"], [1.0, \"#f0f921\"]], \"type\": \"histogram2dcontour\"}], \"mesh3d\": [{\"colorbar\": {\"outlinewidth\": 0, \"ticks\": \"\"}, \"type\": \"mesh3d\"}], \"parcoords\": [{\"line\": {\"colorbar\": {\"outlinewidth\": 0, \"ticks\": \"\"}}, \"type\": \"parcoords\"}], \"pie\": [{\"automargin\": true, \"type\": \"pie\"}], \"scatter\": [{\"marker\": {\"colorbar\": {\"outlinewidth\": 0, \"ticks\": \"\"}}, \"type\": \"scatter\"}], \"scatter3d\": [{\"line\": {\"colorbar\": {\"outlinewidth\": 0, \"ticks\": \"\"}}, \"marker\": {\"colorbar\": {\"outlinewidth\": 0, \"ticks\": \"\"}}, \"type\": \"scatter3d\"}], \"scattercarpet\": [{\"marker\": {\"colorbar\": {\"outlinewidth\": 0, \"ticks\": \"\"}}, \"type\": \"scattercarpet\"}], \"scattergeo\": [{\"marker\": {\"colorbar\": {\"outlinewidth\": 0, \"ticks\": \"\"}}, \"type\": \"scattergeo\"}], \"scattergl\": [{\"marker\": {\"colorbar\": {\"outlinewidth\": 0, \"ticks\": \"\"}}, \"type\": \"scattergl\"}], \"scattermapbox\": [{\"marker\": {\"colorbar\": {\"outlinewidth\": 0, \"ticks\": \"\"}}, \"type\": \"scattermapbox\"}], \"scatterpolar\": [{\"marker\": {\"colorbar\": {\"outlinewidth\": 0, \"ticks\": \"\"}}, \"type\": \"scatterpolar\"}], \"scatterpolargl\": [{\"marker\": {\"colorbar\": {\"outlinewidth\": 0, \"ticks\": \"\"}}, \"type\": \"scatterpolargl\"}], \"scatterternary\": [{\"marker\": {\"colorbar\": {\"outlinewidth\": 0, \"ticks\": \"\"}}, \"type\": \"scatterternary\"}], \"surface\": [{\"colorbar\": {\"outlinewidth\": 0, \"ticks\": \"\"}, \"colorscale\": [[0.0, \"#0d0887\"], [0.1111111111111111, \"#46039f\"], [0.2222222222222222, \"#7201a8\"], [0.3333333333333333, \"#9c179e\"], [0.4444444444444444, \"#bd3786\"], [0.5555555555555556, \"#d8576b\"], [0.6666666666666666, \"#ed7953\"], [0.7777777777777778, \"#fb9f3a\"], [0.8888888888888888, \"#fdca26\"], [1.0, \"#f0f921\"]], \"type\": \"surface\"}], \"table\": [{\"cells\": {\"fill\": {\"color\": \"#EBF0F8\"}, \"line\": {\"color\": \"white\"}}, \"header\": {\"fill\": {\"color\": \"#C8D4E3\"}, \"line\": {\"color\": \"white\"}}, \"type\": \"table\"}]}, \"layout\": {\"annotationdefaults\": {\"arrowcolor\": \"#2a3f5f\", \"arrowhead\": 0, \"arrowwidth\": 1}, \"coloraxis\": {\"colorbar\": {\"outlinewidth\": 0, \"ticks\": \"\"}}, \"colorscale\": {\"diverging\": [[0, \"#8e0152\"], [0.1, \"#c51b7d\"], [0.2, \"#de77ae\"], [0.3, \"#f1b6da\"], [0.4, \"#fde0ef\"], [0.5, \"#f7f7f7\"], [0.6, \"#e6f5d0\"], [0.7, \"#b8e186\"], [0.8, \"#7fbc41\"], [0.9, \"#4d9221\"], [1, \"#276419\"]], \"sequential\": [[0.0, \"#0d0887\"], [0.1111111111111111, \"#46039f\"], [0.2222222222222222, \"#7201a8\"], [0.3333333333333333, \"#9c179e\"], [0.4444444444444444, \"#bd3786\"], [0.5555555555555556, \"#d8576b\"], [0.6666666666666666, \"#ed7953\"], [0.7777777777777778, \"#fb9f3a\"], [0.8888888888888888, \"#fdca26\"], [1.0, \"#f0f921\"]], \"sequentialminus\": [[0.0, \"#0d0887\"], [0.1111111111111111, \"#46039f\"], [0.2222222222222222, \"#7201a8\"], [0.3333333333333333, \"#9c179e\"], [0.4444444444444444, \"#bd3786\"], [0.5555555555555556, \"#d8576b\"], [0.6666666666666666, \"#ed7953\"], [0.7777777777777778, \"#fb9f3a\"], [0.8888888888888888, \"#fdca26\"], [1.0, \"#f0f921\"]]}, \"colorway\": [\"#636efa\", \"#EF553B\", \"#00cc96\", \"#ab63fa\", \"#FFA15A\", \"#19d3f3\", \"#FF6692\", \"#B6E880\", \"#FF97FF\", \"#FECB52\"], \"font\": {\"color\": \"#2a3f5f\"}, \"geo\": {\"bgcolor\": \"white\", \"lakecolor\": \"white\", \"landcolor\": \"#E5ECF6\", \"showlakes\": true, \"showland\": true, \"subunitcolor\": \"white\"}, \"hoverlabel\": {\"align\": \"left\"}, \"hovermode\": \"closest\", \"mapbox\": {\"style\": \"light\"}, \"paper_bgcolor\": \"white\", \"plot_bgcolor\": \"#E5ECF6\", \"polar\": {\"angularaxis\": {\"gridcolor\": \"white\", \"linecolor\": \"white\", \"ticks\": \"\"}, \"bgcolor\": \"#E5ECF6\", \"radialaxis\": {\"gridcolor\": \"white\", \"linecolor\": \"white\", \"ticks\": \"\"}}, \"scene\": {\"xaxis\": {\"backgroundcolor\": \"#E5ECF6\", \"gridcolor\": \"white\", \"gridwidth\": 2, \"linecolor\": \"white\", \"showbackground\": true, \"ticks\": \"\", \"zerolinecolor\": \"white\"}, \"yaxis\": {\"backgroundcolor\": \"#E5ECF6\", \"gridcolor\": \"white\", \"gridwidth\": 2, \"linecolor\": \"white\", \"showbackground\": true, \"ticks\": \"\", \"zerolinecolor\": \"white\"}, \"zaxis\": {\"backgroundcolor\": \"#E5ECF6\", \"gridcolor\": \"white\", \"gridwidth\": 2, \"linecolor\": \"white\", \"showbackground\": true, \"ticks\": \"\", \"zerolinecolor\": \"white\"}}, \"shapedefaults\": {\"line\": {\"color\": \"#2a3f5f\"}}, \"ternary\": {\"aaxis\": {\"gridcolor\": \"white\", \"linecolor\": \"white\", \"ticks\": \"\"}, \"baxis\": {\"gridcolor\": \"white\", \"linecolor\": \"white\", \"ticks\": \"\"}, \"bgcolor\": \"#E5ECF6\", \"caxis\": {\"gridcolor\": \"white\", \"linecolor\": \"white\", \"ticks\": \"\"}}, \"title\": {\"x\": 0.05}, \"xaxis\": {\"automargin\": true, \"gridcolor\": \"white\", \"linecolor\": \"white\", \"ticks\": \"\", \"title\": {\"standoff\": 15}, \"zerolinecolor\": \"white\", \"zerolinewidth\": 2}, \"yaxis\": {\"automargin\": true, \"gridcolor\": \"white\", \"linecolor\": \"white\", \"ticks\": \"\", \"title\": {\"standoff\": 15}, \"zerolinecolor\": \"white\", \"zerolinewidth\": 2}}}, \"title\": {\"font\": {\"size\": 20}, \"text\": \"Resting Blood Pressure vs Age\"}, \"xaxis\": {\"anchor\": \"y\", \"domain\": [0.0, 1.0], \"title\": {\"font\": {\"size\": 18}, \"text\": \"Resting Blood Pressure\"}}, \"yaxis\": {\"anchor\": \"x\", \"domain\": [0.0, 1.0], \"title\": {\"text\": \"age\"}}},\n",
              "                        {\"responsive\": true}\n",
              "                    ).then(function(){\n",
              "                            \n",
              "var gd = document.getElementById('60645094-b3d1-4c34-b824-cf80f1d907e4');\n",
              "var x = new MutationObserver(function (mutations, observer) {{\n",
              "        var display = window.getComputedStyle(gd).display;\n",
              "        if (!display || display === 'none') {{\n",
              "            console.log([gd, 'removed!']);\n",
              "            Plotly.purge(gd);\n",
              "            observer.disconnect();\n",
              "        }}\n",
              "}});\n",
              "\n",
              "// Listen for the removal of the full notebook cells\n",
              "var notebookContainer = gd.closest('#notebook-container');\n",
              "if (notebookContainer) {{\n",
              "    x.observe(notebookContainer, {childList: true});\n",
              "}}\n",
              "\n",
              "// Listen for the clearing of the current output cell\n",
              "var outputEl = gd.closest('.output');\n",
              "if (outputEl) {{\n",
              "    x.observe(outputEl, {childList: true});\n",
              "}}\n",
              "\n",
              "                        })\n",
              "                };\n",
              "                \n",
              "            </script>\n",
              "        </div>\n",
              "</body>\n",
              "</html>"
            ]
          },
          "metadata": {
            "tags": []
          }
        }
      ]
    },
    {
      "cell_type": "markdown",
      "metadata": {
        "id": "DDuNlAeEITUc"
      },
      "source": [
        "## Cholesterol levels vs Age"
      ]
    },
    {
      "cell_type": "code",
      "metadata": {
        "colab": {
          "base_uri": "https://localhost:8080/"
        },
        "id": "OP9owzOpIXQE",
        "outputId": "54e6d4f0-7315-432a-da95-b9222ef077e6"
      },
      "source": [
        "fig = px.scatter(data_frame=df,\n",
        "                 y='chol',\n",
        "                 x='age',\n",
        "                 color='target')\n",
        "fig['layout'].update(title='Cholesterol vs Age',titlefont=dict(size=20),xaxis=dict(title='Cholesterol',titlefont=dict(size=18)))\n",
        "fig.show()"
      ],
      "execution_count": null,
      "outputs": [
        {
          "output_type": "display_data",
          "data": {
            "text/html": [
              "<html>\n",
              "<head><meta charset=\"utf-8\" /></head>\n",
              "<body>\n",
              "    <div>\n",
              "            <script src=\"https://cdnjs.cloudflare.com/ajax/libs/mathjax/2.7.5/MathJax.js?config=TeX-AMS-MML_SVG\"></script><script type=\"text/javascript\">if (window.MathJax) {MathJax.Hub.Config({SVG: {font: \"STIX-Web\"}});}</script>\n",
              "                <script type=\"text/javascript\">window.PlotlyConfig = {MathJaxConfig: 'local'};</script>\n",
              "        <script src=\"https://cdn.plot.ly/plotly-latest.min.js\"></script>    \n",
              "            <div id=\"b6c3d4e1-ad39-43f4-98a6-14feae0ea9da\" class=\"plotly-graph-div\" style=\"height:525px; width:100%;\"></div>\n",
              "            <script type=\"text/javascript\">\n",
              "                \n",
              "                    window.PLOTLYENV=window.PLOTLYENV || {};\n",
              "                    \n",
              "                if (document.getElementById(\"b6c3d4e1-ad39-43f4-98a6-14feae0ea9da\")) {\n",
              "                    Plotly.newPlot(\n",
              "                        'b6c3d4e1-ad39-43f4-98a6-14feae0ea9da',\n",
              "                        [{\"hoverlabel\": {\"namelength\": 0}, \"hovertemplate\": \"age=%{x}<br>chol=%{y}<br>target=%{marker.color}\", \"legendgroup\": \"\", \"marker\": {\"color\": [1, 1, 1, 1, 1, 1, 1, 1, 1, 1, 1, 1, 1, 1, 1, 1, 1, 1, 1, 1, 1, 1, 1, 1, 1, 1, 1, 1, 1, 1, 1, 1, 1, 1, 1, 1, 1, 1, 1, 1, 1, 1, 1, 1, 1, 1, 1, 1, 1, 1, 1, 1, 1, 1, 1, 1, 1, 1, 1, 1, 1, 1, 1, 1, 1, 1, 1, 1, 1, 1, 1, 1, 1, 1, 1, 1, 1, 1, 1, 1, 1, 1, 1, 1, 1, 1, 1, 1, 1, 1, 1, 1, 1, 1, 1, 1, 1, 1, 1, 1, 1, 1, 1, 1, 1, 1, 1, 1, 1, 1, 1, 1, 1, 1, 1, 1, 1, 1, 1, 1, 1, 1, 1, 1, 1, 1, 1, 1, 1, 1, 1, 1, 1, 1, 1, 1, 1, 1, 1, 1, 1, 1, 1, 1, 1, 1, 1, 1, 1, 1, 1, 1, 1, 1, 1, 1, 1, 1, 1, 1, 1, 1, 1, 1, 1, 0, 0, 0, 0, 0, 0, 0, 0, 0, 0, 0, 0, 0, 0, 0, 0, 0, 0, 0, 0, 0, 0, 0, 0, 0, 0, 0, 0, 0, 0, 0, 0, 0, 0, 0, 0, 0, 0, 0, 0, 0, 0, 0, 0, 0, 0, 0, 0, 0, 0, 0, 0, 0, 0, 0, 0, 0, 0, 0, 0, 0, 0, 0, 0, 0, 0, 0, 0, 0, 0, 0, 0, 0, 0, 0, 0, 0, 0, 0, 0, 0, 0, 0, 0, 0, 0, 0, 0, 0, 0, 0, 0, 0, 0, 0, 0, 0, 0, 0, 0, 0, 0, 0, 0, 0, 0, 0, 0, 0, 0, 0, 0, 0, 0, 0, 0, 0, 0, 0, 0, 0, 0, 0, 0, 0, 0, 0, 0, 0, 0, 0, 0, 0, 0, 0, 0, 0, 0], \"coloraxis\": \"coloraxis\", \"symbol\": \"circle\"}, \"mode\": \"markers\", \"name\": \"\", \"showlegend\": false, \"type\": \"scatter\", \"x\": [63, 37, 41, 56, 57, 57, 56, 44, 52, 57, 54, 48, 49, 64, 58, 50, 58, 66, 43, 69, 59, 44, 42, 61, 40, 71, 59, 51, 65, 53, 41, 65, 44, 54, 51, 46, 54, 54, 65, 65, 51, 48, 45, 53, 39, 52, 44, 47, 53, 53, 51, 66, 62, 44, 63, 52, 48, 45, 34, 57, 71, 54, 52, 41, 58, 35, 51, 45, 44, 62, 54, 51, 29, 51, 43, 55, 51, 59, 52, 58, 41, 45, 60, 52, 42, 67, 68, 46, 54, 58, 48, 57, 52, 54, 45, 53, 62, 52, 43, 53, 42, 59, 63, 42, 50, 68, 69, 45, 50, 50, 64, 57, 64, 43, 55, 37, 41, 56, 46, 46, 64, 59, 41, 54, 39, 34, 47, 67, 52, 74, 54, 49, 42, 41, 41, 49, 60, 62, 57, 64, 51, 43, 42, 67, 76, 70, 44, 60, 44, 42, 66, 71, 64, 66, 39, 58, 47, 35, 58, 56, 56, 55, 41, 38, 38, 67, 67, 62, 63, 53, 56, 48, 58, 58, 60, 40, 60, 64, 43, 57, 55, 65, 61, 58, 50, 44, 60, 54, 50, 41, 51, 58, 54, 60, 60, 59, 46, 67, 62, 65, 44, 60, 58, 68, 62, 52, 59, 60, 49, 59, 57, 61, 39, 61, 56, 43, 62, 63, 65, 48, 63, 55, 65, 56, 54, 70, 62, 35, 59, 64, 47, 57, 55, 64, 70, 51, 58, 60, 77, 35, 70, 59, 64, 57, 56, 48, 56, 66, 54, 69, 51, 43, 62, 67, 59, 45, 58, 50, 62, 38, 66, 52, 53, 63, 54, 66, 55, 49, 54, 56, 46, 61, 67, 58, 47, 52, 58, 57, 58, 61, 42, 52, 59, 40, 61, 46, 59, 57, 57, 55, 61, 58, 58, 67, 44, 63, 63, 59, 57, 45, 68, 57, 57], \"xaxis\": \"x\", \"y\": [233, 250, 204, 236, 354, 192, 294, 263, 199, 168, 239, 275, 266, 211, 283, 219, 340, 226, 247, 239, 234, 233, 226, 243, 199, 302, 212, 175, 417, 197, 198, 177, 219, 273, 213, 177, 304, 232, 269, 360, 308, 245, 208, 264, 321, 325, 235, 257, 216, 234, 256, 302, 231, 141, 252, 201, 222, 260, 182, 303, 265, 309, 186, 203, 211, 183, 222, 234, 220, 209, 258, 227, 204, 261, 213, 250, 245, 221, 205, 240, 250, 308, 318, 298, 265, 564, 277, 197, 214, 248, 255, 207, 223, 288, 160, 226, 394, 233, 315, 246, 244, 270, 195, 240, 196, 211, 234, 236, 244, 254, 325, 126, 313, 211, 262, 215, 214, 193, 204, 243, 303, 271, 268, 267, 199, 210, 204, 277, 196, 269, 201, 271, 295, 235, 306, 269, 178, 208, 201, 263, 295, 303, 209, 223, 197, 245, 242, 240, 226, 180, 228, 149, 227, 278, 220, 197, 253, 192, 220, 221, 240, 342, 157, 175, 175, 286, 229, 268, 254, 203, 256, 229, 284, 224, 206, 167, 230, 335, 177, 276, 353, 225, 330, 230, 243, 290, 253, 266, 233, 172, 305, 216, 188, 282, 185, 326, 231, 254, 267, 248, 197, 258, 270, 274, 164, 255, 239, 258, 188, 177, 229, 260, 219, 307, 249, 341, 263, 330, 254, 256, 407, 217, 282, 288, 239, 174, 281, 198, 288, 309, 243, 289, 289, 246, 322, 299, 300, 293, 304, 282, 269, 249, 212, 274, 184, 274, 409, 246, 283, 254, 298, 247, 294, 299, 273, 309, 259, 200, 244, 231, 228, 230, 282, 269, 206, 212, 327, 149, 286, 283, 249, 234, 237, 234, 275, 212, 218, 261, 319, 166, 315, 204, 218, 223, 207, 311, 204, 232, 335, 205, 203, 318, 225, 212, 169, 187, 197, 176, 241, 264, 193, 131, 236], \"yaxis\": \"y\"}],\n",
              "                        {\"coloraxis\": {\"colorbar\": {\"title\": {\"text\": \"target\"}}, \"colorscale\": [[0.0, \"#0d0887\"], [0.1111111111111111, \"#46039f\"], [0.2222222222222222, \"#7201a8\"], [0.3333333333333333, \"#9c179e\"], [0.4444444444444444, \"#bd3786\"], [0.5555555555555556, \"#d8576b\"], [0.6666666666666666, \"#ed7953\"], [0.7777777777777778, \"#fb9f3a\"], [0.8888888888888888, \"#fdca26\"], [1.0, \"#f0f921\"]]}, \"legend\": {\"tracegroupgap\": 0}, \"margin\": {\"t\": 60}, \"template\": {\"data\": {\"bar\": [{\"error_x\": {\"color\": \"#2a3f5f\"}, \"error_y\": {\"color\": \"#2a3f5f\"}, \"marker\": {\"line\": {\"color\": \"#E5ECF6\", \"width\": 0.5}}, \"type\": \"bar\"}], \"barpolar\": [{\"marker\": {\"line\": {\"color\": \"#E5ECF6\", \"width\": 0.5}}, \"type\": \"barpolar\"}], \"carpet\": [{\"aaxis\": {\"endlinecolor\": \"#2a3f5f\", \"gridcolor\": \"white\", \"linecolor\": \"white\", \"minorgridcolor\": \"white\", \"startlinecolor\": \"#2a3f5f\"}, \"baxis\": {\"endlinecolor\": \"#2a3f5f\", \"gridcolor\": \"white\", \"linecolor\": \"white\", \"minorgridcolor\": \"white\", \"startlinecolor\": \"#2a3f5f\"}, \"type\": \"carpet\"}], \"choropleth\": [{\"colorbar\": {\"outlinewidth\": 0, \"ticks\": \"\"}, \"type\": \"choropleth\"}], \"contour\": [{\"colorbar\": {\"outlinewidth\": 0, \"ticks\": \"\"}, \"colorscale\": [[0.0, \"#0d0887\"], [0.1111111111111111, \"#46039f\"], [0.2222222222222222, \"#7201a8\"], [0.3333333333333333, \"#9c179e\"], [0.4444444444444444, \"#bd3786\"], [0.5555555555555556, \"#d8576b\"], [0.6666666666666666, \"#ed7953\"], [0.7777777777777778, \"#fb9f3a\"], [0.8888888888888888, \"#fdca26\"], [1.0, \"#f0f921\"]], \"type\": \"contour\"}], \"contourcarpet\": [{\"colorbar\": {\"outlinewidth\": 0, \"ticks\": \"\"}, \"type\": \"contourcarpet\"}], \"heatmap\": [{\"colorbar\": {\"outlinewidth\": 0, \"ticks\": \"\"}, \"colorscale\": [[0.0, \"#0d0887\"], [0.1111111111111111, \"#46039f\"], [0.2222222222222222, \"#7201a8\"], [0.3333333333333333, \"#9c179e\"], [0.4444444444444444, \"#bd3786\"], [0.5555555555555556, \"#d8576b\"], [0.6666666666666666, \"#ed7953\"], [0.7777777777777778, \"#fb9f3a\"], [0.8888888888888888, \"#fdca26\"], [1.0, \"#f0f921\"]], \"type\": \"heatmap\"}], \"heatmapgl\": [{\"colorbar\": {\"outlinewidth\": 0, \"ticks\": \"\"}, \"colorscale\": [[0.0, \"#0d0887\"], [0.1111111111111111, \"#46039f\"], [0.2222222222222222, \"#7201a8\"], [0.3333333333333333, \"#9c179e\"], [0.4444444444444444, \"#bd3786\"], [0.5555555555555556, \"#d8576b\"], [0.6666666666666666, \"#ed7953\"], [0.7777777777777778, \"#fb9f3a\"], [0.8888888888888888, \"#fdca26\"], [1.0, \"#f0f921\"]], \"type\": \"heatmapgl\"}], \"histogram\": [{\"marker\": {\"colorbar\": {\"outlinewidth\": 0, \"ticks\": \"\"}}, \"type\": \"histogram\"}], \"histogram2d\": [{\"colorbar\": {\"outlinewidth\": 0, \"ticks\": \"\"}, \"colorscale\": [[0.0, \"#0d0887\"], [0.1111111111111111, \"#46039f\"], [0.2222222222222222, \"#7201a8\"], [0.3333333333333333, \"#9c179e\"], [0.4444444444444444, \"#bd3786\"], [0.5555555555555556, \"#d8576b\"], [0.6666666666666666, \"#ed7953\"], [0.7777777777777778, \"#fb9f3a\"], [0.8888888888888888, \"#fdca26\"], [1.0, \"#f0f921\"]], \"type\": \"histogram2d\"}], \"histogram2dcontour\": [{\"colorbar\": {\"outlinewidth\": 0, \"ticks\": \"\"}, \"colorscale\": [[0.0, \"#0d0887\"], [0.1111111111111111, \"#46039f\"], [0.2222222222222222, \"#7201a8\"], [0.3333333333333333, \"#9c179e\"], [0.4444444444444444, \"#bd3786\"], [0.5555555555555556, \"#d8576b\"], [0.6666666666666666, \"#ed7953\"], [0.7777777777777778, \"#fb9f3a\"], [0.8888888888888888, \"#fdca26\"], [1.0, \"#f0f921\"]], \"type\": \"histogram2dcontour\"}], \"mesh3d\": [{\"colorbar\": {\"outlinewidth\": 0, \"ticks\": \"\"}, \"type\": \"mesh3d\"}], \"parcoords\": [{\"line\": {\"colorbar\": {\"outlinewidth\": 0, \"ticks\": \"\"}}, \"type\": \"parcoords\"}], \"pie\": [{\"automargin\": true, \"type\": \"pie\"}], \"scatter\": [{\"marker\": {\"colorbar\": {\"outlinewidth\": 0, \"ticks\": \"\"}}, \"type\": \"scatter\"}], \"scatter3d\": [{\"line\": {\"colorbar\": {\"outlinewidth\": 0, \"ticks\": \"\"}}, \"marker\": {\"colorbar\": {\"outlinewidth\": 0, \"ticks\": \"\"}}, \"type\": \"scatter3d\"}], \"scattercarpet\": [{\"marker\": {\"colorbar\": {\"outlinewidth\": 0, \"ticks\": \"\"}}, \"type\": \"scattercarpet\"}], \"scattergeo\": [{\"marker\": {\"colorbar\": {\"outlinewidth\": 0, \"ticks\": \"\"}}, \"type\": \"scattergeo\"}], \"scattergl\": [{\"marker\": {\"colorbar\": {\"outlinewidth\": 0, \"ticks\": \"\"}}, \"type\": \"scattergl\"}], \"scattermapbox\": [{\"marker\": {\"colorbar\": {\"outlinewidth\": 0, \"ticks\": \"\"}}, \"type\": \"scattermapbox\"}], \"scatterpolar\": [{\"marker\": {\"colorbar\": {\"outlinewidth\": 0, \"ticks\": \"\"}}, \"type\": \"scatterpolar\"}], \"scatterpolargl\": [{\"marker\": {\"colorbar\": {\"outlinewidth\": 0, \"ticks\": \"\"}}, \"type\": \"scatterpolargl\"}], \"scatterternary\": [{\"marker\": {\"colorbar\": {\"outlinewidth\": 0, \"ticks\": \"\"}}, \"type\": \"scatterternary\"}], \"surface\": [{\"colorbar\": {\"outlinewidth\": 0, \"ticks\": \"\"}, \"colorscale\": [[0.0, \"#0d0887\"], [0.1111111111111111, \"#46039f\"], [0.2222222222222222, \"#7201a8\"], [0.3333333333333333, \"#9c179e\"], [0.4444444444444444, \"#bd3786\"], [0.5555555555555556, \"#d8576b\"], [0.6666666666666666, \"#ed7953\"], [0.7777777777777778, \"#fb9f3a\"], [0.8888888888888888, \"#fdca26\"], [1.0, \"#f0f921\"]], \"type\": \"surface\"}], \"table\": [{\"cells\": {\"fill\": {\"color\": \"#EBF0F8\"}, \"line\": {\"color\": \"white\"}}, \"header\": {\"fill\": {\"color\": \"#C8D4E3\"}, \"line\": {\"color\": \"white\"}}, \"type\": \"table\"}]}, \"layout\": {\"annotationdefaults\": {\"arrowcolor\": \"#2a3f5f\", \"arrowhead\": 0, \"arrowwidth\": 1}, \"coloraxis\": {\"colorbar\": {\"outlinewidth\": 0, \"ticks\": \"\"}}, \"colorscale\": {\"diverging\": [[0, \"#8e0152\"], [0.1, \"#c51b7d\"], [0.2, \"#de77ae\"], [0.3, \"#f1b6da\"], [0.4, \"#fde0ef\"], [0.5, \"#f7f7f7\"], [0.6, \"#e6f5d0\"], [0.7, \"#b8e186\"], [0.8, \"#7fbc41\"], [0.9, \"#4d9221\"], [1, \"#276419\"]], \"sequential\": [[0.0, \"#0d0887\"], [0.1111111111111111, \"#46039f\"], [0.2222222222222222, \"#7201a8\"], [0.3333333333333333, \"#9c179e\"], [0.4444444444444444, \"#bd3786\"], [0.5555555555555556, \"#d8576b\"], [0.6666666666666666, \"#ed7953\"], [0.7777777777777778, \"#fb9f3a\"], [0.8888888888888888, \"#fdca26\"], [1.0, \"#f0f921\"]], \"sequentialminus\": [[0.0, \"#0d0887\"], [0.1111111111111111, \"#46039f\"], [0.2222222222222222, \"#7201a8\"], [0.3333333333333333, \"#9c179e\"], [0.4444444444444444, \"#bd3786\"], [0.5555555555555556, \"#d8576b\"], [0.6666666666666666, \"#ed7953\"], [0.7777777777777778, \"#fb9f3a\"], [0.8888888888888888, \"#fdca26\"], [1.0, \"#f0f921\"]]}, \"colorway\": [\"#636efa\", \"#EF553B\", \"#00cc96\", \"#ab63fa\", \"#FFA15A\", \"#19d3f3\", \"#FF6692\", \"#B6E880\", \"#FF97FF\", \"#FECB52\"], \"font\": {\"color\": \"#2a3f5f\"}, \"geo\": {\"bgcolor\": \"white\", \"lakecolor\": \"white\", \"landcolor\": \"#E5ECF6\", \"showlakes\": true, \"showland\": true, \"subunitcolor\": \"white\"}, \"hoverlabel\": {\"align\": \"left\"}, \"hovermode\": \"closest\", \"mapbox\": {\"style\": \"light\"}, \"paper_bgcolor\": \"white\", \"plot_bgcolor\": \"#E5ECF6\", \"polar\": {\"angularaxis\": {\"gridcolor\": \"white\", \"linecolor\": \"white\", \"ticks\": \"\"}, \"bgcolor\": \"#E5ECF6\", \"radialaxis\": {\"gridcolor\": \"white\", \"linecolor\": \"white\", \"ticks\": \"\"}}, \"scene\": {\"xaxis\": {\"backgroundcolor\": \"#E5ECF6\", \"gridcolor\": \"white\", \"gridwidth\": 2, \"linecolor\": \"white\", \"showbackground\": true, \"ticks\": \"\", \"zerolinecolor\": \"white\"}, \"yaxis\": {\"backgroundcolor\": \"#E5ECF6\", \"gridcolor\": \"white\", \"gridwidth\": 2, \"linecolor\": \"white\", \"showbackground\": true, \"ticks\": \"\", \"zerolinecolor\": \"white\"}, \"zaxis\": {\"backgroundcolor\": \"#E5ECF6\", \"gridcolor\": \"white\", \"gridwidth\": 2, \"linecolor\": \"white\", \"showbackground\": true, \"ticks\": \"\", \"zerolinecolor\": \"white\"}}, \"shapedefaults\": {\"line\": {\"color\": \"#2a3f5f\"}}, \"ternary\": {\"aaxis\": {\"gridcolor\": \"white\", \"linecolor\": \"white\", \"ticks\": \"\"}, \"baxis\": {\"gridcolor\": \"white\", \"linecolor\": \"white\", \"ticks\": \"\"}, \"bgcolor\": \"#E5ECF6\", \"caxis\": {\"gridcolor\": \"white\", \"linecolor\": \"white\", \"ticks\": \"\"}}, \"title\": {\"x\": 0.05}, \"xaxis\": {\"automargin\": true, \"gridcolor\": \"white\", \"linecolor\": \"white\", \"ticks\": \"\", \"title\": {\"standoff\": 15}, \"zerolinecolor\": \"white\", \"zerolinewidth\": 2}, \"yaxis\": {\"automargin\": true, \"gridcolor\": \"white\", \"linecolor\": \"white\", \"ticks\": \"\", \"title\": {\"standoff\": 15}, \"zerolinecolor\": \"white\", \"zerolinewidth\": 2}}}, \"title\": {\"font\": {\"size\": 20}, \"text\": \"Cholesterol vs Age\"}, \"xaxis\": {\"anchor\": \"y\", \"domain\": [0.0, 1.0], \"title\": {\"font\": {\"size\": 18}, \"text\": \"Cholesterol\"}}, \"yaxis\": {\"anchor\": \"x\", \"domain\": [0.0, 1.0], \"title\": {\"text\": \"chol\"}}},\n",
              "                        {\"responsive\": true}\n",
              "                    ).then(function(){\n",
              "                            \n",
              "var gd = document.getElementById('b6c3d4e1-ad39-43f4-98a6-14feae0ea9da');\n",
              "var x = new MutationObserver(function (mutations, observer) {{\n",
              "        var display = window.getComputedStyle(gd).display;\n",
              "        if (!display || display === 'none') {{\n",
              "            console.log([gd, 'removed!']);\n",
              "            Plotly.purge(gd);\n",
              "            observer.disconnect();\n",
              "        }}\n",
              "}});\n",
              "\n",
              "// Listen for the removal of the full notebook cells\n",
              "var notebookContainer = gd.closest('#notebook-container');\n",
              "if (notebookContainer) {{\n",
              "    x.observe(notebookContainer, {childList: true});\n",
              "}}\n",
              "\n",
              "// Listen for the clearing of the current output cell\n",
              "var outputEl = gd.closest('.output');\n",
              "if (outputEl) {{\n",
              "    x.observe(outputEl, {childList: true});\n",
              "}}\n",
              "\n",
              "                        })\n",
              "                };\n",
              "                \n",
              "            </script>\n",
              "        </div>\n",
              "</body>\n",
              "</html>"
            ]
          },
          "metadata": {
            "tags": []
          }
        }
      ]
    },
    {
      "cell_type": "markdown",
      "metadata": {
        "id": "xm2c7HSKGz7V"
      },
      "source": [
        "## Outlier Detection Using Box and Whisker Plot"
      ]
    },
    {
      "cell_type": "code",
      "metadata": {
        "colab": {
          "base_uri": "https://localhost:8080/"
        },
        "id": "f-UP4b3cG45O",
        "outputId": "5f88a1eb-3504-499f-b0f8-eafb70bed73e"
      },
      "source": [
        "new_df.plot(kind='box',subplots=True, layout=(5,3), figsize=(12,12))\n",
        "plt.show()\n",
        "\n",
        "## We've Outliers in trestbps,chol,ca,oldpeak"
      ],
      "execution_count": null,
      "outputs": [
        {
          "output_type": "display_data",
          "data": {
            "image/png": "[encoded data removed]",
            "text/plain": [
              "<Figure size 864x864 with 15 Axes>"
            ]
          },
          "metadata": {
            "tags": [],
            "needs_background": "light"
          }
        }
      ]
    },
    {
      "cell_type": "code",
      "metadata": {
        "colab": {
          "base_uri": "https://localhost:8080/"
        },
        "id": "T-qHipf_JVnB",
        "outputId": "c47aadd5-1570-402f-d7e7-cede89855c5d"
      },
      "source": [
        "sns.catplot(data=new_df, x='sex',y='age',hue='target')\n",
        "plt.show()"
      ],
      "execution_count": null,
      "outputs": [
        {
          "output_type": "display_data",
          "data": {
            "image/png": "[encoded data removed]",
            "text/plain": [
              "<Figure size 402.375x360 with 1 Axes>"
            ]
          },
          "metadata": {
            "tags": [],
            "needs_background": "light"
          }
        }
      ]
    },
    {
      "cell_type": "code",
      "metadata": {
        "id": "5sZHICEvJhvf"
      },
      "source": [
        "## This plot shows that men having age greater than 70 do not have any heart disease which is clearly an outlier"
      ],
      "execution_count": null,
      "outputs": []
    },
    {
      "cell_type": "code",
      "metadata": {
        "colab": {
          "base_uri": "https://localhost:8080/"
        },
        "id": "S-1wuAwYK-6v",
        "outputId": "d853d1ab-c872-4d8f-b6d5-75890cc71e46"
      },
      "source": [
        "sns.countplot(x='cp',hue='sex',data=new_df)"
      ],
      "execution_count": null,
      "outputs": [
        {
          "output_type": "execute_result",
          "data": {
            "text/plain": [
              "<matplotlib.axes._subplots.AxesSubplot at 0x7fa3b2a03710>"
            ]
          },
          "metadata": {
            "tags": []
          },
          "execution_count": 156
        },
        {
          "output_type": "display_data",
          "data": {
            "image/png": "[encoded data removed]",
            "text/plain": [
              "<Figure size 432x288 with 1 Axes>"
            ]
          },
          "metadata": {
            "tags": [],
            "needs_background": "light"
          }
        }
      ]
    },
    {
      "cell_type": "code",
      "metadata": {
        "colab": {
          "base_uri": "https://localhost:8080/"
        },
        "id": "yJd6nqf4cijB",
        "outputId": "9770b0e7-ed8e-498b-bbc0-67ef35924fd8"
      },
      "source": [
        "sns.catplot(x='cp',y='age',hue='target',data=new_df)"
      ],
      "execution_count": null,
      "outputs": [
        {
          "output_type": "execute_result",
          "data": {
            "text/plain": [
              "<seaborn.axisgrid.FacetGrid at 0x7fa3b2a55d10>"
            ]
          },
          "metadata": {
            "tags": []
          },
          "execution_count": 157
        },
        {
          "output_type": "display_data",
          "data": {
            "image/png": "[encoded data removed]",
            "text/plain": [
              "<Figure size 402.375x360 with 1 Axes>"
            ]
          },
          "metadata": {
            "tags": [],
            "needs_background": "light"
          }
        }
      ]
    },
    {
      "cell_type": "code",
      "metadata": {
        "colab": {
          "base_uri": "https://localhost:8080/"
        },
        "id": "KmHHE-wRLWZR",
        "outputId": "f1b6f33e-e4f1-4eca-f108-7cb57ea94829"
      },
      "source": [
        "sns.boxplot(x='sex',y='chol',hue='target',data=new_df)\n",
        "\n",
        "## Here we can conclude that in both sex having heart disease in cholestrol has outliers"
      ],
      "execution_count": null,
      "outputs": [
        {
          "output_type": "execute_result",
          "data": {
            "text/plain": [
              "<matplotlib.axes._subplots.AxesSubplot at 0x7fa3b29f5a50>"
            ]
          },
          "metadata": {
            "tags": []
          },
          "execution_count": 158
        },
        {
          "output_type": "display_data",
          "data": {
            "image/png": "[encoded data removed]",
            "text/plain": [
              "<Figure size 432x288 with 1 Axes>"
            ]
          },
          "metadata": {
            "tags": [],
            "needs_background": "light"
          }
        }
      ]
    },
    {
      "cell_type": "code",
      "metadata": {
        "id": "3zbRks78IM42"
      },
      "source": [
        "## This is an Outlier since As Age is high the chance of having heart disease is also high\n",
        "new_df=new_df[~((new_df['age']>=70) & (new_df['target']==0))]"
      ],
      "execution_count": null,
      "outputs": []
    },
    {
      "cell_type": "code",
      "metadata": {
        "colab": {
          "base_uri": "https://localhost:8080/"
        },
        "id": "TfJ7NCktJAbe",
        "outputId": "463ac65d-291f-4f73-9092-9779119cdd49"
      },
      "source": [
        "new_df.shape"
      ],
      "execution_count": null,
      "outputs": [
        {
          "output_type": "execute_result",
          "data": {
            "text/plain": [
              "(299, 14)"
            ]
          },
          "metadata": {
            "tags": []
          },
          "execution_count": 160
        }
      ]
    },
    {
      "cell_type": "code",
      "metadata": {
        "colab": {
          "base_uri": "https://localhost:8080/"
        },
        "id": "EOqrlZzyehRN",
        "outputId": "c292161c-939c-4f33-e680-acf21aa3d89e"
      },
      "source": [
        "sns.catplot(data=df,x='sex',y='trestbps',hue='target')"
      ],
      "execution_count": null,
      "outputs": [
        {
          "output_type": "execute_result",
          "data": {
            "text/plain": [
              "<seaborn.axisgrid.FacetGrid at 0x7fa3b33920d0>"
            ]
          },
          "metadata": {
            "tags": []
          },
          "execution_count": 161
        },
        {
          "output_type": "display_data",
          "data": {
            "image/png": "[encoded data removed]",
            "text/plain": [
              "<Figure size 402.375x360 with 1 Axes>"
            ]
          },
          "metadata": {
            "tags": [],
            "needs_background": "light"
          }
        }
      ]
    },
    {
      "cell_type": "code",
      "metadata": {
        "colab": {
          "base_uri": "https://localhost:8080/"
        },
        "id": "nfxGUe16jSWk",
        "outputId": "61f12ae9-8af8-44ff-babf-6a29979e5a76"
      },
      "source": [
        "sns.catplot(data=new_df,x='sex',y='trestbps',hue='target')"
      ],
      "execution_count": null,
      "outputs": [
        {
          "output_type": "execute_result",
          "data": {
            "text/plain": [
              "<seaborn.axisgrid.FacetGrid at 0x7fa3b3381d50>"
            ]
          },
          "metadata": {
            "tags": []
          },
          "execution_count": 162
        },
        {
          "output_type": "display_data",
          "data": {
            "image/png": "[encoded data removed]",
            "text/plain": [
              "<Figure size 402.375x360 with 1 Axes>"
            ]
          },
          "metadata": {
            "tags": [],
            "needs_background": "light"
          }
        }
      ]
    },
    {
      "cell_type": "code",
      "metadata": {
        "colab": {
          "base_uri": "https://localhost:8080/"
        },
        "id": "GP31F-yRjalV",
        "outputId": "0f4aaeb5-e0f5-4088-9ca9-50b7cb9e8892"
      },
      "source": [
        "sns.boxplot(x='sex',y='trestbps',hue='target',data=new_df)"
      ],
      "execution_count": null,
      "outputs": [
        {
          "output_type": "execute_result",
          "data": {
            "text/plain": [
              "<matplotlib.axes._subplots.AxesSubplot at 0x7fa3b31858d0>"
            ]
          },
          "metadata": {
            "tags": []
          },
          "execution_count": 163
        },
        {
          "output_type": "display_data",
          "data": {
            "image/png": "[encoded data removed]",
            "text/plain": [
              "<Figure size 432x288 with 1 Axes>"
            ]
          },
          "metadata": {
            "tags": [],
            "needs_background": "light"
          }
        }
      ]
    },
    {
      "cell_type": "code",
      "metadata": {
        "colab": {
          "base_uri": "https://localhost:8080/"
        },
        "id": "1Hbt_Zlumw2l",
        "outputId": "bc12c811-401a-4024-94d3-ab90ecf2eaff"
      },
      "source": [
        "sns.catplot(x='sex',y='oldpeak',hue='target',data=new_df)"
      ],
      "execution_count": null,
      "outputs": [
        {
          "output_type": "execute_result",
          "data": {
            "text/plain": [
              "<seaborn.axisgrid.FacetGrid at 0x7fa3b340f590>"
            ]
          },
          "metadata": {
            "tags": []
          },
          "execution_count": 164
        },
        {
          "output_type": "display_data",
          "data": {
            "image/png": "[encoded data removed]",
            "text/plain": [
              "<Figure size 402.375x360 with 1 Axes>"
            ]
          },
          "metadata": {
            "tags": [],
            "needs_background": "light"
          }
        }
      ]
    },
    {
      "cell_type": "code",
      "metadata": {
        "id": "Q3IuATKbm5r_"
      },
      "source": [
        "new_df=new_df[~((new_df['oldpeak']>=3) & (new_df['target']==1))]"
      ],
      "execution_count": null,
      "outputs": []
    },
    {
      "cell_type": "code",
      "metadata": {
        "colab": {
          "base_uri": "https://localhost:8080/"
        },
        "id": "qI9DvB3mmq8G",
        "outputId": "56db4058-5081-4452-a74f-29d39cb865ff"
      },
      "source": [
        "sns.boxplot(x='sex',y='oldpeak',hue='target',data=new_df)"
      ],
      "execution_count": null,
      "outputs": [
        {
          "output_type": "execute_result",
          "data": {
            "text/plain": [
              "<matplotlib.axes._subplots.AxesSubplot at 0x7fa3b35389d0>"
            ]
          },
          "metadata": {
            "tags": []
          },
          "execution_count": 166
        },
        {
          "output_type": "display_data",
          "data": {
            "image/png": "[encoded data removed]",
            "text/plain": [
              "<Figure size 432x288 with 1 Axes>"
            ]
          },
          "metadata": {
            "tags": [],
            "needs_background": "light"
          }
        }
      ]
    },
    {
      "cell_type": "code",
      "metadata": {
        "id": "WTTYanSPWzpI"
      },
      "source": [
        "new_df=new_df[~((new_df['age']<=35) & (new_df['target']==1))]"
      ],
      "execution_count": null,
      "outputs": []
    },
    {
      "cell_type": "code",
      "metadata": {
        "colab": {
          "base_uri": "https://localhost:8080/"
        },
        "id": "uGHPc2J3s3c6",
        "outputId": "155fede2-c3a1-460f-8771-778bd8bd802e"
      },
      "source": [
        "new_df['thalach/age']=new_df['thalach']/new_df['age']\n",
        "new_df.head()"
      ],
      "execution_count": null,
      "outputs": [
        {
          "output_type": "execute_result",
          "data": {
            "text/html": [
              "<div>\n",
              "<style scoped>\n",
              "    .dataframe tbody tr th:only-of-type {\n",
              "        vertical-align: middle;\n",
              "    }\n",
              "\n",
              "    .dataframe tbody tr th {\n",
              "        vertical-align: top;\n",
              "    }\n",
              "\n",
              "    .dataframe thead th {\n",
              "        text-align: right;\n",
              "    }\n",
              "</style>\n",
              "<table border=\"1\" class=\"dataframe\">\n",
              "  <thead>\n",
              "    <tr style=\"text-align: right;\">\n",
              "      <th></th>\n",
              "      <th>age</th>\n",
              "      <th>sex</th>\n",
              "      <th>cp</th>\n",
              "      <th>trestbps</th>\n",
              "      <th>chol</th>\n",
              "      <th>fbs</th>\n",
              "      <th>restecg</th>\n",
              "      <th>thalach</th>\n",
              "      <th>exang</th>\n",
              "      <th>oldpeak</th>\n",
              "      <th>slope</th>\n",
              "      <th>ca</th>\n",
              "      <th>thal</th>\n",
              "      <th>target</th>\n",
              "      <th>thalach/age</th>\n",
              "    </tr>\n",
              "  </thead>\n",
              "  <tbody>\n",
              "    <tr>\n",
              "      <th>0</th>\n",
              "      <td>63</td>\n",
              "      <td>1</td>\n",
              "      <td>3</td>\n",
              "      <td>145</td>\n",
              "      <td>233</td>\n",
              "      <td>1</td>\n",
              "      <td>0</td>\n",
              "      <td>150</td>\n",
              "      <td>0</td>\n",
              "      <td>2.3</td>\n",
              "      <td>0</td>\n",
              "      <td>0</td>\n",
              "      <td>1</td>\n",
              "      <td>1</td>\n",
              "      <td>2.380952</td>\n",
              "    </tr>\n",
              "    <tr>\n",
              "      <th>2</th>\n",
              "      <td>41</td>\n",
              "      <td>0</td>\n",
              "      <td>1</td>\n",
              "      <td>130</td>\n",
              "      <td>204</td>\n",
              "      <td>0</td>\n",
              "      <td>0</td>\n",
              "      <td>172</td>\n",
              "      <td>0</td>\n",
              "      <td>1.4</td>\n",
              "      <td>2</td>\n",
              "      <td>0</td>\n",
              "      <td>2</td>\n",
              "      <td>1</td>\n",
              "      <td>4.195122</td>\n",
              "    </tr>\n",
              "    <tr>\n",
              "      <th>3</th>\n",
              "      <td>56</td>\n",
              "      <td>1</td>\n",
              "      <td>1</td>\n",
              "      <td>120</td>\n",
              "      <td>236</td>\n",
              "      <td>0</td>\n",
              "      <td>1</td>\n",
              "      <td>178</td>\n",
              "      <td>0</td>\n",
              "      <td>0.8</td>\n",
              "      <td>2</td>\n",
              "      <td>0</td>\n",
              "      <td>2</td>\n",
              "      <td>1</td>\n",
              "      <td>3.178571</td>\n",
              "    </tr>\n",
              "    <tr>\n",
              "      <th>4</th>\n",
              "      <td>57</td>\n",
              "      <td>0</td>\n",
              "      <td>0</td>\n",
              "      <td>120</td>\n",
              "      <td>354</td>\n",
              "      <td>0</td>\n",
              "      <td>1</td>\n",
              "      <td>163</td>\n",
              "      <td>1</td>\n",
              "      <td>0.6</td>\n",
              "      <td>2</td>\n",
              "      <td>0</td>\n",
              "      <td>2</td>\n",
              "      <td>1</td>\n",
              "      <td>2.859649</td>\n",
              "    </tr>\n",
              "    <tr>\n",
              "      <th>5</th>\n",
              "      <td>57</td>\n",
              "      <td>1</td>\n",
              "      <td>0</td>\n",
              "      <td>140</td>\n",
              "      <td>192</td>\n",
              "      <td>0</td>\n",
              "      <td>1</td>\n",
              "      <td>148</td>\n",
              "      <td>0</td>\n",
              "      <td>0.4</td>\n",
              "      <td>1</td>\n",
              "      <td>0</td>\n",
              "      <td>1</td>\n",
              "      <td>1</td>\n",
              "      <td>2.596491</td>\n",
              "    </tr>\n",
              "  </tbody>\n",
              "</table>\n",
              "</div>"
            ],
            "text/plain": [
              "   age  sex  cp  trestbps  chol  ...  slope  ca  thal  target  thalach/age\n",
              "0   63    1   3       145   233  ...      0   0     1       1     2.380952\n",
              "2   41    0   1       130   204  ...      2   0     2       1     4.195122\n",
              "3   56    1   1       120   236  ...      2   0     2       1     3.178571\n",
              "4   57    0   0       120   354  ...      2   0     2       1     2.859649\n",
              "5   57    1   0       140   192  ...      1   0     1       1     2.596491\n",
              "\n",
              "[5 rows x 15 columns]"
            ]
          },
          "metadata": {
            "tags": []
          },
          "execution_count": 168
        }
      ]
    },
    {
      "cell_type": "code",
      "metadata": {
        "id": "zUd_cc1FyCgS"
      },
      "source": [
        "cols = new_df.columns.tolist()"
      ],
      "execution_count": null,
      "outputs": []
    },
    {
      "cell_type": "code",
      "metadata": {
        "id": "LToIVMUJyCc1"
      },
      "source": [
        "cols = cols[-1:] + cols[:-1]"
      ],
      "execution_count": null,
      "outputs": []
    },
    {
      "cell_type": "code",
      "metadata": {
        "id": "bANsVXSpyCaS"
      },
      "source": [
        " new_df = new_df[cols]"
      ],
      "execution_count": null,
      "outputs": []
    },
    {
      "cell_type": "code",
      "metadata": {
        "colab": {
          "base_uri": "https://localhost:8080/"
        },
        "id": "vKe-fePKyCX7",
        "outputId": "c354432c-3ac7-492d-8b8c-a06da542ad12"
      },
      "source": [
        "new_df.head()"
      ],
      "execution_count": null,
      "outputs": [
        {
          "output_type": "execute_result",
          "data": {
            "text/html": [
              "<div>\n",
              "<style scoped>\n",
              "    .dataframe tbody tr th:only-of-type {\n",
              "        vertical-align: middle;\n",
              "    }\n",
              "\n",
              "    .dataframe tbody tr th {\n",
              "        vertical-align: top;\n",
              "    }\n",
              "\n",
              "    .dataframe thead th {\n",
              "        text-align: right;\n",
              "    }\n",
              "</style>\n",
              "<table border=\"1\" class=\"dataframe\">\n",
              "  <thead>\n",
              "    <tr style=\"text-align: right;\">\n",
              "      <th></th>\n",
              "      <th>thalach/age</th>\n",
              "      <th>age</th>\n",
              "      <th>sex</th>\n",
              "      <th>cp</th>\n",
              "      <th>trestbps</th>\n",
              "      <th>chol</th>\n",
              "      <th>fbs</th>\n",
              "      <th>restecg</th>\n",
              "      <th>thalach</th>\n",
              "      <th>exang</th>\n",
              "      <th>oldpeak</th>\n",
              "      <th>slope</th>\n",
              "      <th>ca</th>\n",
              "      <th>thal</th>\n",
              "      <th>target</th>\n",
              "    </tr>\n",
              "  </thead>\n",
              "  <tbody>\n",
              "    <tr>\n",
              "      <th>0</th>\n",
              "      <td>2.380952</td>\n",
              "      <td>63</td>\n",
              "      <td>1</td>\n",
              "      <td>3</td>\n",
              "      <td>145</td>\n",
              "      <td>233</td>\n",
              "      <td>1</td>\n",
              "      <td>0</td>\n",
              "      <td>150</td>\n",
              "      <td>0</td>\n",
              "      <td>2.3</td>\n",
              "      <td>0</td>\n",
              "      <td>0</td>\n",
              "      <td>1</td>\n",
              "      <td>1</td>\n",
              "    </tr>\n",
              "    <tr>\n",
              "      <th>2</th>\n",
              "      <td>4.195122</td>\n",
              "      <td>41</td>\n",
              "      <td>0</td>\n",
              "      <td>1</td>\n",
              "      <td>130</td>\n",
              "      <td>204</td>\n",
              "      <td>0</td>\n",
              "      <td>0</td>\n",
              "      <td>172</td>\n",
              "      <td>0</td>\n",
              "      <td>1.4</td>\n",
              "      <td>2</td>\n",
              "      <td>0</td>\n",
              "      <td>2</td>\n",
              "      <td>1</td>\n",
              "    </tr>\n",
              "    <tr>\n",
              "      <th>3</th>\n",
              "      <td>3.178571</td>\n",
              "      <td>56</td>\n",
              "      <td>1</td>\n",
              "      <td>1</td>\n",
              "      <td>120</td>\n",
              "      <td>236</td>\n",
              "      <td>0</td>\n",
              "      <td>1</td>\n",
              "      <td>178</td>\n",
              "      <td>0</td>\n",
              "      <td>0.8</td>\n",
              "      <td>2</td>\n",
              "      <td>0</td>\n",
              "      <td>2</td>\n",
              "      <td>1</td>\n",
              "    </tr>\n",
              "    <tr>\n",
              "      <th>4</th>\n",
              "      <td>2.859649</td>\n",
              "      <td>57</td>\n",
              "      <td>0</td>\n",
              "      <td>0</td>\n",
              "      <td>120</td>\n",
              "      <td>354</td>\n",
              "      <td>0</td>\n",
              "      <td>1</td>\n",
              "      <td>163</td>\n",
              "      <td>1</td>\n",
              "      <td>0.6</td>\n",
              "      <td>2</td>\n",
              "      <td>0</td>\n",
              "      <td>2</td>\n",
              "      <td>1</td>\n",
              "    </tr>\n",
              "    <tr>\n",
              "      <th>5</th>\n",
              "      <td>2.596491</td>\n",
              "      <td>57</td>\n",
              "      <td>1</td>\n",
              "      <td>0</td>\n",
              "      <td>140</td>\n",
              "      <td>192</td>\n",
              "      <td>0</td>\n",
              "      <td>1</td>\n",
              "      <td>148</td>\n",
              "      <td>0</td>\n",
              "      <td>0.4</td>\n",
              "      <td>1</td>\n",
              "      <td>0</td>\n",
              "      <td>1</td>\n",
              "      <td>1</td>\n",
              "    </tr>\n",
              "  </tbody>\n",
              "</table>\n",
              "</div>"
            ],
            "text/plain": [
              "   thalach/age  age  sex  cp  trestbps  ...  oldpeak  slope  ca  thal  target\n",
              "0     2.380952   63    1   3       145  ...      2.3      0   0     1       1\n",
              "2     4.195122   41    0   1       130  ...      1.4      2   0     2       1\n",
              "3     3.178571   56    1   1       120  ...      0.8      2   0     2       1\n",
              "4     2.859649   57    0   0       120  ...      0.6      2   0     2       1\n",
              "5     2.596491   57    1   0       140  ...      0.4      1   0     1       1\n",
              "\n",
              "[5 rows x 15 columns]"
            ]
          },
          "metadata": {
            "tags": []
          },
          "execution_count": 172
        }
      ]
    },
    {
      "cell_type": "markdown",
      "metadata": {
        "id": "aZP_o0XUekCI"
      },
      "source": [
        "## Defining X and y"
      ]
    },
    {
      "cell_type": "code",
      "metadata": {
        "id": "0Fcl8k1oPV0G"
      },
      "source": [
        "X=new_df.iloc[:,:-1].values\n",
        "y=new_df.iloc[:,-1].values"
      ],
      "execution_count": 223,
      "outputs": []
    },
    {
      "cell_type": "markdown",
      "metadata": {
        "id": "3TJO9ZiDl3_4"
      },
      "source": [
        "## Splitting the Data"
      ]
    },
    {
      "cell_type": "code",
      "metadata": {
        "id": "4dOuy2TXPV3e"
      },
      "source": [
        "from sklearn.model_selection import train_test_split\n",
        "X_train,X_test,y_train,y_test=train_test_split(X,y,test_size=0.20,random_state=42,stratify=y)"
      ],
      "execution_count": 224,
      "outputs": []
    },
    {
      "cell_type": "markdown",
      "metadata": {
        "id": "8f5F7kX9l-9Q"
      },
      "source": [
        "## Scaling the Data"
      ]
    },
    {
      "cell_type": "code",
      "metadata": {
        "id": "iw4hqyqFP_yK"
      },
      "source": [
        "from sklearn.preprocessing import StandardScaler\n",
        "sc=StandardScaler()\n",
        "X_train=sc.fit_transform(X_train)\n",
        "X_test=sc.transform(X_test)"
      ],
      "execution_count": 225,
      "outputs": []
    },
    {
      "cell_type": "markdown",
      "metadata": {
        "id": "Bn69GYVrPeAh"
      },
      "source": [
        "## Testing Using Different Models"
      ]
    },
    {
      "cell_type": "code",
      "metadata": {
        "id": "MYe_g3iDPg5P"
      },
      "source": [
        "from sklearn.ensemble import RandomForestClassifier\n",
        "from xgboost import XGBClassifier\n",
        "from sklearn.neighbors import KNeighborsClassifier\n",
        "from sklearn.naive_bayes import GaussianNB\n",
        "from sklearn.linear_model import LogisticRegression\n",
        "from sklearn.tree import DecisionTreeClassifier\n",
        "from sklearn.metrics import accuracy_score\n",
        "from sklearn.ensemble import BaggingClassifier\n",
        "from sklearn.ensemble import AdaBoostClassifier\n",
        "from sklearn.ensemble import GradientBoostingClassifier\n",
        "from sklearn.svm import SVC"
      ],
      "execution_count": 226,
      "outputs": []
    },
    {
      "cell_type": "code",
      "metadata": {
        "id": "jt59PlPWPj_O"
      },
      "source": [
        "base_models = [(\"XGB_model\", XGBClassifier(random_state=42, n_jobs=-1,use_label_encoder=False)),  #XGBoost model\n",
        "              (\"SVM\",      SVC(C=3.0)),                                                               #Support Vector Machines\n",
        "               (\"LR_model\", LogisticRegression(random_state=42,n_jobs=-1)),                       #Logistic Regression model\n",
        "               (\"DT_model\", DecisionTreeClassifier(random_state=42)),                             #Decision tree model\n",
        "               (\"RF_model\", RandomForestClassifier()),                  #Random Forest model\n",
        "               (\"Bagging_model\",BaggingClassifier(base_estimator=DecisionTreeClassifier(),        #Bagging model\n",
        "                                                 max_samples=30,\n",
        "                                                 n_estimators=500,\n",
        "                                                 n_jobs=-1,\n",
        "                                                 bootstrap=True,\n",
        "                                                 oob_score=True)),\n",
        "               (\"KNN\",KNeighborsClassifier(n_neighbors=9)),\n",
        "               (\"Naive Bayes\", GaussianNB()),\n",
        "               (\"Random_subspaces_model\",BaggingClassifier(base_estimator=DecisionTreeClassifier(),#Random subspaces model\n",
        "                                                           n_estimators=100,\n",
        "                                                           bootstrap=False,\n",
        "                                                           max_samples=1.0,\n",
        "                                                           max_features=True,\n",
        "                                                            n_jobs=-1)),\n",
        "                (\"Random_Patches_model\", BaggingClassifier(base_estimator=DecisionTreeClassifier(),#Random Patches model\n",
        "                                                            n_estimators=110,\n",
        "                                                            bootstrap=True,\n",
        "                                                            max_samples=1.0,\n",
        "                                                            max_features=True,\n",
        "                                                            bootstrap_features=True,\n",
        "                                                            n_jobs=-1)),\n",
        "                (\"AdaBoost_model\",AdaBoostClassifier(DecisionTreeClassifier(),                      #AdaBoost model\n",
        "                                                    n_estimators=100,\n",
        "                                                    learning_rate=0.01)),\n",
        "                (\"GradientBoosting\",GradientBoostingClassifier(max_depth=2,                        #GradientBoosting model\n",
        "                                                              n_estimators=100))]"
      ],
      "execution_count": 227,
      "outputs": []
    },
    {
      "cell_type": "code",
      "metadata": {
        "colab": {
          "base_uri": "https://localhost:8080/"
        },
        "id": "UubQ3MyhPtRK",
        "outputId": "e7849854-bbe4-442b-ff2e-719a0d5e0c73"
      },
      "source": [
        "accuracies = {}\n",
        "model = base_models\n",
        "X_train, X_test, y_train, y_test = train_test_split(X, y, test_size=0.2, random_state=42)\n",
        "for name,model in base_models:\n",
        "    model.fit(X_train, y_train)\n",
        "    acc = model.score(X_test,y_test)*100\n",
        "    accuracies[name] = acc\n",
        "    print(\"{} Accuracy Score : {:.2f}%\".format(name,acc))"
      ],
      "execution_count": 228,
      "outputs": [
        {
          "output_type": "stream",
          "text": [
            "XGB_model Accuracy Score : 85.25%\n",
            "SVM Accuracy Score : 73.77%\n",
            "LR_model Accuracy Score : 88.52%\n",
            "DT_model Accuracy Score : 75.41%\n",
            "RF_model Accuracy Score : 85.25%\n",
            "Bagging_model Accuracy Score : 86.89%\n",
            "KNN Accuracy Score : 68.85%\n",
            "Naive Bayes Accuracy Score : 86.89%\n",
            "Random_subspaces_model Accuracy Score : 83.61%\n",
            "Random_Patches_model Accuracy Score : 86.89%\n",
            "AdaBoost_model Accuracy Score : 81.97%\n",
            "GradientBoosting Accuracy Score : 83.61%\n"
          ],
          "name": "stdout"
        }
      ]
    },
    {
      "cell_type": "markdown",
      "metadata": {
        "id": "Qq_TbPIQgzHT"
      },
      "source": [
        "## Parameter tuning using GridSearchCV"
      ]
    },
    {
      "cell_type": "code",
      "metadata": {
        "id": "7D2QyGb2ZY1P"
      },
      "source": [
        "from sklearn.model_selection import GridSearchCV"
      ],
      "execution_count": 229,
      "outputs": []
    },
    {
      "cell_type": "markdown",
      "metadata": {
        "id": "3VesL2Udi4KP"
      },
      "source": [
        "## For SVM"
      ]
    },
    {
      "cell_type": "code",
      "metadata": {
        "colab": {
          "base_uri": "https://localhost:8080/"
        },
        "id": "j8eBkdwnZZ_S",
        "outputId": "00ce217b-1f90-4cf8-b4f7-faabb63b4c88"
      },
      "source": [
        "param_grid = {'C': [2,3,4,10,11,12,13,100], 'gamma': [1e-7,1e-6,1e-4,1e-3,1e-2],'kernel': ['rbf','sigmoid']}\n",
        "grid = GridSearchCV(SVC(),param_grid,refit=True,verbose=3,n_jobs=-1)\n",
        "grid.fit(X_train,y_train)"
      ],
      "execution_count": 230,
      "outputs": [
        {
          "output_type": "stream",
          "text": [
            "Fitting 5 folds for each of 80 candidates, totalling 400 fits\n"
          ],
          "name": "stdout"
        },
        {
          "output_type": "stream",
          "text": [
            "[Parallel(n_jobs=-1)]: Using backend LokyBackend with 2 concurrent workers.\n",
            "[Parallel(n_jobs=-1)]: Done 319 tasks      | elapsed:    1.0s\n",
            "[Parallel(n_jobs=-1)]: Done 400 out of 400 | elapsed:    1.0s finished\n"
          ],
          "name": "stderr"
        },
        {
          "output_type": "execute_result",
          "data": {
            "text/plain": [
              "GridSearchCV(cv=None, error_score=nan,\n",
              "             estimator=SVC(C=1.0, break_ties=False, cache_size=200,\n",
              "                           class_weight=None, coef0=0.0,\n",
              "                           decision_function_shape='ovr', degree=3,\n",
              "                           gamma='scale', kernel='rbf', max_iter=-1,\n",
              "                           probability=False, random_state=None, shrinking=True,\n",
              "                           tol=0.001, verbose=False),\n",
              "             iid='deprecated', n_jobs=-1,\n",
              "             param_grid={'C': [2, 3, 4, 10, 11, 12, 13, 100],\n",
              "                         'gamma': [1e-07, 1e-06, 0.0001, 0.001, 0.01],\n",
              "                         'kernel': ['rbf', 'sigmoid']},\n",
              "             pre_dispatch='2*n_jobs', refit=True, return_train_score=False,\n",
              "             scoring=None, verbose=3)"
            ]
          },
          "metadata": {
            "tags": []
          },
          "execution_count": 230
        }
      ]
    },
    {
      "cell_type": "code",
      "metadata": {
        "id": "7QlAloaLZf2i",
        "colab": {
          "base_uri": "https://localhost:8080/"
        },
        "outputId": "6e3cb352-b9ad-45ca-afbf-82657ce23c2d"
      },
      "source": [
        "print(grid.best_estimator_)"
      ],
      "execution_count": 231,
      "outputs": [
        {
          "output_type": "stream",
          "text": [
            "SVC(C=100, break_ties=False, cache_size=200, class_weight=None, coef0=0.0,\n",
            "    decision_function_shape='ovr', degree=3, gamma=0.0001, kernel='rbf',\n",
            "    max_iter=-1, probability=False, random_state=None, shrinking=True,\n",
            "    tol=0.001, verbose=False)\n"
          ],
          "name": "stdout"
        }
      ]
    },
    {
      "cell_type": "code",
      "metadata": {
        "colab": {
          "base_uri": "https://localhost:8080/"
        },
        "id": "JUQiKc-Td_-V",
        "outputId": "c3a7ff44-5166-45f1-cd3b-27a146b0408f"
      },
      "source": [
        "grid.score(X_test,y_test)"
      ],
      "execution_count": 232,
      "outputs": [
        {
          "output_type": "execute_result",
          "data": {
            "text/plain": [
              "0.8360655737704918"
            ]
          },
          "metadata": {
            "tags": []
          },
          "execution_count": 232
        }
      ]
    },
    {
      "cell_type": "markdown",
      "metadata": {
        "id": "idxMsBFGi89v"
      },
      "source": [
        "## Conclusion \n",
        "**Got Best Score of 84%**"
      ]
    },
    {
      "cell_type": "markdown",
      "metadata": {
        "id": "Cols-CbKjB0j"
      },
      "source": [
        "## For Decesion Tree Classifier"
      ]
    },
    {
      "cell_type": "code",
      "metadata": {
        "colab": {
          "base_uri": "https://localhost:8080/"
        },
        "id": "OQsErkWojNAR",
        "outputId": "eda641e9-3922-4b9a-ecef-ce34a355bca4"
      },
      "source": [
        "param_grid = {'criterion' :['gini', 'entropy'], 'max_depth' :[4,6,8,10,12]}\n",
        "grid = GridSearchCV(DecisionTreeClassifier(),param_grid,refit=True,verbose=3,n_jobs=-1)\n",
        "grid.fit(X_train,y_train)"
      ],
      "execution_count": 239,
      "outputs": [
        {
          "output_type": "stream",
          "text": [
            "Fitting 5 folds for each of 10 candidates, totalling 50 fits\n"
          ],
          "name": "stdout"
        },
        {
          "output_type": "stream",
          "text": [
            "[Parallel(n_jobs=-1)]: Using backend LokyBackend with 2 concurrent workers.\n",
            "[Parallel(n_jobs=-1)]: Done  50 out of  50 | elapsed:    0.1s finished\n"
          ],
          "name": "stderr"
        },
        {
          "output_type": "execute_result",
          "data": {
            "text/plain": [
              "GridSearchCV(cv=None, error_score=nan,\n",
              "             estimator=DecisionTreeClassifier(ccp_alpha=0.0, class_weight=None,\n",
              "                                              criterion='gini', max_depth=None,\n",
              "                                              max_features=None,\n",
              "                                              max_leaf_nodes=None,\n",
              "                                              min_impurity_decrease=0.0,\n",
              "                                              min_impurity_split=None,\n",
              "                                              min_samples_leaf=1,\n",
              "                                              min_samples_split=2,\n",
              "                                              min_weight_fraction_leaf=0.0,\n",
              "                                              presort='deprecated',\n",
              "                                              random_state=None,\n",
              "                                              splitter='best'),\n",
              "             iid='deprecated', n_jobs=-1,\n",
              "             param_grid={'criterion': ['gini', 'entropy'],\n",
              "                         'max_depth': [4, 6, 8, 10, 12]},\n",
              "             pre_dispatch='2*n_jobs', refit=True, return_train_score=False,\n",
              "             scoring=None, verbose=3)"
            ]
          },
          "metadata": {
            "tags": []
          },
          "execution_count": 239
        }
      ]
    },
    {
      "cell_type": "code",
      "metadata": {
        "colab": {
          "base_uri": "https://localhost:8080/"
        },
        "id": "4IesGDSwjqIt",
        "outputId": "77cc7646-37a4-4268-ee37-c6275e343b09"
      },
      "source": [
        "print(grid.best_params_)"
      ],
      "execution_count": 240,
      "outputs": [
        {
          "output_type": "stream",
          "text": [
            "{'criterion': 'entropy', 'max_depth': 4}\n"
          ],
          "name": "stdout"
        }
      ]
    },
    {
      "cell_type": "code",
      "metadata": {
        "colab": {
          "base_uri": "https://localhost:8080/"
        },
        "id": "MnSG_N3VjhWT",
        "outputId": "808fc8f9-8fef-4646-9f67-f92debb8d830"
      },
      "source": [
        "grid.score(X_test,y_test)"
      ],
      "execution_count": 241,
      "outputs": [
        {
          "output_type": "execute_result",
          "data": {
            "text/plain": [
              "0.8852459016393442"
            ]
          },
          "metadata": {
            "tags": []
          },
          "execution_count": 241
        }
      ]
    },
    {
      "cell_type": "markdown",
      "metadata": {
        "id": "UYtukbVakykZ"
      },
      "source": [
        "## Conclusion\n",
        "**Accuracy got Increased from 76% to 88% with Parameters entropy and depth of 4**"
      ]
    },
    {
      "cell_type": "markdown",
      "metadata": {
        "id": "pAdoWnLJn1DC"
      },
      "source": [
        "## For Random Forest Classifier Model"
      ]
    },
    {
      "cell_type": "code",
      "metadata": {
        "colab": {
          "base_uri": "https://localhost:8080/"
        },
        "id": "o8k8Fr0ZoEf1",
        "outputId": "2aa06c65-ee7f-46b6-f66a-5bdf150e2ffe"
      },
      "source": [
        "param_grid = {'n_estimators':[100,110,120,130,140],'max_samples':[1,2,3,4,5]}\n",
        "grid = GridSearchCV(BaggingClassifier(base_estimator=DecisionTreeClassifier()),param_grid,refit=True,verbose=3,n_jobs=-1)\n",
        "grid.fit(X_train,y_train)"
      ],
      "execution_count": 236,
      "outputs": [
        {
          "output_type": "stream",
          "text": [
            "Fitting 5 folds for each of 25 candidates, totalling 125 fits\n"
          ],
          "name": "stdout"
        },
        {
          "output_type": "stream",
          "text": [
            "[Parallel(n_jobs=-1)]: Using backend LokyBackend with 2 concurrent workers.\n",
            "[Parallel(n_jobs=-1)]: Done  28 tasks      | elapsed:    3.4s\n",
            "[Parallel(n_jobs=-1)]: Done 125 out of 125 | elapsed:   15.2s finished\n"
          ],
          "name": "stderr"
        },
        {
          "output_type": "execute_result",
          "data": {
            "text/plain": [
              "GridSearchCV(cv=None, error_score=nan,\n",
              "             estimator=BaggingClassifier(base_estimator=DecisionTreeClassifier(ccp_alpha=0.0,\n",
              "                                                                               class_weight=None,\n",
              "                                                                               criterion='gini',\n",
              "                                                                               max_depth=None,\n",
              "                                                                               max_features=None,\n",
              "                                                                               max_leaf_nodes=None,\n",
              "                                                                               min_impurity_decrease=0.0,\n",
              "                                                                               min_impurity_split=None,\n",
              "                                                                               min_samples_leaf=1,\n",
              "                                                                               min_samples_split=2,\n",
              "                                                                               min_weight_fraction_leaf=0.0,\n",
              "                                                                               presort='deprecated',\n",
              "                                                                               random...\n",
              "                                                                               splitter='best'),\n",
              "                                         bootstrap=True,\n",
              "                                         bootstrap_features=False,\n",
              "                                         max_features=1.0, max_samples=1.0,\n",
              "                                         n_estimators=10, n_jobs=None,\n",
              "                                         oob_score=False, random_state=None,\n",
              "                                         verbose=0, warm_start=False),\n",
              "             iid='deprecated', n_jobs=-1,\n",
              "             param_grid={'max_samples': [1, 2, 3, 4, 5],\n",
              "                         'n_estimators': [100, 110, 120, 130, 140]},\n",
              "             pre_dispatch='2*n_jobs', refit=True, return_train_score=False,\n",
              "             scoring=None, verbose=3)"
            ]
          },
          "metadata": {
            "tags": []
          },
          "execution_count": 236
        }
      ]
    },
    {
      "cell_type": "code",
      "metadata": {
        "colab": {
          "base_uri": "https://localhost:8080/"
        },
        "id": "T4x3H-F4o7v9",
        "outputId": "ccd45bd9-b34c-45ad-e4eb-be674404a211"
      },
      "source": [
        "print(grid.best_params_)"
      ],
      "execution_count": 237,
      "outputs": [
        {
          "output_type": "stream",
          "text": [
            "{'max_samples': 5, 'n_estimators': 120}\n"
          ],
          "name": "stdout"
        }
      ]
    },
    {
      "cell_type": "code",
      "metadata": {
        "colab": {
          "base_uri": "https://localhost:8080/"
        },
        "id": "tsRi0eKyomHP",
        "outputId": "3e2491ce-5550-4e39-dd8c-b996a1479198"
      },
      "source": [
        "grid.score(X_test,y_test)"
      ],
      "execution_count": 238,
      "outputs": [
        {
          "output_type": "execute_result",
          "data": {
            "text/plain": [
              "0.8852459016393442"
            ]
          },
          "metadata": {
            "tags": []
          },
          "execution_count": 238
        }
      ]
    },
    {
      "cell_type": "markdown",
      "metadata": {
        "id": "38eDYx9LqbUB"
      },
      "source": [
        "## Conclusion \n",
        "**Got a Accuracy of 92% with max_samples of 4 and estimators of 140**"
      ]
    },
    {
      "cell_type": "markdown",
      "metadata": {
        "id": "E38j9KjV3_Mn"
      },
      "source": [
        "## For KNN Model"
      ]
    },
    {
      "cell_type": "code",
      "metadata": {
        "colab": {
          "base_uri": "https://localhost:8080/"
        },
        "id": "dVpl3rVr4Bp3",
        "outputId": "8e8b75e9-8b90-4ee3-caf8-5bd6d8bddaa1"
      },
      "source": [
        "param_grid = {'n_neighbors':[3,6,9,12,15,18],'leaf_size':[20,40,60,80]}\n",
        "grid = GridSearchCV(KNeighborsClassifier(),param_grid,refit=True,verbose=2,n_jobs=-1)\n",
        "grid.fit(X_train,y_train)"
      ],
      "execution_count": null,
      "outputs": [
        {
          "output_type": "stream",
          "text": [
            "Fitting 5 folds for each of 24 candidates, totalling 120 fits\n"
          ],
          "name": "stdout"
        },
        {
          "output_type": "stream",
          "text": [
            "[Parallel(n_jobs=-1)]: Using backend LokyBackend with 2 concurrent workers.\n",
            "[Parallel(n_jobs=-1)]: Done 120 out of 120 | elapsed:    0.4s finished\n"
          ],
          "name": "stderr"
        },
        {
          "output_type": "execute_result",
          "data": {
            "text/plain": [
              "GridSearchCV(cv=None, error_score=nan,\n",
              "             estimator=KNeighborsClassifier(algorithm='auto', leaf_size=30,\n",
              "                                            metric='minkowski',\n",
              "                                            metric_params=None, n_jobs=None,\n",
              "                                            n_neighbors=5, p=2,\n",
              "                                            weights='uniform'),\n",
              "             iid='deprecated', n_jobs=-1,\n",
              "             param_grid={'leaf_size': [20, 40, 60, 80],\n",
              "                         'n_neighbors': [3, 6, 9, 12, 15, 18]},\n",
              "             pre_dispatch='2*n_jobs', refit=True, return_train_score=False,\n",
              "             scoring=None, verbose=2)"
            ]
          },
          "metadata": {
            "tags": []
          },
          "execution_count": 89
        }
      ]
    },
    {
      "cell_type": "code",
      "metadata": {
        "colab": {
          "base_uri": "https://localhost:8080/"
        },
        "id": "EPr_O0xc4VJL",
        "outputId": "abc05f44-5333-420e-ba4d-94ea6de1dc80"
      },
      "source": [
        "grid.best_params_"
      ],
      "execution_count": null,
      "outputs": [
        {
          "output_type": "execute_result",
          "data": {
            "text/plain": [
              "{'leaf_size': 40, 'n_neighbors': 3}"
            ]
          },
          "metadata": {
            "tags": []
          },
          "execution_count": 90
        }
      ]
    },
    {
      "cell_type": "code",
      "metadata": {
        "colab": {
          "base_uri": "https://localhost:8080/"
        },
        "id": "cNiYDouH4W0y",
        "outputId": "69ae53fc-1132-4e2f-cb55-75a010cb109b"
      },
      "source": [
        "grid.score(X_test,y_test)"
      ],
      "execution_count": null,
      "outputs": [
        {
          "output_type": "execute_result",
          "data": {
            "text/plain": [
              "0.6557377049180327"
            ]
          },
          "metadata": {
            "tags": []
          },
          "execution_count": 91
        }
      ]
    },
    {
      "cell_type": "markdown",
      "metadata": {
        "id": "xZTjsOL2qkY-"
      },
      "source": [
        "## For Bagging Classifier"
      ]
    },
    {
      "cell_type": "code",
      "metadata": {
        "colab": {
          "base_uri": "https://localhost:8080/"
        },
        "id": "a11RRX8YqyRt",
        "outputId": "483e48ba-a3e2-4f5b-d6b1-fbf71e7b6176"
      },
      "source": [
        "param_grid = {'criterion' :['gini', 'entropy'],'n_estimators':[100,120,140,160,180,150,200], 'max_depth' :[2,4,12,16,20],'min_samples_split':[1,2,3]}\n",
        "grid = GridSearchCV(RandomForestClassifier(),param_grid,refit=True,verbose=3,n_jobs=-1)\n",
        "grid.fit(X_train,y_train)"
      ],
      "execution_count": null,
      "outputs": [
        {
          "output_type": "stream",
          "text": [
            "[Parallel(n_jobs=-1)]: Using backend LokyBackend with 2 concurrent workers.\n"
          ],
          "name": "stderr"
        },
        {
          "output_type": "stream",
          "text": [
            "Fitting 5 folds for each of 210 candidates, totalling 1050 fits\n"
          ],
          "name": "stdout"
        },
        {
          "output_type": "stream",
          "text": [
            "[Parallel(n_jobs=-1)]: Done  52 tasks      | elapsed:    4.4s\n",
            "[Parallel(n_jobs=-1)]: Done 244 tasks      | elapsed:   27.3s\n",
            "[Parallel(n_jobs=-1)]: Done 564 tasks      | elapsed:  1.1min\n",
            "[Parallel(n_jobs=-1)]: Done 1012 tasks      | elapsed:  2.1min\n",
            "[Parallel(n_jobs=-1)]: Done 1050 out of 1050 | elapsed:  2.2min finished\n"
          ],
          "name": "stderr"
        },
        {
          "output_type": "execute_result",
          "data": {
            "text/plain": [
              "GridSearchCV(cv=None, error_score=nan,\n",
              "             estimator=RandomForestClassifier(bootstrap=True, ccp_alpha=0.0,\n",
              "                                              class_weight=None,\n",
              "                                              criterion='gini', max_depth=None,\n",
              "                                              max_features='auto',\n",
              "                                              max_leaf_nodes=None,\n",
              "                                              max_samples=None,\n",
              "                                              min_impurity_decrease=0.0,\n",
              "                                              min_impurity_split=None,\n",
              "                                              min_samples_leaf=1,\n",
              "                                              min_samples_split=2,\n",
              "                                              min_weight_fraction_leaf=0.0,\n",
              "                                              n_estimators=100, n_jobs=None,\n",
              "                                              oob_score=False,\n",
              "                                              random_state=None, verbose=0,\n",
              "                                              warm_start=False),\n",
              "             iid='deprecated', n_jobs=-1,\n",
              "             param_grid={'criterion': ['gini', 'entropy'],\n",
              "                         'max_depth': [2, 4, 12, 16, 20],\n",
              "                         'min_samples_split': [1, 2, 3],\n",
              "                         'n_estimators': [100, 120, 140, 160, 180, 150, 200]},\n",
              "             pre_dispatch='2*n_jobs', refit=True, return_train_score=False,\n",
              "             scoring=None, verbose=3)"
            ]
          },
          "metadata": {
            "tags": []
          },
          "execution_count": 47
        }
      ]
    },
    {
      "cell_type": "code",
      "metadata": {
        "colab": {
          "base_uri": "https://localhost:8080/"
        },
        "id": "Bn3GDctd0jW2",
        "outputId": "6e532b3d-baa2-41f3-dd7c-60f5ab4e59fc"
      },
      "source": [
        "print(grid.best_params_)"
      ],
      "execution_count": null,
      "outputs": [
        {
          "output_type": "stream",
          "text": [
            "{'criterion': 'gini', 'max_depth': 2, 'min_samples_split': 2, 'n_estimators': 140}\n"
          ],
          "name": "stdout"
        }
      ]
    },
    {
      "cell_type": "code",
      "metadata": {
        "colab": {
          "base_uri": "https://localhost:8080/"
        },
        "id": "Hhqw4Qw7sV8v",
        "outputId": "2681ee28-23b8-4c0a-eac4-67994e26ad35"
      },
      "source": [
        "grid.score(X_test,y_test)"
      ],
      "execution_count": null,
      "outputs": [
        {
          "output_type": "execute_result",
          "data": {
            "text/plain": [
              "0.8852459016393442"
            ]
          },
          "metadata": {
            "tags": []
          },
          "execution_count": 49
        }
      ]
    },
    {
      "cell_type": "markdown",
      "metadata": {
        "id": "AqX5KI2bAfCW"
      },
      "source": [
        "## Conclusion\n",
        "**Got a Accuracy of 89%, with best Parameters gini,max_depth=2,split=2,n_estimators=140**"
      ]
    },
    {
      "cell_type": "markdown",
      "metadata": {
        "id": "37OVexBg8FjV"
      },
      "source": [
        "## For Gradient Boosting Classifier"
      ]
    },
    {
      "cell_type": "code",
      "metadata": {
        "colab": {
          "base_uri": "https://localhost:8080/"
        },
        "id": "b6EKaxOF8Kzb",
        "outputId": "ba812dbb-61ea-48c0-bf27-21e88ec8f731"
      },
      "source": [
        "param_grid = {'n_estimators':[100,110,120,140], 'max_depth' :[2,4,8,12,16,20],'min_samples_split':[0.1,0.2,0.3],'max_leaf_nodes':[100,200,300]}\n",
        "grid = GridSearchCV(GradientBoostingClassifier(),param_grid,refit=True,verbose=3,n_jobs=-1)\n",
        "grid.fit(X_train,y_train)"
      ],
      "execution_count": 242,
      "outputs": [
        {
          "output_type": "stream",
          "text": [
            "Fitting 5 folds for each of 216 candidates, totalling 1080 fits\n"
          ],
          "name": "stdout"
        },
        {
          "output_type": "stream",
          "text": [
            "[Parallel(n_jobs=-1)]: Using backend LokyBackend with 2 concurrent workers.\n",
            "[Parallel(n_jobs=-1)]: Done  52 tasks      | elapsed:    2.6s\n",
            "[Parallel(n_jobs=-1)]: Done 244 tasks      | elapsed:   13.4s\n",
            "[Parallel(n_jobs=-1)]: Done 564 tasks      | elapsed:   40.3s\n",
            "[Parallel(n_jobs=-1)]: Done 1012 tasks      | elapsed:  1.4min\n",
            "[Parallel(n_jobs=-1)]: Done 1080 out of 1080 | elapsed:  1.5min finished\n"
          ],
          "name": "stderr"
        },
        {
          "output_type": "execute_result",
          "data": {
            "text/plain": [
              "GridSearchCV(cv=None, error_score=nan,\n",
              "             estimator=GradientBoostingClassifier(ccp_alpha=0.0,\n",
              "                                                  criterion='friedman_mse',\n",
              "                                                  init=None, learning_rate=0.1,\n",
              "                                                  loss='deviance', max_depth=3,\n",
              "                                                  max_features=None,\n",
              "                                                  max_leaf_nodes=None,\n",
              "                                                  min_impurity_decrease=0.0,\n",
              "                                                  min_impurity_split=None,\n",
              "                                                  min_samples_leaf=1,\n",
              "                                                  min_samples_split=2,\n",
              "                                                  min_weight_fraction_leaf=0.0,\n",
              "                                                  n_estimators=100,\n",
              "                                                  n_iter_n...\n",
              "                                                  presort='deprecated',\n",
              "                                                  random_state=None,\n",
              "                                                  subsample=1.0, tol=0.0001,\n",
              "                                                  validation_fraction=0.1,\n",
              "                                                  verbose=0, warm_start=False),\n",
              "             iid='deprecated', n_jobs=-1,\n",
              "             param_grid={'max_depth': [2, 4, 8, 12, 16, 20],\n",
              "                         'max_leaf_nodes': [100, 200, 300],\n",
              "                         'min_samples_split': [0.1, 0.2, 0.3],\n",
              "                         'n_estimators': [100, 110, 120, 140]},\n",
              "             pre_dispatch='2*n_jobs', refit=True, return_train_score=False,\n",
              "             scoring=None, verbose=3)"
            ]
          },
          "metadata": {
            "tags": []
          },
          "execution_count": 242
        }
      ]
    },
    {
      "cell_type": "code",
      "metadata": {
        "colab": {
          "base_uri": "https://localhost:8080/"
        },
        "id": "6xwpuptA8uEL",
        "outputId": "41ed3bdc-bdc0-4ee7-ce73-2570f900b2c1"
      },
      "source": [
        "grid.best_params_"
      ],
      "execution_count": 243,
      "outputs": [
        {
          "output_type": "execute_result",
          "data": {
            "text/plain": [
              "{'max_depth': 2,\n",
              " 'max_leaf_nodes': 200,\n",
              " 'min_samples_split': 0.3,\n",
              " 'n_estimators': 100}"
            ]
          },
          "metadata": {
            "tags": []
          },
          "execution_count": 243
        }
      ]
    },
    {
      "cell_type": "code",
      "metadata": {
        "colab": {
          "base_uri": "https://localhost:8080/"
        },
        "id": "HzeYdofa8pBd",
        "outputId": "a9e7ad37-2dc3-4202-b395-9a594d2a1089"
      },
      "source": [
        "grid.score(X_test,y_test)"
      ],
      "execution_count": 244,
      "outputs": [
        {
          "output_type": "execute_result",
          "data": {
            "text/plain": [
              "0.8524590163934426"
            ]
          },
          "metadata": {
            "tags": []
          },
          "execution_count": 244
        }
      ]
    },
    {
      "cell_type": "markdown",
      "metadata": {
        "id": "hZJkcZVC01Ag"
      },
      "source": [
        "## Conclusion\n",
        "**The Accuracy got Increased from 82% to 85% 2,100,0.2,140**"
      ]
    },
    {
      "cell_type": "markdown",
      "metadata": {
        "id": "_fl7voRfg6Kv"
      },
      "source": [
        "## Parameter Tuning using Cross Validation Score"
      ]
    },
    {
      "cell_type": "code",
      "metadata": {
        "id": "TkmpJ6fhgMZm"
      },
      "source": [
        "from sklearn.model_selection import cross_val_score"
      ],
      "execution_count": null,
      "outputs": []
    },
    {
      "cell_type": "markdown",
      "metadata": {
        "id": "LA-Cm90xk9RN"
      },
      "source": [
        "## For KNN"
      ]
    },
    {
      "cell_type": "code",
      "metadata": {
        "colab": {
          "base_uri": "https://localhost:8080/"
        },
        "id": "fCHk7RmYgNbK",
        "outputId": "28882f80-ac29-47b0-b2d7-6ff077efaf2d"
      },
      "source": [
        "cross_val_score(KNeighborsClassifier(n_neighbors=9),X_train,y_train,cv=20)"
      ],
      "execution_count": null,
      "outputs": [
        {
          "output_type": "execute_result",
          "data": {
            "text/plain": [
              "array([0.83333333, 0.66666667, 0.5       , 0.91666667, 0.58333333,\n",
              "       0.75      , 0.5       , 0.58333333, 0.83333333, 0.75      ,\n",
              "       0.83333333, 0.58333333, 0.72727273, 0.72727273, 0.72727273,\n",
              "       0.90909091, 0.54545455, 0.45454545, 0.63636364, 0.54545455])"
            ]
          },
          "metadata": {
            "tags": []
          },
          "execution_count": 193
        }
      ]
    },
    {
      "cell_type": "markdown",
      "metadata": {
        "id": "y9aIhzsLk_Sy"
      },
      "source": [
        "## For SVM"
      ]
    },
    {
      "cell_type": "code",
      "metadata": {
        "colab": {
          "base_uri": "https://localhost:8080/"
        },
        "id": "TdrW_vG7g_gn",
        "outputId": "f7d285dc-f60b-45cb-f896-b2444a0319a1"
      },
      "source": [
        "cross_val_score(SVC(C=100, break_ties=False, cache_size=200, class_weight=None, coef0=0.0,\n",
        "    decision_function_shape='ovr', degree=3, gamma=0.0001, kernel='rbf',\n",
        "    max_iter=-1, probability=False, random_state=None, shrinking=True,\n",
        "    tol=0.001, verbose=False),X_train,y_train,cv=9)"
      ],
      "execution_count": null,
      "outputs": [
        {
          "output_type": "execute_result",
          "data": {
            "text/plain": [
              "array([0.80769231, 0.84615385, 0.76923077, 0.69230769, 0.73076923,\n",
              "       0.69230769, 0.73076923, 0.76      , 0.72      ])"
            ]
          },
          "metadata": {
            "tags": []
          },
          "execution_count": 194
        }
      ]
    },
    {
      "cell_type": "markdown",
      "metadata": {
        "id": "LalHFYctmH7Q"
      },
      "source": [
        "## Conclusion\n",
        "**Accuracy got further increased from 85% to 88%**"
      ]
    },
    {
      "cell_type": "markdown",
      "metadata": {
        "id": "xc3ow0gKmPj7"
      },
      "source": [
        "## For Logistic Regression Model"
      ]
    },
    {
      "cell_type": "code",
      "metadata": {
        "colab": {
          "base_uri": "https://localhost:8080/"
        },
        "id": "XOI4ba2XhmdQ",
        "outputId": "cbe195ba-f2e5-42c7-829d-3eacd666c8ea"
      },
      "source": [
        "cross_val_score(LogisticRegression(C=5),X_train,y_train,cv=9)"
      ],
      "execution_count": null,
      "outputs": [
        {
          "output_type": "stream",
          "text": [
            "/usr/local/lib/python3.7/dist-packages/sklearn/linear_model/_logistic.py:940: ConvergenceWarning:\n",
            "\n",
            "lbfgs failed to converge (status=1):\n",
            "STOP: TOTAL NO. of ITERATIONS REACHED LIMIT.\n",
            "\n",
            "Increase the number of iterations (max_iter) or scale the data as shown in:\n",
            "    https://scikit-learn.org/stable/modules/preprocessing.html\n",
            "Please also refer to the documentation for alternative solver options:\n",
            "    https://scikit-learn.org/stable/modules/linear_model.html#logistic-regression\n",
            "\n",
            "/usr/local/lib/python3.7/dist-packages/sklearn/linear_model/_logistic.py:940: ConvergenceWarning:\n",
            "\n",
            "lbfgs failed to converge (status=1):\n",
            "STOP: TOTAL NO. of ITERATIONS REACHED LIMIT.\n",
            "\n",
            "Increase the number of iterations (max_iter) or scale the data as shown in:\n",
            "    https://scikit-learn.org/stable/modules/preprocessing.html\n",
            "Please also refer to the documentation for alternative solver options:\n",
            "    https://scikit-learn.org/stable/modules/linear_model.html#logistic-regression\n",
            "\n",
            "/usr/local/lib/python3.7/dist-packages/sklearn/linear_model/_logistic.py:940: ConvergenceWarning:\n",
            "\n",
            "lbfgs failed to converge (status=1):\n",
            "STOP: TOTAL NO. of ITERATIONS REACHED LIMIT.\n",
            "\n",
            "Increase the number of iterations (max_iter) or scale the data as shown in:\n",
            "    https://scikit-learn.org/stable/modules/preprocessing.html\n",
            "Please also refer to the documentation for alternative solver options:\n",
            "    https://scikit-learn.org/stable/modules/linear_model.html#logistic-regression\n",
            "\n",
            "/usr/local/lib/python3.7/dist-packages/sklearn/linear_model/_logistic.py:940: ConvergenceWarning:\n",
            "\n",
            "lbfgs failed to converge (status=1):\n",
            "STOP: TOTAL NO. of ITERATIONS REACHED LIMIT.\n",
            "\n",
            "Increase the number of iterations (max_iter) or scale the data as shown in:\n",
            "    https://scikit-learn.org/stable/modules/preprocessing.html\n",
            "Please also refer to the documentation for alternative solver options:\n",
            "    https://scikit-learn.org/stable/modules/linear_model.html#logistic-regression\n",
            "\n",
            "/usr/local/lib/python3.7/dist-packages/sklearn/linear_model/_logistic.py:940: ConvergenceWarning:\n",
            "\n",
            "lbfgs failed to converge (status=1):\n",
            "STOP: TOTAL NO. of ITERATIONS REACHED LIMIT.\n",
            "\n",
            "Increase the number of iterations (max_iter) or scale the data as shown in:\n",
            "    https://scikit-learn.org/stable/modules/preprocessing.html\n",
            "Please also refer to the documentation for alternative solver options:\n",
            "    https://scikit-learn.org/stable/modules/linear_model.html#logistic-regression\n",
            "\n",
            "/usr/local/lib/python3.7/dist-packages/sklearn/linear_model/_logistic.py:940: ConvergenceWarning:\n",
            "\n",
            "lbfgs failed to converge (status=1):\n",
            "STOP: TOTAL NO. of ITERATIONS REACHED LIMIT.\n",
            "\n",
            "Increase the number of iterations (max_iter) or scale the data as shown in:\n",
            "    https://scikit-learn.org/stable/modules/preprocessing.html\n",
            "Please also refer to the documentation for alternative solver options:\n",
            "    https://scikit-learn.org/stable/modules/linear_model.html#logistic-regression\n",
            "\n",
            "/usr/local/lib/python3.7/dist-packages/sklearn/linear_model/_logistic.py:940: ConvergenceWarning:\n",
            "\n",
            "lbfgs failed to converge (status=1):\n",
            "STOP: TOTAL NO. of ITERATIONS REACHED LIMIT.\n",
            "\n",
            "Increase the number of iterations (max_iter) or scale the data as shown in:\n",
            "    https://scikit-learn.org/stable/modules/preprocessing.html\n",
            "Please also refer to the documentation for alternative solver options:\n",
            "    https://scikit-learn.org/stable/modules/linear_model.html#logistic-regression\n",
            "\n",
            "/usr/local/lib/python3.7/dist-packages/sklearn/linear_model/_logistic.py:940: ConvergenceWarning:\n",
            "\n",
            "lbfgs failed to converge (status=1):\n",
            "STOP: TOTAL NO. of ITERATIONS REACHED LIMIT.\n",
            "\n",
            "Increase the number of iterations (max_iter) or scale the data as shown in:\n",
            "    https://scikit-learn.org/stable/modules/preprocessing.html\n",
            "Please also refer to the documentation for alternative solver options:\n",
            "    https://scikit-learn.org/stable/modules/linear_model.html#logistic-regression\n",
            "\n",
            "/usr/local/lib/python3.7/dist-packages/sklearn/linear_model/_logistic.py:940: ConvergenceWarning:\n",
            "\n",
            "lbfgs failed to converge (status=1):\n",
            "STOP: TOTAL NO. of ITERATIONS REACHED LIMIT.\n",
            "\n",
            "Increase the number of iterations (max_iter) or scale the data as shown in:\n",
            "    https://scikit-learn.org/stable/modules/preprocessing.html\n",
            "Please also refer to the documentation for alternative solver options:\n",
            "    https://scikit-learn.org/stable/modules/linear_model.html#logistic-regression\n",
            "\n"
          ],
          "name": "stderr"
        },
        {
          "output_type": "execute_result",
          "data": {
            "text/plain": [
              "array([0.88461538, 0.88461538, 0.84615385, 0.84615385, 0.84615385,\n",
              "       0.88461538, 0.84615385, 0.76      , 0.76      ])"
            ]
          },
          "metadata": {
            "tags": []
          },
          "execution_count": 195
        }
      ]
    },
    {
      "cell_type": "markdown",
      "metadata": {
        "id": "tHucEdhRmYjX"
      },
      "source": [
        "## Conclusion \n",
        "**Got a Accuracy of 89%**"
      ]
    },
    {
      "cell_type": "markdown",
      "metadata": {
        "id": "y82jeensmd_B"
      },
      "source": [
        "## For Decesion Tree Classifier Model"
      ]
    },
    {
      "cell_type": "code",
      "metadata": {
        "colab": {
          "base_uri": "https://localhost:8080/"
        },
        "id": "VpSR6ialiZz3",
        "outputId": "1598c47f-229f-4f16-da3a-b5f6d2bd41bd"
      },
      "source": [
        "cross_val_score(DecisionTreeClassifier(criterion='gini',max_depth= 4),X_train,y_train,cv=15)"
      ],
      "execution_count": null,
      "outputs": [
        {
          "output_type": "execute_result",
          "data": {
            "text/plain": [
              "array([0.75      , 0.875     , 0.75      , 0.75      , 0.8125    ,\n",
              "       0.75      , 0.6875    , 0.8       , 0.73333333, 0.66666667,\n",
              "       0.8       , 0.66666667, 0.73333333, 0.6       , 0.73333333])"
            ]
          },
          "metadata": {
            "tags": []
          },
          "execution_count": 196
        }
      ]
    },
    {
      "cell_type": "markdown",
      "metadata": {
        "id": "_RAZB78wnSDa"
      },
      "source": [
        "## Conclusion\n",
        "**Accuracy got further Increased from 85%(using grid scearch) to 94%(using cross_val)**"
      ]
    },
    {
      "cell_type": "markdown",
      "metadata": {
        "id": "6vJ2XeMwpP1q"
      },
      "source": [
        "## For Random Forest Classifier Model"
      ]
    },
    {
      "cell_type": "code",
      "metadata": {
        "colab": {
          "base_uri": "https://localhost:8080/"
        },
        "id": "ItnxO2x3pTPG",
        "outputId": "35838b9a-a020-46e9-f423-a74edb99e984"
      },
      "source": [
        "y=cross_val_score(RandomForestClassifier(criterion='gini',max_depth=4, n_estimators=100),X_train,y_train,cv=15)\n",
        "y.mean()"
      ],
      "execution_count": null,
      "outputs": [
        {
          "output_type": "execute_result",
          "data": {
            "text/plain": [
              "0.818888888888889"
            ]
          },
          "metadata": {
            "tags": []
          },
          "execution_count": 197
        }
      ]
    },
    {
      "cell_type": "markdown",
      "metadata": {
        "id": "7KZpJGd0puio"
      },
      "source": [
        "## "
      ]
    },
    {
      "cell_type": "markdown",
      "metadata": {
        "id": "Xckivg2vSGBf"
      },
      "source": [
        "## Using Artificial Nueral Networks"
      ]
    },
    {
      "cell_type": "code",
      "metadata": {
        "colab": {
          "base_uri": "https://localhost:8080/"
        },
        "id": "_jtGvSbrSKA0",
        "outputId": "cf57ea34-2487-43a3-ce37-4f7850435739"
      },
      "source": [
        "from tensorflow import keras\n",
        "!pip install keras-tuner\n",
        "from tensorflow.keras import layers\n",
        "from kerastuner.tuners import RandomSearch"
      ],
      "execution_count": null,
      "outputs": [
        {
          "output_type": "stream",
          "text": [
            "Requirement already satisfied: keras-tuner in /usr/local/lib/python3.7/dist-packages (1.0.2)\n",
            "Requirement already satisfied: tqdm in /usr/local/lib/python3.7/dist-packages (from keras-tuner) (4.41.1)\n",
            "Requirement already satisfied: tabulate in /usr/local/lib/python3.7/dist-packages (from keras-tuner) (0.8.9)\n",
            "Requirement already satisfied: requests in /usr/local/lib/python3.7/dist-packages (from keras-tuner) (2.23.0)\n",
            "Requirement already satisfied: scipy in /usr/local/lib/python3.7/dist-packages (from keras-tuner) (1.4.1)\n",
            "Requirement already satisfied: scikit-learn in /usr/local/lib/python3.7/dist-packages (from keras-tuner) (0.22.2.post1)\n",
            "Requirement already satisfied: packaging in /usr/local/lib/python3.7/dist-packages (from keras-tuner) (20.9)\n",
            "Requirement already satisfied: numpy in /usr/local/lib/python3.7/dist-packages (from keras-tuner) (1.19.5)\n",
            "Requirement already satisfied: colorama in /usr/local/lib/python3.7/dist-packages (from keras-tuner) (0.4.4)\n",
            "Requirement already satisfied: terminaltables in /usr/local/lib/python3.7/dist-packages (from keras-tuner) (3.1.0)\n",
            "Requirement already satisfied: future in /usr/local/lib/python3.7/dist-packages (from keras-tuner) (0.16.0)\n",
            "Requirement already satisfied: idna<3,>=2.5 in /usr/local/lib/python3.7/dist-packages (from requests->keras-tuner) (2.10)\n",
            "Requirement already satisfied: chardet<4,>=3.0.2 in /usr/local/lib/python3.7/dist-packages (from requests->keras-tuner) (3.0.4)\n",
            "Requirement already satisfied: urllib3!=1.25.0,!=1.25.1,<1.26,>=1.21.1 in /usr/local/lib/python3.7/dist-packages (from requests->keras-tuner) (1.24.3)\n",
            "Requirement already satisfied: certifi>=2017.4.17 in /usr/local/lib/python3.7/dist-packages (from requests->keras-tuner) (2020.12.5)\n",
            "Requirement already satisfied: joblib>=0.11 in /usr/local/lib/python3.7/dist-packages (from scikit-learn->keras-tuner) (1.0.1)\n",
            "Requirement already satisfied: pyparsing>=2.0.2 in /usr/local/lib/python3.7/dist-packages (from packaging->keras-tuner) (2.4.7)\n"
          ],
          "name": "stdout"
        }
      ]
    },
    {
      "cell_type": "code",
      "metadata": {
        "id": "uRK7Vnm-Sao2"
      },
      "source": [
        "\n",
        "def build_model(hp):\n",
        "    model = keras.Sequential()\n",
        "    for i in range(hp.Int('num_layers', 2,20)):\n",
        "        model.add(layers.Dense(units=hp.Int('units_' + str(i),\n",
        "                                            min_value=32,\n",
        "                                            max_value=1024,\n",
        "                                            step=32),\n",
        "                               activation='relu'))\n",
        "    model.add(layers.Dense(1, activation='sigmoid'))\n",
        "    model.compile(\n",
        "        optimizer=keras.optimizers.Adam(\n",
        "            hp.Choice('learning_rate', [1e-2, 1e-3, 1e-4])),\n",
        "        loss='binary_crossentropy',\n",
        "        metrics=['accuracy'])\n",
        "    return model"
      ],
      "execution_count": null,
      "outputs": []
    },
    {
      "cell_type": "code",
      "metadata": {
        "id": "xGPGZWWqSfPq"
      },
      "source": [
        "tuner = RandomSearch(\n",
        "    build_model,\n",
        "    objective='val_accuracy',\n",
        "    max_trials=5,\n",
        "    executions_per_trial=4,\n",
        "    directory='project7',\n",
        "    project_name='Heart Disease Classification')\n"
      ],
      "execution_count": null,
      "outputs": []
    },
    {
      "cell_type": "code",
      "metadata": {
        "colab": {
          "base_uri": "https://localhost:8080/"
        },
        "id": "g9fO4C1LTKbg",
        "outputId": "5d1cd219-422b-4b6a-cc8c-be1b9c67a36c"
      },
      "source": [
        "tuner.search(X_train, y_train,\n",
        "             epochs=10,\n",
        "             validation_data=(X_test, y_test))\n"
      ],
      "execution_count": null,
      "outputs": [
        {
          "output_type": "stream",
          "text": [
            "Trial 5 Complete [00h 00m 05s]\n",
            "val_accuracy: 0.6844262033700943\n",
            "\n",
            "Best val_accuracy So Far: 0.7991803288459778\n",
            "Total elapsed time: 00h 00m 33s\n",
            "INFO:tensorflow:Oracle triggered exit\n"
          ],
          "name": "stdout"
        }
      ]
    },
    {
      "cell_type": "code",
      "metadata": {
        "id": "-OAglMNXXP62"
      },
      "source": [
        "best_model=tuner.get_best_models()[0]"
      ],
      "execution_count": null,
      "outputs": []
    },
    {
      "cell_type": "code",
      "metadata": {
        "colab": {
          "base_uri": "https://localhost:8080/"
        },
        "id": "561txKqFXmQ4",
        "outputId": "8b922850-0c31-492b-9d5f-47555f10cb87"
      },
      "source": [
        "best_model.evaluate(X_test,y_test)"
      ],
      "execution_count": null,
      "outputs": [
        {
          "output_type": "stream",
          "text": [
            "2/2 [==============================] - 0s 4ms/step - loss: 0.5717 - accuracy: 0.7959\n"
          ],
          "name": "stdout"
        },
        {
          "output_type": "execute_result",
          "data": {
            "text/plain": [
              "[0.5749691128730774, 0.8032786846160889]"
            ]
          },
          "metadata": {
            "tags": []
          },
          "execution_count": 94
        }
      ]
    },
    {
      "cell_type": "markdown",
      "metadata": {
        "id": "5KXW6n0HX7ur"
      },
      "source": [
        "## Clustering the data"
      ]
    },
    {
      "cell_type": "code",
      "metadata": {
        "id": "bEKRIihiIvY0"
      },
      "source": [
        "X_temp=new_df.iloc[:,[0,4]].values"
      ],
      "execution_count": null,
      "outputs": []
    },
    {
      "cell_type": "code",
      "metadata": {
        "colab": {
          "base_uri": "https://localhost:8080/"
        },
        "id": "m_Zzoa-BIrGV",
        "outputId": "2f7a00dc-7e88-42c2-b9a1-02fab200495e"
      },
      "source": [
        "from sklearn.cluster import KMeans\n",
        "wcss=[]\n",
        "for i in range(1,11):\n",
        "    xgb=KMeans(n_clusters=i,init='k-means++')\n",
        "    xgb.fit(X_temp)\n",
        "    wcss.append(xgb.inertia_)\n",
        "plt.plot(range(1,11),wcss)\n",
        "plt.show()\n",
        "\n",
        "# Using Elbow method the value of k must be 4"
      ],
      "execution_count": null,
      "outputs": [
        {
          "output_type": "display_data",
          "data": {
            "image/png": "[encoded data removed]",
            "text/plain": [
              "<Figure size 432x288 with 1 Axes>"
            ]
          },
          "metadata": {
            "tags": [],
            "needs_background": "light"
          }
        }
      ]
    },
    {
      "cell_type": "code",
      "metadata": {
        "id": "lHtfeCShSZAM"
      },
      "source": [
        "xgb=KMeans(n_clusters=4,init='k-means++')\n",
        "y_pred=xgb.fit_predict(X_temp)"
      ],
      "execution_count": null,
      "outputs": []
    },
    {
      "cell_type": "code",
      "metadata": {
        "colab": {
          "base_uri": "https://localhost:8080/"
        },
        "id": "UuVJWWkLSgNK",
        "outputId": "48586a54-5055-4be9-f144-aaa06512bf67"
      },
      "source": [
        "y_pred"
      ],
      "execution_count": null,
      "outputs": [
        {
          "output_type": "execute_result",
          "data": {
            "text/plain": [
              "array([2, 0, 0, 0, 2, 2, 0, 1, 2, 2, 0, 0, 3, 2, 0, 0, 2, 2, 2, 2, 0, 2,\n",
              "       2, 2, 1, 2, 3, 2, 0, 3, 0, 0, 0, 0, 2, 2, 2, 2, 1, 2, 0, 0, 2, 0,\n",
              "       2, 2, 0, 2, 0, 0, 0, 3, 2, 2, 0, 3, 0, 3, 3, 0, 2, 2, 3, 0, 0, 0,\n",
              "       0, 3, 2, 0, 2, 0, 2, 0, 3, 3, 0, 3, 2, 3, 3, 0, 3, 3, 3, 0, 0, 2,\n",
              "       0, 3, 2, 2, 3, 0, 0, 2, 2, 0, 0, 0, 1, 2, 0, 3, 1, 2, 2, 3, 0, 0,\n",
              "       0, 0, 3, 2, 0, 2, 3, 3, 3, 3, 2, 2, 0, 1, 2, 0, 3, 0, 0, 0, 0, 3,\n",
              "       0, 0, 3, 0, 3, 2, 1, 0, 2, 0, 0, 1, 3, 1, 2, 2, 0, 0, 0, 0, 0, 0,\n",
              "       0, 2, 2, 1, 0, 2, 0, 2, 0, 3, 0, 0, 0, 3, 0, 2, 0, 2, 0, 2, 0, 3,\n",
              "       2, 3, 0, 0, 2, 3, 0, 0, 0, 2, 2, 1, 2, 0, 0, 3, 3, 0, 2, 1, 1, 0,\n",
              "       3, 2, 0, 2, 0, 0, 0, 2, 0, 0, 0, 0, 2, 0, 2, 2, 2, 1, 3, 0, 0, 1,\n",
              "       0, 3, 1, 1, 0, 2, 0, 2, 0, 1, 2, 2, 0, 0, 2, 1, 1, 2, 2, 0, 2, 3,\n",
              "       1, 2, 0, 2, 2, 0, 1, 3, 0, 3, 3, 3, 1, 0, 0, 0, 0, 2, 0, 3, 3, 0,\n",
              "       2, 0, 2, 2, 2, 0, 0, 2, 2, 2, 2, 2, 3, 0, 2, 3, 1, 2, 0, 2, 0, 1,\n",
              "       2, 3, 2, 0, 0], dtype=int32)"
            ]
          },
          "metadata": {
            "tags": []
          },
          "execution_count": 201
        }
      ]
    },
    {
      "cell_type": "code",
      "metadata": {
        "colab": {
          "base_uri": "https://localhost:8080/"
        },
        "id": "1kKCH53GSlT4",
        "outputId": "9aec744f-c40d-4779-b8b7-ed76eb047c15"
      },
      "source": [
        "plt.scatter(X_temp[y_pred==0,0],X_temp[y_pred==0,1],color='r',s=100,label='Cluster_1')\n",
        "plt.scatter(X_temp[y_pred==1,0],X_temp[y_pred==1,1],color='b',s=100,label='Cluster_2')\n",
        "plt.scatter(X_temp[y_pred==2,0],X_temp[y_pred==2,1],color='g',s=100,label='Cluster_3')\n",
        "plt.scatter(X_temp[y_pred==3,0],X_temp[y_pred==3,1],color='purple',s=100,label='Cluster_4')\n",
        "plt.legend()"
      ],
      "execution_count": null,
      "outputs": [
        {
          "output_type": "execute_result",
          "data": {
            "text/plain": [
              "<matplotlib.legend.Legend at 0x7fa3b33f9b90>"
            ]
          },
          "metadata": {
            "tags": []
          },
          "execution_count": 202
        },
        {
          "output_type": "display_data",
          "data": {
            "image/png": "[encoded data removed]",
            "text/plain": [
              "<Figure size 432x288 with 1 Axes>"
            ]
          },
          "metadata": {
            "tags": [],
            "needs_background": "light"
          }
        }
      ]
    },
    {
      "cell_type": "markdown",
      "metadata": {
        "id": "FLlji99DYQDD"
      },
      "source": [
        "## Building Confusion Matrix"
      ]
    },
    {
      "cell_type": "code",
      "metadata": {
        "id": "XM7liTvhYijS"
      },
      "source": [
        "from xgboost import XGBClassifier\n",
        "xgb1=XGBClassifier()\n",
        "xgb1.fit(X_train,y_train)\n",
        "y_predicted=xgb1.predict(X_test)"
      ],
      "execution_count": 253,
      "outputs": []
    },
    {
      "cell_type": "code",
      "metadata": {
        "colab": {
          "base_uri": "https://localhost:8080/"
        },
        "id": "YAfyIv0mYTjT",
        "outputId": "2859122f-6415-4469-c7e9-af9257d74a23"
      },
      "source": [
        "# Making Confusion matrix\n",
        "from sklearn.metrics import confusion_matrix,accuracy_score\n",
        "cm=confusion_matrix(y_test,y_predicted)\n",
        "accuracy_score(y_test,y_predicted)"
      ],
      "execution_count": 254,
      "outputs": [
        {
          "output_type": "execute_result",
          "data": {
            "text/plain": [
              "0.8524590163934426"
            ]
          },
          "metadata": {
            "tags": []
          },
          "execution_count": 254
        }
      ]
    },
    {
      "cell_type": "code",
      "metadata": {
        "colab": {
          "base_uri": "https://localhost:8080/",
          "height": 459
        },
        "id": "7W0UynHNYdui",
        "outputId": "a17aa547-956c-4909-a76b-d744d73b97bc"
      },
      "source": [
        "import seaborn as sn \n",
        "plt.figure(figsize=(10,7))\n",
        "sn.heatmap(cm,annot=True)\n",
        "plt.xlabel('predicted')\n",
        "plt.ylabel('Truth')"
      ],
      "execution_count": 255,
      "outputs": [
        {
          "output_type": "execute_result",
          "data": {
            "text/plain": [
              "Text(69.0, 0.5, 'Truth')"
            ]
          },
          "metadata": {
            "tags": []
          },
          "execution_count": 255
        },
        {
          "output_type": "display_data",
          "data": {
            "image/png": "[encoded data removed]",
            "text/plain": [
              "<Figure size 720x504 with 2 Axes>"
            ]
          },
          "metadata": {
            "tags": [],
            "needs_background": "light"
          }
        }
      ]
    }
  ]
}